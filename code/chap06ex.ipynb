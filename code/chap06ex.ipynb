{
 "cells": [
  {
   "cell_type": "markdown",
   "metadata": {},
   "source": [
    "# Examples and Exercises from Think Stats, 2nd Edition\n",
    "\n",
    "http://thinkstats2.com\n",
    "\n",
    "Copyright 2016 Allen B. Downey\n",
    "\n",
    "MIT License: https://opensource.org/licenses/MIT\n"
   ]
  },
  {
   "cell_type": "code",
   "execution_count": 1,
   "metadata": {},
   "outputs": [],
   "source": [
    "from __future__ import print_function, division\n",
    "\n",
    "%matplotlib inline\n",
    "\n",
    "import numpy as np\n",
    "\n",
    "import brfss\n",
    "\n",
    "import thinkstats2\n",
    "import thinkplot"
   ]
  },
  {
   "cell_type": "code",
   "execution_count": 2,
   "metadata": {},
   "outputs": [],
   "source": [
    "import pandas as pd\n",
    "import scipy.stats as stats\n",
    "import matplotlib\n",
    "import matplotlib.pyplot as plt"
   ]
  },
  {
   "cell_type": "markdown",
   "metadata": {},
   "source": [
    "I'll start with the data from the BRFSS again."
   ]
  },
  {
   "cell_type": "code",
   "execution_count": 3,
   "metadata": {},
   "outputs": [],
   "source": [
    "df = brfss.ReadBrfss(nrows=None)"
   ]
  },
  {
   "cell_type": "code",
   "execution_count": 4,
   "metadata": {},
   "outputs": [
    {
     "data": {
      "text/html": [
       "<div>\n",
       "<style scoped>\n",
       "    .dataframe tbody tr th:only-of-type {\n",
       "        vertical-align: middle;\n",
       "    }\n",
       "\n",
       "    .dataframe tbody tr th {\n",
       "        vertical-align: top;\n",
       "    }\n",
       "\n",
       "    .dataframe thead th {\n",
       "        text-align: right;\n",
       "    }\n",
       "</style>\n",
       "<table border=\"1\" class=\"dataframe\">\n",
       "  <thead>\n",
       "    <tr style=\"text-align: right;\">\n",
       "      <th></th>\n",
       "      <th>age</th>\n",
       "      <th>sex</th>\n",
       "      <th>wtyrago</th>\n",
       "      <th>finalwt</th>\n",
       "      <th>wtkg2</th>\n",
       "      <th>htm3</th>\n",
       "    </tr>\n",
       "  </thead>\n",
       "  <tbody>\n",
       "    <tr>\n",
       "      <th>0</th>\n",
       "      <td>82.0</td>\n",
       "      <td>2</td>\n",
       "      <td>76.363636</td>\n",
       "      <td>185.870345</td>\n",
       "      <td>70.91</td>\n",
       "      <td>157.0</td>\n",
       "    </tr>\n",
       "    <tr>\n",
       "      <th>1</th>\n",
       "      <td>65.0</td>\n",
       "      <td>2</td>\n",
       "      <td>72.727273</td>\n",
       "      <td>126.603027</td>\n",
       "      <td>72.73</td>\n",
       "      <td>163.0</td>\n",
       "    </tr>\n",
       "    <tr>\n",
       "      <th>2</th>\n",
       "      <td>48.0</td>\n",
       "      <td>2</td>\n",
       "      <td>NaN</td>\n",
       "      <td>181.063210</td>\n",
       "      <td>NaN</td>\n",
       "      <td>165.0</td>\n",
       "    </tr>\n",
       "    <tr>\n",
       "      <th>3</th>\n",
       "      <td>61.0</td>\n",
       "      <td>1</td>\n",
       "      <td>73.636364</td>\n",
       "      <td>517.926275</td>\n",
       "      <td>73.64</td>\n",
       "      <td>170.0</td>\n",
       "    </tr>\n",
       "    <tr>\n",
       "      <th>4</th>\n",
       "      <td>26.0</td>\n",
       "      <td>1</td>\n",
       "      <td>88.636364</td>\n",
       "      <td>1252.624630</td>\n",
       "      <td>88.64</td>\n",
       "      <td>185.0</td>\n",
       "    </tr>\n",
       "    <tr>\n",
       "      <th>5</th>\n",
       "      <td>42.0</td>\n",
       "      <td>1</td>\n",
       "      <td>118.181818</td>\n",
       "      <td>415.161314</td>\n",
       "      <td>109.09</td>\n",
       "      <td>183.0</td>\n",
       "    </tr>\n",
       "    <tr>\n",
       "      <th>6</th>\n",
       "      <td>40.0</td>\n",
       "      <td>2</td>\n",
       "      <td>50.000000</td>\n",
       "      <td>422.810541</td>\n",
       "      <td>50.00</td>\n",
       "      <td>157.0</td>\n",
       "    </tr>\n",
       "    <tr>\n",
       "      <th>7</th>\n",
       "      <td>24.0</td>\n",
       "      <td>2</td>\n",
       "      <td>131.818182</td>\n",
       "      <td>1280.585980</td>\n",
       "      <td>122.73</td>\n",
       "      <td>178.0</td>\n",
       "    </tr>\n",
       "    <tr>\n",
       "      <th>8</th>\n",
       "      <td>37.0</td>\n",
       "      <td>1</td>\n",
       "      <td>87.727273</td>\n",
       "      <td>1245.060440</td>\n",
       "      <td>90.00</td>\n",
       "      <td>178.0</td>\n",
       "    </tr>\n",
       "    <tr>\n",
       "      <th>9</th>\n",
       "      <td>65.0</td>\n",
       "      <td>1</td>\n",
       "      <td>77.272727</td>\n",
       "      <td>382.738158</td>\n",
       "      <td>77.27</td>\n",
       "      <td>173.0</td>\n",
       "    </tr>\n",
       "    <tr>\n",
       "      <th>10</th>\n",
       "      <td>28.0</td>\n",
       "      <td>1</td>\n",
       "      <td>52.272727</td>\n",
       "      <td>3131.561570</td>\n",
       "      <td>63.64</td>\n",
       "      <td>170.0</td>\n",
       "    </tr>\n",
       "    <tr>\n",
       "      <th>11</th>\n",
       "      <td>68.0</td>\n",
       "      <td>2</td>\n",
       "      <td>86.363636</td>\n",
       "      <td>506.412109</td>\n",
       "      <td>78.18</td>\n",
       "      <td>168.0</td>\n",
       "    </tr>\n",
       "    <tr>\n",
       "      <th>12</th>\n",
       "      <td>40.0</td>\n",
       "      <td>2</td>\n",
       "      <td>62.727273</td>\n",
       "      <td>422.810541</td>\n",
       "      <td>62.73</td>\n",
       "      <td>175.0</td>\n",
       "    </tr>\n",
       "    <tr>\n",
       "      <th>13</th>\n",
       "      <td>49.0</td>\n",
       "      <td>1</td>\n",
       "      <td>127.272727</td>\n",
       "      <td>274.170333</td>\n",
       "      <td>127.27</td>\n",
       "      <td>183.0</td>\n",
       "    </tr>\n",
       "    <tr>\n",
       "      <th>14</th>\n",
       "      <td>24.0</td>\n",
       "      <td>2</td>\n",
       "      <td>95.454545</td>\n",
       "      <td>2561.171960</td>\n",
       "      <td>95.45</td>\n",
       "      <td>175.0</td>\n",
       "    </tr>\n",
       "    <tr>\n",
       "      <th>15</th>\n",
       "      <td>49.0</td>\n",
       "      <td>2</td>\n",
       "      <td>88.636364</td>\n",
       "      <td>181.063210</td>\n",
       "      <td>88.64</td>\n",
       "      <td>157.0</td>\n",
       "    </tr>\n",
       "    <tr>\n",
       "      <th>16</th>\n",
       "      <td>36.0</td>\n",
       "      <td>2</td>\n",
       "      <td>113.636364</td>\n",
       "      <td>211.405271</td>\n",
       "      <td>90.91</td>\n",
       "      <td>168.0</td>\n",
       "    </tr>\n",
       "    <tr>\n",
       "      <th>17</th>\n",
       "      <td>48.0</td>\n",
       "      <td>2</td>\n",
       "      <td>NaN</td>\n",
       "      <td>181.063210</td>\n",
       "      <td>50.00</td>\n",
       "      <td>155.0</td>\n",
       "    </tr>\n",
       "    <tr>\n",
       "      <th>18</th>\n",
       "      <td>65.0</td>\n",
       "      <td>2</td>\n",
       "      <td>100.000000</td>\n",
       "      <td>253.206055</td>\n",
       "      <td>100.00</td>\n",
       "      <td>160.0</td>\n",
       "    </tr>\n",
       "    <tr>\n",
       "      <th>19</th>\n",
       "      <td>75.0</td>\n",
       "      <td>2</td>\n",
       "      <td>72.727273</td>\n",
       "      <td>185.870345</td>\n",
       "      <td>72.73</td>\n",
       "      <td>165.0</td>\n",
       "    </tr>\n",
       "    <tr>\n",
       "      <th>20</th>\n",
       "      <td>67.0</td>\n",
       "      <td>1</td>\n",
       "      <td>76.363636</td>\n",
       "      <td>382.738158</td>\n",
       "      <td>76.36</td>\n",
       "      <td>157.0</td>\n",
       "    </tr>\n",
       "    <tr>\n",
       "      <th>21</th>\n",
       "      <td>27.0</td>\n",
       "      <td>2</td>\n",
       "      <td>63.636364</td>\n",
       "      <td>330.717253</td>\n",
       "      <td>63.64</td>\n",
       "      <td>155.0</td>\n",
       "    </tr>\n",
       "    <tr>\n",
       "      <th>22</th>\n",
       "      <td>55.0</td>\n",
       "      <td>2</td>\n",
       "      <td>54.545455</td>\n",
       "      <td>153.403814</td>\n",
       "      <td>55.45</td>\n",
       "      <td>165.0</td>\n",
       "    </tr>\n",
       "    <tr>\n",
       "      <th>23</th>\n",
       "      <td>78.0</td>\n",
       "      <td>1</td>\n",
       "      <td>79.545455</td>\n",
       "      <td>438.143347</td>\n",
       "      <td>78.18</td>\n",
       "      <td>183.0</td>\n",
       "    </tr>\n",
       "    <tr>\n",
       "      <th>24</th>\n",
       "      <td>30.0</td>\n",
       "      <td>2</td>\n",
       "      <td>NaN</td>\n",
       "      <td>661.434505</td>\n",
       "      <td>90.91</td>\n",
       "      <td>160.0</td>\n",
       "    </tr>\n",
       "    <tr>\n",
       "      <th>25</th>\n",
       "      <td>48.0</td>\n",
       "      <td>2</td>\n",
       "      <td>61.818182</td>\n",
       "      <td>271.502466</td>\n",
       "      <td>71.82</td>\n",
       "      <td>157.0</td>\n",
       "    </tr>\n",
       "    <tr>\n",
       "      <th>26</th>\n",
       "      <td>65.0</td>\n",
       "      <td>1</td>\n",
       "      <td>77.272727</td>\n",
       "      <td>382.738158</td>\n",
       "      <td>77.27</td>\n",
       "      <td>173.0</td>\n",
       "    </tr>\n",
       "    <tr>\n",
       "      <th>27</th>\n",
       "      <td>42.0</td>\n",
       "      <td>2</td>\n",
       "      <td>52.272727</td>\n",
       "      <td>422.810541</td>\n",
       "      <td>62.73</td>\n",
       "      <td>157.0</td>\n",
       "    </tr>\n",
       "    <tr>\n",
       "      <th>28</th>\n",
       "      <td>70.0</td>\n",
       "      <td>2</td>\n",
       "      <td>59.090909</td>\n",
       "      <td>126.603027</td>\n",
       "      <td>59.09</td>\n",
       "      <td>157.0</td>\n",
       "    </tr>\n",
       "    <tr>\n",
       "      <th>29</th>\n",
       "      <td>80.0</td>\n",
       "      <td>2</td>\n",
       "      <td>65.909091</td>\n",
       "      <td>185.870345</td>\n",
       "      <td>65.91</td>\n",
       "      <td>165.0</td>\n",
       "    </tr>\n",
       "    <tr>\n",
       "      <th>...</th>\n",
       "      <td>...</td>\n",
       "      <td>...</td>\n",
       "      <td>...</td>\n",
       "      <td>...</td>\n",
       "      <td>...</td>\n",
       "      <td>...</td>\n",
       "    </tr>\n",
       "    <tr>\n",
       "      <th>414479</th>\n",
       "      <td>52.0</td>\n",
       "      <td>2</td>\n",
       "      <td>68.181818</td>\n",
       "      <td>18.649614</td>\n",
       "      <td>70.45</td>\n",
       "      <td>160.0</td>\n",
       "    </tr>\n",
       "    <tr>\n",
       "      <th>414480</th>\n",
       "      <td>62.0</td>\n",
       "      <td>1</td>\n",
       "      <td>89.090909</td>\n",
       "      <td>7.709065</td>\n",
       "      <td>89.09</td>\n",
       "      <td>178.0</td>\n",
       "    </tr>\n",
       "    <tr>\n",
       "      <th>414481</th>\n",
       "      <td>50.0</td>\n",
       "      <td>1</td>\n",
       "      <td>79.545455</td>\n",
       "      <td>13.339183</td>\n",
       "      <td>76.36</td>\n",
       "      <td>178.0</td>\n",
       "    </tr>\n",
       "    <tr>\n",
       "      <th>414482</th>\n",
       "      <td>61.0</td>\n",
       "      <td>2</td>\n",
       "      <td>51.363636</td>\n",
       "      <td>10.347511</td>\n",
       "      <td>51.36</td>\n",
       "      <td>157.0</td>\n",
       "    </tr>\n",
       "    <tr>\n",
       "      <th>414483</th>\n",
       "      <td>65.0</td>\n",
       "      <td>2</td>\n",
       "      <td>77.272727</td>\n",
       "      <td>13.561141</td>\n",
       "      <td>68.18</td>\n",
       "      <td>160.0</td>\n",
       "    </tr>\n",
       "    <tr>\n",
       "      <th>414484</th>\n",
       "      <td>39.0</td>\n",
       "      <td>2</td>\n",
       "      <td>81.818182</td>\n",
       "      <td>15.225492</td>\n",
       "      <td>87.27</td>\n",
       "      <td>170.0</td>\n",
       "    </tr>\n",
       "    <tr>\n",
       "      <th>414485</th>\n",
       "      <td>27.0</td>\n",
       "      <td>2</td>\n",
       "      <td>68.181818</td>\n",
       "      <td>37.495182</td>\n",
       "      <td>77.27</td>\n",
       "      <td>157.0</td>\n",
       "    </tr>\n",
       "    <tr>\n",
       "      <th>414486</th>\n",
       "      <td>NaN</td>\n",
       "      <td>2</td>\n",
       "      <td>61.363636</td>\n",
       "      <td>5.594069</td>\n",
       "      <td>61.36</td>\n",
       "      <td>168.0</td>\n",
       "    </tr>\n",
       "    <tr>\n",
       "      <th>414487</th>\n",
       "      <td>55.0</td>\n",
       "      <td>2</td>\n",
       "      <td>NaN</td>\n",
       "      <td>12.395319</td>\n",
       "      <td>NaN</td>\n",
       "      <td>157.0</td>\n",
       "    </tr>\n",
       "    <tr>\n",
       "      <th>414488</th>\n",
       "      <td>70.0</td>\n",
       "      <td>1</td>\n",
       "      <td>100.000000</td>\n",
       "      <td>14.994430</td>\n",
       "      <td>102.27</td>\n",
       "      <td>175.0</td>\n",
       "    </tr>\n",
       "    <tr>\n",
       "      <th>414489</th>\n",
       "      <td>23.0</td>\n",
       "      <td>2</td>\n",
       "      <td>92.727273</td>\n",
       "      <td>22.632437</td>\n",
       "      <td>86.36</td>\n",
       "      <td>163.0</td>\n",
       "    </tr>\n",
       "    <tr>\n",
       "      <th>414490</th>\n",
       "      <td>54.0</td>\n",
       "      <td>1</td>\n",
       "      <td>71.818182</td>\n",
       "      <td>30.926341</td>\n",
       "      <td>71.82</td>\n",
       "      <td>170.0</td>\n",
       "    </tr>\n",
       "    <tr>\n",
       "      <th>414491</th>\n",
       "      <td>27.0</td>\n",
       "      <td>2</td>\n",
       "      <td>NaN</td>\n",
       "      <td>28.121387</td>\n",
       "      <td>NaN</td>\n",
       "      <td>160.0</td>\n",
       "    </tr>\n",
       "    <tr>\n",
       "      <th>414492</th>\n",
       "      <td>65.0</td>\n",
       "      <td>2</td>\n",
       "      <td>70.454545</td>\n",
       "      <td>6.780570</td>\n",
       "      <td>70.45</td>\n",
       "      <td>157.0</td>\n",
       "    </tr>\n",
       "    <tr>\n",
       "      <th>414493</th>\n",
       "      <td>50.0</td>\n",
       "      <td>2</td>\n",
       "      <td>56.818182</td>\n",
       "      <td>22.376276</td>\n",
       "      <td>56.82</td>\n",
       "      <td>170.0</td>\n",
       "    </tr>\n",
       "    <tr>\n",
       "      <th>414494</th>\n",
       "      <td>49.0</td>\n",
       "      <td>2</td>\n",
       "      <td>90.909091</td>\n",
       "      <td>12.433076</td>\n",
       "      <td>68.18</td>\n",
       "      <td>152.0</td>\n",
       "    </tr>\n",
       "    <tr>\n",
       "      <th>414495</th>\n",
       "      <td>61.0</td>\n",
       "      <td>2</td>\n",
       "      <td>68.181818</td>\n",
       "      <td>12.395319</td>\n",
       "      <td>72.73</td>\n",
       "      <td>165.0</td>\n",
       "    </tr>\n",
       "    <tr>\n",
       "      <th>414496</th>\n",
       "      <td>37.0</td>\n",
       "      <td>2</td>\n",
       "      <td>61.363636</td>\n",
       "      <td>15.225492</td>\n",
       "      <td>56.82</td>\n",
       "      <td>157.0</td>\n",
       "    </tr>\n",
       "    <tr>\n",
       "      <th>414497</th>\n",
       "      <td>66.0</td>\n",
       "      <td>2</td>\n",
       "      <td>70.909091</td>\n",
       "      <td>13.561141</td>\n",
       "      <td>65.91</td>\n",
       "      <td>163.0</td>\n",
       "    </tr>\n",
       "    <tr>\n",
       "      <th>414498</th>\n",
       "      <td>34.0</td>\n",
       "      <td>1</td>\n",
       "      <td>77.272727</td>\n",
       "      <td>46.875400</td>\n",
       "      <td>75.00</td>\n",
       "      <td>173.0</td>\n",
       "    </tr>\n",
       "    <tr>\n",
       "      <th>414499</th>\n",
       "      <td>38.0</td>\n",
       "      <td>2</td>\n",
       "      <td>118.181818</td>\n",
       "      <td>15.225492</td>\n",
       "      <td>129.55</td>\n",
       "      <td>173.0</td>\n",
       "    </tr>\n",
       "    <tr>\n",
       "      <th>414500</th>\n",
       "      <td>43.0</td>\n",
       "      <td>2</td>\n",
       "      <td>66.363636</td>\n",
       "      <td>7.612746</td>\n",
       "      <td>75.00</td>\n",
       "      <td>168.0</td>\n",
       "    </tr>\n",
       "    <tr>\n",
       "      <th>414501</th>\n",
       "      <td>41.0</td>\n",
       "      <td>1</td>\n",
       "      <td>86.363636</td>\n",
       "      <td>25.989792</td>\n",
       "      <td>86.36</td>\n",
       "      <td>175.0</td>\n",
       "    </tr>\n",
       "    <tr>\n",
       "      <th>414502</th>\n",
       "      <td>68.0</td>\n",
       "      <td>2</td>\n",
       "      <td>NaN</td>\n",
       "      <td>13.561141</td>\n",
       "      <td>NaN</td>\n",
       "      <td>165.0</td>\n",
       "    </tr>\n",
       "    <tr>\n",
       "      <th>414503</th>\n",
       "      <td>40.0</td>\n",
       "      <td>1</td>\n",
       "      <td>78.181818</td>\n",
       "      <td>106.771882</td>\n",
       "      <td>78.18</td>\n",
       "      <td>168.0</td>\n",
       "    </tr>\n",
       "    <tr>\n",
       "      <th>414504</th>\n",
       "      <td>23.0</td>\n",
       "      <td>1</td>\n",
       "      <td>84.090909</td>\n",
       "      <td>43.439320</td>\n",
       "      <td>88.64</td>\n",
       "      <td>191.0</td>\n",
       "    </tr>\n",
       "    <tr>\n",
       "      <th>414505</th>\n",
       "      <td>49.0</td>\n",
       "      <td>2</td>\n",
       "      <td>70.454545</td>\n",
       "      <td>6.216538</td>\n",
       "      <td>72.73</td>\n",
       "      <td>170.0</td>\n",
       "    </tr>\n",
       "    <tr>\n",
       "      <th>414506</th>\n",
       "      <td>45.0</td>\n",
       "      <td>1</td>\n",
       "      <td>86.363636</td>\n",
       "      <td>20.617560</td>\n",
       "      <td>90.91</td>\n",
       "      <td>178.0</td>\n",
       "    </tr>\n",
       "    <tr>\n",
       "      <th>414507</th>\n",
       "      <td>52.0</td>\n",
       "      <td>2</td>\n",
       "      <td>89.090909</td>\n",
       "      <td>11.188138</td>\n",
       "      <td>89.09</td>\n",
       "      <td>157.0</td>\n",
       "    </tr>\n",
       "    <tr>\n",
       "      <th>414508</th>\n",
       "      <td>38.0</td>\n",
       "      <td>1</td>\n",
       "      <td>75.000000</td>\n",
       "      <td>25.989792</td>\n",
       "      <td>75.00</td>\n",
       "      <td>178.0</td>\n",
       "    </tr>\n",
       "  </tbody>\n",
       "</table>\n",
       "<p>414509 rows × 6 columns</p>\n",
       "</div>"
      ],
      "text/plain": [
       "         age  sex     wtyrago      finalwt   wtkg2   htm3\n",
       "0       82.0    2   76.363636   185.870345   70.91  157.0\n",
       "1       65.0    2   72.727273   126.603027   72.73  163.0\n",
       "2       48.0    2         NaN   181.063210     NaN  165.0\n",
       "3       61.0    1   73.636364   517.926275   73.64  170.0\n",
       "4       26.0    1   88.636364  1252.624630   88.64  185.0\n",
       "5       42.0    1  118.181818   415.161314  109.09  183.0\n",
       "6       40.0    2   50.000000   422.810541   50.00  157.0\n",
       "7       24.0    2  131.818182  1280.585980  122.73  178.0\n",
       "8       37.0    1   87.727273  1245.060440   90.00  178.0\n",
       "9       65.0    1   77.272727   382.738158   77.27  173.0\n",
       "10      28.0    1   52.272727  3131.561570   63.64  170.0\n",
       "11      68.0    2   86.363636   506.412109   78.18  168.0\n",
       "12      40.0    2   62.727273   422.810541   62.73  175.0\n",
       "13      49.0    1  127.272727   274.170333  127.27  183.0\n",
       "14      24.0    2   95.454545  2561.171960   95.45  175.0\n",
       "15      49.0    2   88.636364   181.063210   88.64  157.0\n",
       "16      36.0    2  113.636364   211.405271   90.91  168.0\n",
       "17      48.0    2         NaN   181.063210   50.00  155.0\n",
       "18      65.0    2  100.000000   253.206055  100.00  160.0\n",
       "19      75.0    2   72.727273   185.870345   72.73  165.0\n",
       "20      67.0    1   76.363636   382.738158   76.36  157.0\n",
       "21      27.0    2   63.636364   330.717253   63.64  155.0\n",
       "22      55.0    2   54.545455   153.403814   55.45  165.0\n",
       "23      78.0    1   79.545455   438.143347   78.18  183.0\n",
       "24      30.0    2         NaN   661.434505   90.91  160.0\n",
       "25      48.0    2   61.818182   271.502466   71.82  157.0\n",
       "26      65.0    1   77.272727   382.738158   77.27  173.0\n",
       "27      42.0    2   52.272727   422.810541   62.73  157.0\n",
       "28      70.0    2   59.090909   126.603027   59.09  157.0\n",
       "29      80.0    2   65.909091   185.870345   65.91  165.0\n",
       "...      ...  ...         ...          ...     ...    ...\n",
       "414479  52.0    2   68.181818    18.649614   70.45  160.0\n",
       "414480  62.0    1   89.090909     7.709065   89.09  178.0\n",
       "414481  50.0    1   79.545455    13.339183   76.36  178.0\n",
       "414482  61.0    2   51.363636    10.347511   51.36  157.0\n",
       "414483  65.0    2   77.272727    13.561141   68.18  160.0\n",
       "414484  39.0    2   81.818182    15.225492   87.27  170.0\n",
       "414485  27.0    2   68.181818    37.495182   77.27  157.0\n",
       "414486   NaN    2   61.363636     5.594069   61.36  168.0\n",
       "414487  55.0    2         NaN    12.395319     NaN  157.0\n",
       "414488  70.0    1  100.000000    14.994430  102.27  175.0\n",
       "414489  23.0    2   92.727273    22.632437   86.36  163.0\n",
       "414490  54.0    1   71.818182    30.926341   71.82  170.0\n",
       "414491  27.0    2         NaN    28.121387     NaN  160.0\n",
       "414492  65.0    2   70.454545     6.780570   70.45  157.0\n",
       "414493  50.0    2   56.818182    22.376276   56.82  170.0\n",
       "414494  49.0    2   90.909091    12.433076   68.18  152.0\n",
       "414495  61.0    2   68.181818    12.395319   72.73  165.0\n",
       "414496  37.0    2   61.363636    15.225492   56.82  157.0\n",
       "414497  66.0    2   70.909091    13.561141   65.91  163.0\n",
       "414498  34.0    1   77.272727    46.875400   75.00  173.0\n",
       "414499  38.0    2  118.181818    15.225492  129.55  173.0\n",
       "414500  43.0    2   66.363636     7.612746   75.00  168.0\n",
       "414501  41.0    1   86.363636    25.989792   86.36  175.0\n",
       "414502  68.0    2         NaN    13.561141     NaN  165.0\n",
       "414503  40.0    1   78.181818   106.771882   78.18  168.0\n",
       "414504  23.0    1   84.090909    43.439320   88.64  191.0\n",
       "414505  49.0    2   70.454545     6.216538   72.73  170.0\n",
       "414506  45.0    1   86.363636    20.617560   90.91  178.0\n",
       "414507  52.0    2   89.090909    11.188138   89.09  157.0\n",
       "414508  38.0    1   75.000000    25.989792   75.00  178.0\n",
       "\n",
       "[414509 rows x 6 columns]"
      ]
     },
     "execution_count": 4,
     "metadata": {},
     "output_type": "execute_result"
    }
   ],
   "source": [
    "df"
   ]
  },
  {
   "cell_type": "markdown",
   "metadata": {},
   "source": [
    "Here are the mean and standard deviation of female height in cm."
   ]
  },
  {
   "cell_type": "code",
   "execution_count": 5,
   "metadata": {},
   "outputs": [
    {
     "data": {
      "text/plain": [
       "(163.22347500412215, 7.269156286641344)"
      ]
     },
     "execution_count": 5,
     "metadata": {},
     "output_type": "execute_result"
    }
   ],
   "source": [
    "female = df[df.sex==2]\n",
    "female_heights = female.htm3.dropna()\n",
    "mean, std = female_heights.mean(), female_heights.std()\n",
    "mean, std"
   ]
  },
  {
   "cell_type": "markdown",
   "metadata": {},
   "source": [
    "`NormalPdf` returns a Pdf object that represents the normal distribution with the given parameters.\n",
    "\n",
    "`Density` returns a probability density, which doesn't mean much by itself."
   ]
  },
  {
   "cell_type": "code",
   "execution_count": 6,
   "metadata": {},
   "outputs": [
    {
     "data": {
      "text/plain": [
       "0.03328731904744125"
      ]
     },
     "execution_count": 6,
     "metadata": {},
     "output_type": "execute_result"
    }
   ],
   "source": [
    "pdf = thinkstats2.NormalPdf(mean, std)\n",
    "pdf.Density(mean + std)"
   ]
  },
  {
   "cell_type": "code",
   "execution_count": 7,
   "metadata": {},
   "outputs": [
    {
     "data": {
      "text/plain": [
       "0.03328731904744125"
      ]
     },
     "execution_count": 7,
     "metadata": {},
     "output_type": "execute_result"
    }
   ],
   "source": [
    "# Mine\n",
    "fht_norm_rv = stats.norm(loc=mean, scale=std)\n",
    "fht_norm_rv.pdf(mean + std)"
   ]
  },
  {
   "cell_type": "markdown",
   "metadata": {},
   "source": [
    "`thinkplot` provides `Pdf`, which plots the probability density with a smooth curve."
   ]
  },
  {
   "cell_type": "code",
   "execution_count": 8,
   "metadata": {},
   "outputs": [
    {
     "data": {
      "image/png": "[encoded data removed]",
      "text/plain": [
       "<Figure size 432x288 with 1 Axes>"
      ]
     },
     "metadata": {
      "needs_background": "light"
     },
     "output_type": "display_data"
    }
   ],
   "source": [
    "thinkplot.Pdf(pdf, label='normal')\n",
    "thinkplot.Config(xlabel='x', ylabel='PDF', xlim=[140, 186])"
   ]
  },
  {
   "cell_type": "code",
   "execution_count": 9,
   "metadata": {},
   "outputs": [],
   "source": [
    "# Mine\n",
    "def NormalPdfValues(mean, std, n=1001):\n",
    "    xmin = mean - 4 * std\n",
    "    xmax = mean + 4 * std\n",
    "    xs = np.linspace(xmin, xmax, n)\n",
    "    ps = stats.norm.pdf(xs, loc=mean, scale=std)\n",
    "    return xs, ps"
   ]
  },
  {
   "cell_type": "code",
   "execution_count": 10,
   "metadata": {},
   "outputs": [
    {
     "data": {
      "image/png": "[encoded data removed]",
      "text/plain": [
       "<Figure size 432x288 with 1 Axes>"
      ]
     },
     "metadata": {
      "needs_background": "light"
     },
     "output_type": "display_data"
    }
   ],
   "source": [
    "fht_xs, fht_ps = NormalPdfValues(mean, std)\n",
    "\n",
    "fig,ax = plt.subplots()\n",
    "\n",
    "ax.plot(fht_xs, fht_ps)\n",
    "\n",
    "ax.hist(female_heights, bins=50, density=True, histtype='stepfilled', alpha=0.2) # Just added to see what it looks like\n",
    "\n",
    "ax.set_xlim(140,190)\n",
    "\n",
    "plt.show()"
   ]
  },
  {
   "cell_type": "code",
   "execution_count": 11,
   "metadata": {},
   "outputs": [],
   "source": [
    "# Try a normal probability plot for this\n",
    "def NormalProbabilityValues(a):\n",
    "    \"\"\"Creates x and y values to be used in a normal probability plot.\n",
    "\n",
    "    Arguments:\n",
    "        a {array-like} -- a single input data set\n",
    "\n",
    "    Returns:\n",
    "        sorted_norm {list} -- Sorted random data from the standard normal distribution,\n",
    "        that is the same length as the input data. To be used as x values.\n",
    "\n",
    "        sorted_data: {list} -- Sorted input data to be used as y values.\n",
    "    \"\"\"\n",
    "    sorted_norm = sorted(np.random.normal(0,1,len(a)))\n",
    "    sorted_data = sorted(a)\n",
    "    \n",
    "    return sorted_norm, sorted_data"
   ]
  },
  {
   "cell_type": "code",
   "execution_count": 12,
   "metadata": {},
   "outputs": [],
   "source": [
    "def FitLine(xs, inter, slope):\n",
    "    \"\"\"Generates x and y values to plot a model fitline.\n",
    "\n",
    "    Arguments:\n",
    "        xs {array-like} -- sequence of xs (for std normal distribution can just choose values that cover the range of the data (ie.[-5,5]))\n",
    "        inter {float} -- intercept of the line (for std normal distribution this is the mean of the data)\n",
    "        slope {float} -- slope of the line (for std normal distribution this is the standard deviation of the data)\n",
    "\n",
    "    Returns:\n",
    "        A tuple of numpy arrays (sorted xs, fit ys)\n",
    "    \"\"\"\n",
    "    fit_xs = np.sort(xs)\n",
    "    fit_ys = inter + slope * fit_xs\n",
    "    \n",
    "    return fit_xs, fit_ys"
   ]
  },
  {
   "cell_type": "code",
   "execution_count": 13,
   "metadata": {},
   "outputs": [
    {
     "data": {
      "text/plain": [
       "(163.22347500412215, 7.269156286641344)"
      ]
     },
     "execution_count": 13,
     "metadata": {},
     "output_type": "execute_result"
    }
   ],
   "source": [
    "female_heights.mean(), female_heights.std()"
   ]
  },
  {
   "cell_type": "code",
   "execution_count": 14,
   "metadata": {},
   "outputs": [],
   "source": [
    "fit_xs, fit_ys = FitLine([-5,5], female_heights.mean(), female_heights.std())"
   ]
  },
  {
   "cell_type": "code",
   "execution_count": 15,
   "metadata": {},
   "outputs": [],
   "source": [
    "xs,ys = NormalProbabilityValues(female_heights)"
   ]
  },
  {
   "cell_type": "code",
   "execution_count": 16,
   "metadata": {},
   "outputs": [
    {
     "data": {
      "text/plain": [
       "[<matplotlib.lines.Line2D at 0x2c999ca3048>]"
      ]
     },
     "execution_count": 16,
     "metadata": {},
     "output_type": "execute_result"
    },
    {
     "data": {
      "image/png": "[encoded data removed]",
      "text/plain": [
       "<Figure size 432x288 with 1 Axes>"
      ]
     },
     "metadata": {
      "needs_background": "light"
     },
     "output_type": "display_data"
    }
   ],
   "source": [
    "# a normal probability plot shows that the data is normal within 3 standard deviations of the mean\n",
    "fig,ax = plt.subplots()\n",
    "\n",
    "ax.plot(xs,ys)\n",
    "\n",
    "ax.plot(fit_xs,fit_ys, color='0.8')"
   ]
  },
  {
   "cell_type": "code",
   "execution_count": 17,
   "metadata": {},
   "outputs": [],
   "source": [
    "# Plot "
   ]
  },
  {
   "cell_type": "markdown",
   "metadata": {},
   "source": [
    "`Pdf` provides `MakePmf`, which returns a `Pmf` object that approximates the `Pdf`. "
   ]
  },
  {
   "cell_type": "code",
   "execution_count": 18,
   "metadata": {},
   "outputs": [
    {
     "data": {
      "text/plain": [
       "(163.22347500412215, 7.269142017824814)"
      ]
     },
     "execution_count": 18,
     "metadata": {},
     "output_type": "execute_result"
    }
   ],
   "source": [
    "# Trying out the .fit method for norm, this method also works to get parameters for other distributions like expon and pareto\n",
    "# Note that after some testing and Googling pareto is very difficult to use, must have very accurate guesses to start with\n",
    "test_loc,test_scale = stats.norm.fit(female_heights)\n",
    "test_loc,test_scale"
   ]
  },
  {
   "cell_type": "code",
   "execution_count": 19,
   "metadata": {},
   "outputs": [
    {
     "data": {
      "image/png": "[encoded data removed]",
      "text/plain": [
       "<Figure size 432x288 with 1 Axes>"
      ]
     },
     "metadata": {
      "needs_background": "light"
     },
     "output_type": "display_data"
    }
   ],
   "source": [
    "pmf = pdf.MakePmf()\n",
    "thinkplot.Pmf(pmf, label='normal')\n",
    "thinkplot.Config(xlabel='x', ylabel='PDF', xlim=[140, 186])"
   ]
  },
  {
   "cell_type": "code",
   "execution_count": 20,
   "metadata": {},
   "outputs": [
    {
     "data": {
      "image/png": "[encoded data removed]",
      "text/plain": [
       "<Figure size 432x288 with 1 Axes>"
      ]
     },
     "metadata": {
      "needs_background": "light"
     },
     "output_type": "display_data"
    }
   ],
   "source": [
    "# Mine, just used step plot instead but steps are small so hard to see\n",
    "fig,ax = plt.subplots()\n",
    "\n",
    "ax.step(fht_xs, fht_ps)\n",
    "\n",
    "ax.set_xlim((female_heights.mean()-(3*female_heights.std())),\n",
    "            (female_heights.mean()+(3*female_heights.std())))\n",
    "\n",
    "plt.show()"
   ]
  },
  {
   "cell_type": "markdown",
   "metadata": {},
   "source": [
    "If you have a `Pmf`, you can also plot it using `Pdf`, if you have reason to think it should be represented as a smooth curve."
   ]
  },
  {
   "cell_type": "code",
   "execution_count": 21,
   "metadata": {},
   "outputs": [
    {
     "data": {
      "image/png": "[encoded data removed]",
      "text/plain": [
       "<Figure size 432x288 with 1 Axes>"
      ]
     },
     "metadata": {
      "needs_background": "light"
     },
     "output_type": "display_data"
    }
   ],
   "source": [
    "thinkplot.Pdf(pmf, label='normal')\n",
    "thinkplot.Config(xlabel='x', ylabel='PDF', xlim=[140, 186])"
   ]
  },
  {
   "cell_type": "code",
   "execution_count": 22,
   "metadata": {},
   "outputs": [
    {
     "data": {
      "image/png": "[encoded data removed]",
      "text/plain": [
       "<Figure size 432x288 with 1 Axes>"
      ]
     },
     "metadata": {
      "needs_background": "light"
     },
     "output_type": "display_data"
    }
   ],
   "source": [
    "# Mine, just used plot instead of the step above\n",
    "fig,ax = plt.subplots()\n",
    "\n",
    "ax.plot(fht_xs, fht_ps)\n",
    "\n",
    "ax.set_xlim((female_heights.mean()-(3*female_heights.std())),\n",
    "            (female_heights.mean()+(3*female_heights.std())))\n",
    "\n",
    "plt.show()"
   ]
  },
  {
   "cell_type": "markdown",
   "metadata": {},
   "source": [
    "Using a sample from the actual distribution, we can estimate the PDF using Kernel Density Estimation (KDE).\n",
    "\n",
    "If you run this a few times, you'll see how much variation there is in the estimate."
   ]
  },
  {
   "cell_type": "code",
   "execution_count": 23,
   "metadata": {
    "scrolled": true
   },
   "outputs": [
    {
     "data": {
      "image/png": "[encoded data removed]",
      "text/plain": [
       "<Figure size 432x288 with 1 Axes>"
      ]
     },
     "metadata": {
      "needs_background": "light"
     },
     "output_type": "display_data"
    }
   ],
   "source": [
    "thinkplot.Pdf(pdf, label='normal')\n",
    "\n",
    "sample = np.random.normal(mean, std, 500)\n",
    "sample_pdf = thinkstats2.EstimatedPdf(sample, label='sample')\n",
    "thinkplot.Pdf(sample_pdf, label='sample KDE')\n",
    "thinkplot.Config(xlabel='x', ylabel='PDF', xlim=[140, 186])"
   ]
  },
  {
   "cell_type": "code",
   "execution_count": 24,
   "metadata": {},
   "outputs": [
    {
     "data": {
      "text/plain": [
       "(141.41600614419812, 185.03094386404618)"
      ]
     },
     "execution_count": 24,
     "metadata": {},
     "output_type": "execute_result"
    },
    {
     "data": {
      "image/png": "[encoded data removed]",
      "text/plain": [
       "<Figure size 432x288 with 1 Axes>"
      ]
     },
     "metadata": {
      "needs_background": "light"
     },
     "output_type": "display_data"
    }
   ],
   "source": [
    "# Mine, I will just use the same mean and std as the book's above\n",
    "\n",
    "# Create the kde_rv from a sample\n",
    "my_sample = sorted(np.random.normal(mean, std, 500))\n",
    "kde_rv = stats.gaussian_kde(my_sample)\n",
    "\n",
    "fig,ax = plt.subplots()\n",
    "\n",
    "# Plot the model pdf, using values produced by my function above\n",
    "ax.plot(fht_xs, fht_ps)\n",
    "\n",
    "# Plot the kde\n",
    "ax.plot(my_sample, kde_rv.evaluate(my_sample))\n",
    "\n",
    "ax.set_xlim((female_heights.mean()-(3*female_heights.std())),\n",
    "            (female_heights.mean()+(3*female_heights.std())))"
   ]
  },
  {
   "cell_type": "code",
   "execution_count": 25,
   "metadata": {},
   "outputs": [
    {
     "data": {
      "text/plain": [
       "(141.41600614419812, 185.03094386404618)"
      ]
     },
     "execution_count": 25,
     "metadata": {},
     "output_type": "execute_result"
    },
    {
     "data": {
      "image/png": "[encoded data removed]",
      "text/plain": [
       "<Figure size 432x288 with 1 Axes>"
      ]
     },
     "metadata": {
      "needs_background": "light"
     },
     "output_type": "display_data"
    }
   ],
   "source": [
    "# Also try plotting the kde of the actual data vs a model\n",
    "\n",
    "# Create the kde_rv from the data, had to use a sample because data set is too large and take too long to run\n",
    "data_sample = sorted(np.random.choice(female_heights, size=500))\n",
    "kde_rv = stats.gaussian_kde(data_sample)\n",
    "\n",
    "fig,ax = plt.subplots()\n",
    "\n",
    "# Plot the model pdf, using values produced by my function above\n",
    "ax.plot(fht_xs, fht_ps)\n",
    "\n",
    "# Plot the kde\n",
    "ax.plot(data_sample, kde_rv.evaluate(data_sample))\n",
    "\n",
    "ax.set_xlim((female_heights.mean()-(3*female_heights.std())),\n",
    "            (female_heights.mean()+(3*female_heights.std())))"
   ]
  },
  {
   "cell_type": "markdown",
   "metadata": {},
   "source": [
    "## Moments\n",
    "\n",
    "Raw moments are just sums of powers."
   ]
  },
  {
   "cell_type": "code",
   "execution_count": 26,
   "metadata": {},
   "outputs": [],
   "source": [
    "def RawMoment(xs, k):\n",
    "    return sum(x**k for x in xs) / len(xs)"
   ]
  },
  {
   "cell_type": "markdown",
   "metadata": {},
   "source": [
    "The first raw moment is the mean.  The other raw moments don't mean much."
   ]
  },
  {
   "cell_type": "code",
   "execution_count": 27,
   "metadata": {},
   "outputs": [
    {
     "data": {
      "text/plain": [
       "(163.22347500412215, 26694.74321809659, 4374411.46250422)"
      ]
     },
     "execution_count": 27,
     "metadata": {},
     "output_type": "execute_result"
    }
   ],
   "source": [
    "RawMoment(female_heights, 1), RawMoment(female_heights, 2), RawMoment(female_heights, 3)"
   ]
  },
  {
   "cell_type": "code",
   "execution_count": 28,
   "metadata": {},
   "outputs": [],
   "source": [
    "# Mine\n",
    "def DiscreteRv(a):\n",
    "    \"\"\"Creates a scipy.stats discrete_rv.\n",
    "\n",
    "    Arguments:\n",
    "        a {array-like} -- a single data set, will be flattened if it is not already 1-D\n",
    "\n",
    "    Returns:\n",
    "        An instance of scipy.stats discrete_rv representing the input data\n",
    "    \"\"\"\n",
    "    val,cnt = np.unique(a, return_counts=True)\n",
    "    \n",
    "    return stats.rv_discrete(values=(val,cnt/sum(cnt)))"
   ]
  },
  {
   "cell_type": "code",
   "execution_count": 29,
   "metadata": {},
   "outputs": [],
   "source": [
    "fh_rv = DiscreteRv(female_heights)"
   ]
  },
  {
   "cell_type": "code",
   "execution_count": 30,
   "metadata": {},
   "outputs": [
    {
     "data": {
      "text/plain": [
       "(163.22347500412215, 26694.74321809659, 4374411.462504221)"
      ]
     },
     "execution_count": 30,
     "metadata": {},
     "output_type": "execute_result"
    }
   ],
   "source": [
    "fh_rv.moment(1), fh_rv.moment(2), fh_rv.moment(3)"
   ]
  },
  {
   "cell_type": "code",
   "execution_count": 31,
   "metadata": {},
   "outputs": [
    {
     "data": {
      "text/plain": [
       "163.22347500412215"
      ]
     },
     "execution_count": 31,
     "metadata": {},
     "output_type": "execute_result"
    }
   ],
   "source": [
    "def Mean(xs):\n",
    "    return RawMoment(xs, 1)\n",
    "\n",
    "Mean(female_heights)"
   ]
  },
  {
   "cell_type": "markdown",
   "metadata": {},
   "source": [
    "The central moments are powers of distances from the mean."
   ]
  },
  {
   "cell_type": "code",
   "execution_count": 32,
   "metadata": {},
   "outputs": [],
   "source": [
    "def CentralMoment(xs, k):\n",
    "    mean = RawMoment(xs, 1)\n",
    "    return sum((x - mean)**k for x in xs) / len(xs)"
   ]
  },
  {
   "cell_type": "markdown",
   "metadata": {},
   "source": [
    "The first central moment is approximately 0.  The second central moment is the variance."
   ]
  },
  {
   "cell_type": "code",
   "execution_count": 33,
   "metadata": {},
   "outputs": [
    {
     "data": {
      "text/plain": [
       "(-9.903557940122168e-14, 52.84042567529328, -46.88569506887073)"
      ]
     },
     "execution_count": 33,
     "metadata": {},
     "output_type": "execute_result"
    }
   ],
   "source": [
    "CentralMoment(female_heights, 1), CentralMoment(female_heights, 2), CentralMoment(female_heights, 3)"
   ]
  },
  {
   "cell_type": "code",
   "execution_count": 34,
   "metadata": {},
   "outputs": [
    {
     "data": {
      "text/plain": [
       "52.84042567529328"
      ]
     },
     "execution_count": 34,
     "metadata": {},
     "output_type": "execute_result"
    }
   ],
   "source": [
    "def Var(xs):\n",
    "    return CentralMoment(xs, 2)\n",
    "\n",
    "Var(female_heights)"
   ]
  },
  {
   "cell_type": "markdown",
   "metadata": {},
   "source": [
    "The standardized moments are ratios of central moments, with powers chosen to make the dimensions cancel."
   ]
  },
  {
   "cell_type": "code",
   "execution_count": 35,
   "metadata": {},
   "outputs": [],
   "source": [
    "def StandardizedMoment(xs, k):\n",
    "    var = CentralMoment(xs, 2)\n",
    "    std = np.sqrt(var)\n",
    "    return CentralMoment(xs, k) / std**k"
   ]
  },
  {
   "cell_type": "markdown",
   "metadata": {},
   "source": [
    "The third standardized moment is skewness."
   ]
  },
  {
   "cell_type": "code",
   "execution_count": 36,
   "metadata": {},
   "outputs": [
    {
     "data": {
      "text/plain": [
       "(-1.3624108479155668e-14, 1.0, -0.1220649274510512)"
      ]
     },
     "execution_count": 36,
     "metadata": {},
     "output_type": "execute_result"
    }
   ],
   "source": [
    "StandardizedMoment(female_heights, 1), StandardizedMoment(female_heights, 2), StandardizedMoment(female_heights, 3)"
   ]
  },
  {
   "cell_type": "code",
   "execution_count": 37,
   "metadata": {},
   "outputs": [
    {
     "data": {
      "text/plain": [
       "-0.1220649274510512"
      ]
     },
     "execution_count": 37,
     "metadata": {},
     "output_type": "execute_result"
    }
   ],
   "source": [
    "def Skewness(xs):\n",
    "    return StandardizedMoment(xs, 3)\n",
    "\n",
    "Skewness(female_heights)"
   ]
  },
  {
   "cell_type": "code",
   "execution_count": 38,
   "metadata": {},
   "outputs": [
    {
     "data": {
      "text/plain": [
       "(array(163.223475), array(52.84042568), array(-0.12206493))"
      ]
     },
     "execution_count": 38,
     "metadata": {},
     "output_type": "execute_result"
    }
   ],
   "source": [
    "# Mine, I can just use the stats method to return the mean, variance, and skew\n",
    "m,v,s = fh_rv.stats(moments='mvs')\n",
    "m,v,s"
   ]
  },
  {
   "cell_type": "code",
   "execution_count": 39,
   "metadata": {},
   "outputs": [
    {
     "data": {
      "text/plain": [
       "-0.1220649274443362"
      ]
     },
     "execution_count": 39,
     "metadata": {},
     "output_type": "execute_result"
    }
   ],
   "source": [
    "# Extract the value of s, for example\n",
    "float(s)"
   ]
  },
  {
   "cell_type": "markdown",
   "metadata": {},
   "source": [
    "Normally a negative skewness indicates that the distribution has a longer tail on the left.  In that case, the mean is usually less than the median."
   ]
  },
  {
   "cell_type": "code",
   "execution_count": 40,
   "metadata": {},
   "outputs": [],
   "source": [
    "def Median(xs):\n",
    "    cdf = thinkstats2.Cdf(xs)\n",
    "    return cdf.Value(0.5)"
   ]
  },
  {
   "cell_type": "markdown",
   "metadata": {},
   "source": [
    "But in this case the mean is greater than the median, which indicates skew to the right."
   ]
  },
  {
   "cell_type": "code",
   "execution_count": 41,
   "metadata": {},
   "outputs": [
    {
     "data": {
      "text/plain": [
       "(163.22347500412215, 163.0)"
      ]
     },
     "execution_count": 41,
     "metadata": {},
     "output_type": "execute_result"
    }
   ],
   "source": [
    "Mean(female_heights), Median(female_heights)"
   ]
  },
  {
   "cell_type": "markdown",
   "metadata": {},
   "source": [
    "Because the skewness is based on the third moment, it is not robust; that is, it depends strongly on a few outliers.  Pearson's median skewness is more robust."
   ]
  },
  {
   "cell_type": "code",
   "execution_count": 42,
   "metadata": {},
   "outputs": [],
   "source": [
    "def PearsonMedianSkewness(xs):\n",
    "    median = Median(xs)\n",
    "    mean = RawMoment(xs, 1)\n",
    "    var = CentralMoment(xs, 2)\n",
    "    std = np.sqrt(var)\n",
    "    gp = 3 * (mean - median) / std\n",
    "    return gp"
   ]
  },
  {
   "cell_type": "markdown",
   "metadata": {},
   "source": [
    "Pearson's skewness is positive, indicating that the distribution of female heights is slightly skewed to the right."
   ]
  },
  {
   "cell_type": "code",
   "execution_count": 43,
   "metadata": {},
   "outputs": [
    {
     "data": {
      "text/plain": [
       "0.0922289055190516"
      ]
     },
     "execution_count": 43,
     "metadata": {},
     "output_type": "execute_result"
    }
   ],
   "source": [
    "PearsonMedianSkewness(female_heights)"
   ]
  },
  {
   "cell_type": "code",
   "execution_count": 44,
   "metadata": {},
   "outputs": [
    {
     "data": {
      "text/plain": [
       "-0.12206564626888979"
      ]
     },
     "execution_count": 44,
     "metadata": {},
     "output_type": "execute_result"
    }
   ],
   "source": [
    "# Mine, can't seem to find a scipy stats method that replicates the pearson method above\n",
    "stats.skew(female_heights, bias=False)"
   ]
  },
  {
   "cell_type": "code",
   "execution_count": 45,
   "metadata": {},
   "outputs": [
    {
     "data": {
      "text/plain": [
       "(163.0, 163.22347500412215)"
      ]
     },
     "execution_count": 45,
     "metadata": {},
     "output_type": "execute_result"
    }
   ],
   "source": [
    "# But as the author mentions the mean is greater than the median which indicates right skew, not left\n",
    "# A good conclusion here is that there is not clear skew I think\n",
    "# Good practice to check both the calculated skew and how the mean & median compare to each other\n",
    "female_heights.median(), female_heights.mean()"
   ]
  },
  {
   "cell_type": "markdown",
   "metadata": {},
   "source": [
    "## Birth weights\n",
    "\n",
    "Let's look at the distribution of birth weights again."
   ]
  },
  {
   "cell_type": "code",
   "execution_count": 46,
   "metadata": {},
   "outputs": [],
   "source": [
    "import first\n",
    "\n",
    "live, firsts, others = first.MakeFrames()"
   ]
  },
  {
   "cell_type": "markdown",
   "metadata": {},
   "source": [
    "Based on KDE, it looks like the distribution is skewed to the left."
   ]
  },
  {
   "cell_type": "code",
   "execution_count": 47,
   "metadata": {},
   "outputs": [
    {
     "data": {
      "image/png": "[encoded data removed]",
      "text/plain": [
       "<Figure size 432x288 with 1 Axes>"
      ]
     },
     "metadata": {
      "needs_background": "light"
     },
     "output_type": "display_data"
    }
   ],
   "source": [
    "birth_weights = live.totalwgt_lb.dropna()\n",
    "pdf = thinkstats2.EstimatedPdf(birth_weights)\n",
    "thinkplot.Pdf(pdf, label='birth weight')\n",
    "thinkplot.Config(xlabel='Birth weight (pounds)', ylabel='PDF')"
   ]
  },
  {
   "cell_type": "code",
   "execution_count": 48,
   "metadata": {},
   "outputs": [
    {
     "data": {
      "text/plain": [
       "[<matplotlib.lines.Line2D at 0x2c99bbcad30>]"
      ]
     },
     "execution_count": 48,
     "metadata": {},
     "output_type": "execute_result"
    },
    {
     "data": {
      "image/png": "[encoded data removed]",
      "text/plain": [
       "<Figure size 432x288 with 1 Axes>"
      ]
     },
     "metadata": {
      "needs_background": "light"
     },
     "output_type": "display_data"
    }
   ],
   "source": [
    "# Mine\n",
    "birth_weights_sorted = birth_weights.sort_values()\n",
    "\n",
    "birth_kde = stats.gaussian_kde(birth_weights_sorted)\n",
    "\n",
    "fig,ax = plt.subplots()\n",
    "\n",
    "ax.plot(birth_weights_sorted, birth_kde.evaluate(birth_weights_sorted))"
   ]
  },
  {
   "cell_type": "markdown",
   "metadata": {},
   "source": [
    "The mean is less than the median, which is consistent with left skew."
   ]
  },
  {
   "cell_type": "code",
   "execution_count": 49,
   "metadata": {},
   "outputs": [
    {
     "data": {
      "text/plain": [
       "(7.265628457623368, 7.375)"
      ]
     },
     "execution_count": 49,
     "metadata": {},
     "output_type": "execute_result"
    }
   ],
   "source": [
    "Mean(birth_weights), Median(birth_weights)"
   ]
  },
  {
   "cell_type": "code",
   "execution_count": 50,
   "metadata": {},
   "outputs": [
    {
     "data": {
      "text/plain": [
       "(7.265628457623368, 7.375)"
      ]
     },
     "execution_count": 50,
     "metadata": {},
     "output_type": "execute_result"
    }
   ],
   "source": [
    "# Mine\n",
    "birth_weights_sorted.mean(), birth_weights_sorted.median()"
   ]
  },
  {
   "cell_type": "markdown",
   "metadata": {},
   "source": [
    "And both ways of computing skew are negative, which is consistent with left skew."
   ]
  },
  {
   "cell_type": "code",
   "execution_count": 51,
   "metadata": {
    "scrolled": true
   },
   "outputs": [
    {
     "data": {
      "text/plain": [
       "(-0.5895062687577989, -0.23300028954731833)"
      ]
     },
     "execution_count": 51,
     "metadata": {},
     "output_type": "execute_result"
    }
   ],
   "source": [
    "Skewness(birth_weights), PearsonMedianSkewness(birth_weights)"
   ]
  },
  {
   "cell_type": "markdown",
   "metadata": {},
   "source": [
    "## Adult weights\n",
    "\n",
    "Now let's look at adult weights from the BRFSS.  The distribution looks skewed to the right."
   ]
  },
  {
   "cell_type": "code",
   "execution_count": 52,
   "metadata": {},
   "outputs": [
    {
     "data": {
      "image/png": "[encoded data removed]",
      "text/plain": [
       "<Figure size 432x288 with 1 Axes>"
      ]
     },
     "metadata": {
      "needs_background": "light"
     },
     "output_type": "display_data"
    }
   ],
   "source": [
    "adult_weights = df.wtkg2.dropna()\n",
    "pdf = thinkstats2.EstimatedPdf(adult_weights)\n",
    "thinkplot.Pdf(pdf, label='Adult weight')\n",
    "thinkplot.Config(xlabel='Adult weight (kg)', ylabel='PDF')"
   ]
  },
  {
   "cell_type": "code",
   "execution_count": 66,
   "metadata": {},
   "outputs": [],
   "source": [
    "def KdeValues(sample, n=101):\n",
    "    \"\"\"Generates sequences of x and y values for a kernel density estimation (kde) plot.\n",
    "\n",
    "    Arguments:\n",
    "        sample {array-like} -- A single input data set\n",
    "\n",
    "    Keyword Arguments:\n",
    "        n {int} -- The number of x values to use (default: {101})\n",
    "\n",
    "    Returns:\n",
    "        xs {array} -- The values to use for x in a kde plot\n",
    "        ys {array} -- The values to use for y in a kde plot\n",
    "    \"\"\"\n",
    "    xs = np.linspace(min(sample), max(sample), n)\n",
    "    sorted_sample = sorted(sample)\n",
    "    kde = stats.gaussian_kde(sorted_sample)\n",
    "    ys = kde.evaluate(xs)\n",
    "    return xs,ys"
   ]
  },
  {
   "cell_type": "code",
   "execution_count": 67,
   "metadata": {},
   "outputs": [
    {
     "data": {
      "image/png": "[encoded data removed]",
      "text/plain": [
       "<Figure size 432x288 with 1 Axes>"
      ]
     },
     "metadata": {
      "needs_background": "light"
     },
     "output_type": "display_data"
    }
   ],
   "source": [
    "# sorted_weights = adult_weights.sort_values()\n",
    "# x_values = np.linspace(sorted_weights.min(), sorted_weights.max(), 101)\n",
    "# wt_kde = stats.gaussian_kde(sorted_weights)\n",
    "\n",
    "fig,ax = plt.subplots()\n",
    "\n",
    "xs,ys = KdeValues(adult_weights, n=101)\n",
    "\n",
    "ax.plot(xs,ys)\n",
    "plt.show()"
   ]
  },
  {
   "cell_type": "markdown",
   "metadata": {},
   "source": [
    "The mean is greater than the median, which is consistent with skew to the right."
   ]
  },
  {
   "cell_type": "code",
   "execution_count": 55,
   "metadata": {},
   "outputs": [
    {
     "data": {
      "text/plain": [
       "(78.99245299687198, 77.27)"
      ]
     },
     "execution_count": 55,
     "metadata": {},
     "output_type": "execute_result"
    }
   ],
   "source": [
    "Mean(adult_weights), Median(adult_weights)"
   ]
  },
  {
   "cell_type": "code",
   "execution_count": 69,
   "metadata": {},
   "outputs": [
    {
     "data": {
      "text/plain": [
       "(78.99245299687198, 77.27)"
      ]
     },
     "execution_count": 69,
     "metadata": {},
     "output_type": "execute_result"
    }
   ],
   "source": [
    "# Mine\n",
    "adult_weights.mean(), adult_weights.median()"
   ]
  },
  {
   "cell_type": "markdown",
   "metadata": {},
   "source": [
    "And both ways of computing skewness are positive."
   ]
  },
  {
   "cell_type": "code",
   "execution_count": 56,
   "metadata": {
    "scrolled": true
   },
   "outputs": [
    {
     "data": {
      "text/plain": [
       "(1.054840012109306, 0.2643673381618039)"
      ]
     },
     "execution_count": 56,
     "metadata": {},
     "output_type": "execute_result"
    }
   ],
   "source": [
    "Skewness(adult_weights), PearsonMedianSkewness(adult_weights)"
   ]
  },
  {
   "cell_type": "code",
   "execution_count": 70,
   "metadata": {},
   "outputs": [
    {
     "data": {
      "text/plain": [
       "1.0548400121120605"
      ]
     },
     "execution_count": 70,
     "metadata": {},
     "output_type": "execute_result"
    }
   ],
   "source": [
    "# Mine\n",
    "stats.skew(adult_weights)"
   ]
  },
  {
   "cell_type": "markdown",
   "metadata": {},
   "source": [
    "## Exercises"
   ]
  },
  {
   "cell_type": "markdown",
   "metadata": {},
   "source": [
    "The distribution of income is famously skewed to the right. In this exercise, we’ll measure how strong that skew is.\n",
    "The Current Population Survey (CPS) is a joint effort of the Bureau of Labor Statistics and the Census Bureau to study income and related variables. Data collected in 2013 is available from http://www.census.gov/hhes/www/cpstables/032013/hhinc/toc.htm. I downloaded `hinc06.xls`, which is an Excel spreadsheet with information about household income, and converted it to `hinc06.csv`, a CSV file you will find in the repository for this book. You will also find `hinc2.py`, which reads this file and transforms the data.\n",
    "\n",
    "The dataset is in the form of a series of income ranges and the number of respondents who fell in each range. The lowest range includes respondents who reported annual household income “Under \\$5000.” The highest range includes respondents who made “\\$250,000 or more.”\n",
    "\n",
    "To estimate mean and other statistics from these data, we have to make some assumptions about the lower and upper bounds, and how the values are distributed in each range. `hinc2.py` provides `InterpolateSample`, which shows one way to model this data. It takes a `DataFrame` with a column, `income`, that contains the upper bound of each range, and `freq`, which contains the number of respondents in each frame.\n",
    "\n",
    "It also takes `log_upper`, which is an assumed upper bound on the highest range, expressed in `log10` dollars. The default value, `log_upper=6.0` represents the assumption that the largest income among the respondents is $10^6$, or one million dollars.\n",
    "\n",
    "`InterpolateSample` generates a pseudo-sample; that is, a sample of household incomes that yields the same number of respondents in each range as the actual data. It assumes that incomes in each range are equally spaced on a `log10` scale."
   ]
  },
  {
   "cell_type": "code",
   "execution_count": 57,
   "metadata": {},
   "outputs": [],
   "source": [
    "def InterpolateSample(df, log_upper=6.0):\n",
    "    \"\"\"Makes a sample of log10 household income.\n",
    "\n",
    "    Assumes that log10 income is uniform in each range.\n",
    "\n",
    "    df: DataFrame with columns income and freq\n",
    "    log_upper: log10 of the assumed upper bound for the highest range\n",
    "\n",
    "    returns: NumPy array of log10 household income\n",
    "    \"\"\"\n",
    "    # compute the log10 of the upper bound for each range\n",
    "    df['log_upper'] = np.log10(df.income)\n",
    "\n",
    "    # get the lower bounds by shifting the upper bound and filling in\n",
    "    # the first element\n",
    "    df['log_lower'] = df.log_upper.shift(1)\n",
    "    df.loc[0, 'log_lower'] = 3.0\n",
    "\n",
    "    # plug in a value for the unknown upper bound of the highest range\n",
    "    df.loc[41, 'log_upper'] = log_upper\n",
    "    \n",
    "    # use the freq column to generate the right number of values in\n",
    "    # each range\n",
    "    arrays = []\n",
    "    for _, row in df.iterrows():\n",
    "        vals = np.linspace(row.log_lower, row.log_upper, row.freq)\n",
    "        arrays.append(vals)\n",
    "\n",
    "    # collect the arrays into a single sample\n",
    "    log_sample = np.concatenate(arrays)\n",
    "    return log_sample\n"
   ]
  },
  {
   "cell_type": "code",
   "execution_count": 58,
   "metadata": {},
   "outputs": [],
   "source": [
    "import hinc\n",
    "income_df = hinc.ReadData()"
   ]
  },
  {
   "cell_type": "code",
   "execution_count": 59,
   "metadata": {},
   "outputs": [
    {
     "name": "stderr",
     "output_type": "stream",
     "text": [
      "C:\\Users\\pthus\\AppData\\Roaming\\Python\\Python37\\site-packages\\ipykernel_launcher.py:26: DeprecationWarning: object of type <class 'numpy.float64'> cannot be safely interpreted as an integer.\n"
     ]
    }
   ],
   "source": [
    "log_sample = InterpolateSample(income_df, log_upper=6.0)"
   ]
  },
  {
   "cell_type": "code",
   "execution_count": 60,
   "metadata": {},
   "outputs": [
    {
     "data": {
      "image/png": "[encoded data removed]",
      "text/plain": [
       "<Figure size 432x288 with 1 Axes>"
      ]
     },
     "metadata": {
      "needs_background": "light"
     },
     "output_type": "display_data"
    }
   ],
   "source": [
    "log_cdf = thinkstats2.Cdf(log_sample)\n",
    "thinkplot.Cdf(log_cdf)\n",
    "thinkplot.Config(xlabel='Household income (log $)',\n",
    "               ylabel='CDF')"
   ]
  },
  {
   "cell_type": "code",
   "execution_count": 61,
   "metadata": {},
   "outputs": [],
   "source": [
    "sample = np.power(10, log_sample)"
   ]
  },
  {
   "cell_type": "code",
   "execution_count": 62,
   "metadata": {},
   "outputs": [
    {
     "data": {
      "image/png": "[encoded data removed]",
      "text/plain": [
       "<Figure size 432x288 with 1 Axes>"
      ]
     },
     "metadata": {
      "needs_background": "light"
     },
     "output_type": "display_data"
    }
   ],
   "source": [
    "cdf = thinkstats2.Cdf(sample)\n",
    "thinkplot.Cdf(cdf)\n",
    "thinkplot.Config(xlabel='Household income ($)',\n",
    "               ylabel='CDF')"
   ]
  },
  {
   "cell_type": "markdown",
   "metadata": {},
   "source": [
    "Compute the median, mean, skewness and Pearson’s skewness of the resulting sample. What fraction of households report a taxable income below the mean? How do the results depend on the assumed upper bound?"
   ]
  },
  {
   "cell_type": "code",
   "execution_count": 74,
   "metadata": {},
   "outputs": [
    {
     "data": {
      "text/plain": [
       "(51226.93306562372, 74278.70753118733, 4.949920244429584)"
      ]
     },
     "execution_count": 74,
     "metadata": {},
     "output_type": "execute_result"
    }
   ],
   "source": [
    "# Solution goes here\n",
    "sample_series = pd.Series(sample)\n",
    "sample_series.median(), sample_series.mean(), stats.skew(sample)"
   ]
  },
  {
   "cell_type": "code",
   "execution_count": 75,
   "metadata": {},
   "outputs": [],
   "source": [
    "# Solution goes here\n",
    "def DiscreteRv(a):\n",
    "    \"\"\"Creates a scipy.stats discrete_rv.\n",
    "\n",
    "    Arguments:\n",
    "        a {array-like} -- a single data set, will be flattened if it is not already 1-D\n",
    "\n",
    "    Returns:\n",
    "        An instance of scipy.stats discrete_rv representing the input data\n",
    "    \"\"\"\n",
    "    val,cnt = np.unique(a, return_counts=True)\n",
    "    \n",
    "    return stats.rv_discrete(values=(val,cnt/sum(cnt)))"
   ]
  },
  {
   "cell_type": "code",
   "execution_count": 76,
   "metadata": {},
   "outputs": [],
   "source": [
    "income_rv = DiscreteRv(sample)"
   ]
  },
  {
   "cell_type": "code",
   "execution_count": 78,
   "metadata": {},
   "outputs": [
    {
     "data": {
      "text/plain": [
       "0.660005879566784"
      ]
     },
     "execution_count": 78,
     "metadata": {},
     "output_type": "execute_result"
    }
   ],
   "source": [
    "income_rv.cdf(sample.mean())"
   ]
  },
  {
   "cell_type": "code",
   "execution_count": 79,
   "metadata": {},
   "outputs": [
    {
     "name": "stderr",
     "output_type": "stream",
     "text": [
      "C:\\Users\\pthus\\AppData\\Roaming\\Python\\Python37\\site-packages\\ipykernel_launcher.py:26: DeprecationWarning: object of type <class 'numpy.float64'> cannot be safely interpreted as an integer.\n"
     ]
    }
   ],
   "source": [
    "# Solution goes here, raise the upper bound to 10 million from 1 million\n",
    "log_sample2 = InterpolateSample(income_df, log_upper=7.0)"
   ]
  },
  {
   "cell_type": "code",
   "execution_count": 80,
   "metadata": {},
   "outputs": [],
   "source": [
    "sample2 = np.power(10, log_sample2)"
   ]
  },
  {
   "cell_type": "code",
   "execution_count": 81,
   "metadata": {},
   "outputs": [
    {
     "data": {
      "text/plain": [
       "0.8565630665214141"
      ]
     },
     "execution_count": 81,
     "metadata": {},
     "output_type": "execute_result"
    }
   ],
   "source": [
    "# If we raise the upper bound to 10 million then the fraction of households under the mean increase by 20%\n",
    "income_rv = DiscreteRv(sample2)\n",
    "income_rv.cdf(sample2.mean())"
   ]
  },
  {
   "cell_type": "markdown",
   "metadata": {},
   "source": [
    "All of this is based on an assumption that the highest income is one million dollars, but that's certainly not correct.  What happens to the skew if the upper bound is 10 million?\n",
    "\n",
    "Without better information about the top of this distribution, we can't say much about the skewness of the distribution."
   ]
  },
  {
   "cell_type": "code",
   "execution_count": 83,
   "metadata": {},
   "outputs": [
    {
     "data": {
      "text/plain": [
       "11.603690267537788"
      ]
     },
     "execution_count": 83,
     "metadata": {},
     "output_type": "execute_result"
    }
   ],
   "source": [
    "# The skew increases dramatically too\n",
    "stats.skew(sample2)"
   ]
  },
  {
   "cell_type": "code",
   "execution_count": null,
   "metadata": {},
   "outputs": [],
   "source": []
  }
 ],
 "metadata": {
  "kernelspec": {
   "display_name": "Python 3",
   "language": "python",
   "name": "python3"
  },
  "language_info": {
   "codemirror_mode": {
    "name": "ipython",
    "version": 3
   },
   "file_extension": ".py",
   "mimetype": "text/x-python",
   "name": "python",
   "nbconvert_exporter": "python",
   "pygments_lexer": "ipython3",
   "version": "3.7.3"
  }
 },
 "nbformat": 4,
 "nbformat_minor": 1
}
