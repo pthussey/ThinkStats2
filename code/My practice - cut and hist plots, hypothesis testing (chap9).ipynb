{
 "cells": [
  {
   "cell_type": "code",
   "execution_count": 1,
   "metadata": {},
   "outputs": [],
   "source": [
    "import pandas as pd\n",
    "import numpy as np\n",
    "import matplotlib\n",
    "import matplotlib.pyplot as plt\n",
    "import scipy.stats as stats\n",
    "import statsmodels.api as sm\n",
    "\n",
    "%matplotlib inline"
   ]
  },
  {
   "cell_type": "code",
   "execution_count": 2,
   "metadata": {},
   "outputs": [],
   "source": [
    "from __future__ import print_function, division\n",
    "\n",
    "import nsfg\n",
    "import first"
   ]
  },
  {
   "cell_type": "code",
   "execution_count": 3,
   "metadata": {},
   "outputs": [
    {
     "data": {
      "text/html": [
       "<div>\n",
       "<style scoped>\n",
       "    .dataframe tbody tr th:only-of-type {\n",
       "        vertical-align: middle;\n",
       "    }\n",
       "\n",
       "    .dataframe tbody tr th {\n",
       "        vertical-align: top;\n",
       "    }\n",
       "\n",
       "    .dataframe thead th {\n",
       "        text-align: right;\n",
       "    }\n",
       "</style>\n",
       "<table border=\"1\" class=\"dataframe\">\n",
       "  <thead>\n",
       "    <tr style=\"text-align: right;\">\n",
       "      <th></th>\n",
       "      <th>caseid</th>\n",
       "      <th>pregordr</th>\n",
       "      <th>howpreg_n</th>\n",
       "      <th>howpreg_p</th>\n",
       "      <th>moscurrp</th>\n",
       "      <th>nowprgdk</th>\n",
       "      <th>pregend1</th>\n",
       "      <th>pregend2</th>\n",
       "      <th>nbrnaliv</th>\n",
       "      <th>multbrth</th>\n",
       "      <th>...</th>\n",
       "      <th>laborfor_i</th>\n",
       "      <th>religion_i</th>\n",
       "      <th>metro_i</th>\n",
       "      <th>basewgt</th>\n",
       "      <th>adj_mod_basewgt</th>\n",
       "      <th>finalwgt</th>\n",
       "      <th>secu_p</th>\n",
       "      <th>sest</th>\n",
       "      <th>cmintvw</th>\n",
       "      <th>totalwgt_lb</th>\n",
       "    </tr>\n",
       "  </thead>\n",
       "  <tbody>\n",
       "    <tr>\n",
       "      <th>0</th>\n",
       "      <td>1</td>\n",
       "      <td>1</td>\n",
       "      <td>NaN</td>\n",
       "      <td>NaN</td>\n",
       "      <td>NaN</td>\n",
       "      <td>NaN</td>\n",
       "      <td>6.0</td>\n",
       "      <td>NaN</td>\n",
       "      <td>1.0</td>\n",
       "      <td>NaN</td>\n",
       "      <td>...</td>\n",
       "      <td>0</td>\n",
       "      <td>0</td>\n",
       "      <td>0</td>\n",
       "      <td>3410.389399</td>\n",
       "      <td>3869.349602</td>\n",
       "      <td>6448.271112</td>\n",
       "      <td>2</td>\n",
       "      <td>9</td>\n",
       "      <td>NaN</td>\n",
       "      <td>8.8125</td>\n",
       "    </tr>\n",
       "    <tr>\n",
       "      <th>1</th>\n",
       "      <td>1</td>\n",
       "      <td>2</td>\n",
       "      <td>NaN</td>\n",
       "      <td>NaN</td>\n",
       "      <td>NaN</td>\n",
       "      <td>NaN</td>\n",
       "      <td>6.0</td>\n",
       "      <td>NaN</td>\n",
       "      <td>1.0</td>\n",
       "      <td>NaN</td>\n",
       "      <td>...</td>\n",
       "      <td>0</td>\n",
       "      <td>0</td>\n",
       "      <td>0</td>\n",
       "      <td>3410.389399</td>\n",
       "      <td>3869.349602</td>\n",
       "      <td>6448.271112</td>\n",
       "      <td>2</td>\n",
       "      <td>9</td>\n",
       "      <td>NaN</td>\n",
       "      <td>7.8750</td>\n",
       "    </tr>\n",
       "    <tr>\n",
       "      <th>2</th>\n",
       "      <td>2</td>\n",
       "      <td>1</td>\n",
       "      <td>NaN</td>\n",
       "      <td>NaN</td>\n",
       "      <td>NaN</td>\n",
       "      <td>NaN</td>\n",
       "      <td>5.0</td>\n",
       "      <td>NaN</td>\n",
       "      <td>3.0</td>\n",
       "      <td>5.0</td>\n",
       "      <td>...</td>\n",
       "      <td>0</td>\n",
       "      <td>0</td>\n",
       "      <td>0</td>\n",
       "      <td>7226.301740</td>\n",
       "      <td>8567.549110</td>\n",
       "      <td>12999.542264</td>\n",
       "      <td>2</td>\n",
       "      <td>12</td>\n",
       "      <td>NaN</td>\n",
       "      <td>9.1250</td>\n",
       "    </tr>\n",
       "    <tr>\n",
       "      <th>3</th>\n",
       "      <td>2</td>\n",
       "      <td>2</td>\n",
       "      <td>NaN</td>\n",
       "      <td>NaN</td>\n",
       "      <td>NaN</td>\n",
       "      <td>NaN</td>\n",
       "      <td>6.0</td>\n",
       "      <td>NaN</td>\n",
       "      <td>1.0</td>\n",
       "      <td>NaN</td>\n",
       "      <td>...</td>\n",
       "      <td>0</td>\n",
       "      <td>0</td>\n",
       "      <td>0</td>\n",
       "      <td>7226.301740</td>\n",
       "      <td>8567.549110</td>\n",
       "      <td>12999.542264</td>\n",
       "      <td>2</td>\n",
       "      <td>12</td>\n",
       "      <td>NaN</td>\n",
       "      <td>7.0000</td>\n",
       "    </tr>\n",
       "    <tr>\n",
       "      <th>4</th>\n",
       "      <td>2</td>\n",
       "      <td>3</td>\n",
       "      <td>NaN</td>\n",
       "      <td>NaN</td>\n",
       "      <td>NaN</td>\n",
       "      <td>NaN</td>\n",
       "      <td>6.0</td>\n",
       "      <td>NaN</td>\n",
       "      <td>1.0</td>\n",
       "      <td>NaN</td>\n",
       "      <td>...</td>\n",
       "      <td>0</td>\n",
       "      <td>0</td>\n",
       "      <td>0</td>\n",
       "      <td>7226.301740</td>\n",
       "      <td>8567.549110</td>\n",
       "      <td>12999.542264</td>\n",
       "      <td>2</td>\n",
       "      <td>12</td>\n",
       "      <td>NaN</td>\n",
       "      <td>6.1875</td>\n",
       "    </tr>\n",
       "  </tbody>\n",
       "</table>\n",
       "<p>5 rows × 244 columns</p>\n",
       "</div>"
      ],
      "text/plain": [
       "   caseid  pregordr  howpreg_n  howpreg_p  moscurrp  nowprgdk  pregend1  \\\n",
       "0       1         1        NaN        NaN       NaN       NaN       6.0   \n",
       "1       1         2        NaN        NaN       NaN       NaN       6.0   \n",
       "2       2         1        NaN        NaN       NaN       NaN       5.0   \n",
       "3       2         2        NaN        NaN       NaN       NaN       6.0   \n",
       "4       2         3        NaN        NaN       NaN       NaN       6.0   \n",
       "\n",
       "   pregend2  nbrnaliv  multbrth  ...  laborfor_i  religion_i  metro_i  \\\n",
       "0       NaN       1.0       NaN  ...           0           0        0   \n",
       "1       NaN       1.0       NaN  ...           0           0        0   \n",
       "2       NaN       3.0       5.0  ...           0           0        0   \n",
       "3       NaN       1.0       NaN  ...           0           0        0   \n",
       "4       NaN       1.0       NaN  ...           0           0        0   \n",
       "\n",
       "       basewgt  adj_mod_basewgt      finalwgt  secu_p  sest  cmintvw  \\\n",
       "0  3410.389399      3869.349602   6448.271112       2     9      NaN   \n",
       "1  3410.389399      3869.349602   6448.271112       2     9      NaN   \n",
       "2  7226.301740      8567.549110  12999.542264       2    12      NaN   \n",
       "3  7226.301740      8567.549110  12999.542264       2    12      NaN   \n",
       "4  7226.301740      8567.549110  12999.542264       2    12      NaN   \n",
       "\n",
       "   totalwgt_lb  \n",
       "0       8.8125  \n",
       "1       7.8750  \n",
       "2       9.1250  \n",
       "3       7.0000  \n",
       "4       6.1875  \n",
       "\n",
       "[5 rows x 244 columns]"
      ]
     },
     "execution_count": 3,
     "metadata": {},
     "output_type": "execute_result"
    }
   ],
   "source": [
    "preg = nsfg.ReadFemPreg()\n",
    "preg.head()"
   ]
  },
  {
   "cell_type": "code",
   "execution_count": 4,
   "metadata": {},
   "outputs": [
    {
     "data": {
      "text/plain": [
       "<matplotlib.axes._subplots.AxesSubplot at 0x283499d9978>"
      ]
     },
     "execution_count": 4,
     "metadata": {},
     "output_type": "execute_result"
    },
    {
     "data": {
      "image/png": "[encoded data removed]",
      "text/plain": [
       "<Figure size 432x288 with 1 Axes>"
      ]
     },
     "metadata": {
      "needs_background": "light"
     },
     "output_type": "display_data"
    }
   ],
   "source": [
    "preg.birthwgt_lb.hist(bins=np.arange(0,14))"
   ]
  },
  {
   "cell_type": "code",
   "execution_count": 5,
   "metadata": {},
   "outputs": [
    {
     "data": {
      "text/plain": [
       "(6, 7]      3049\n",
       "(5, 6]      2223\n",
       "(7, 8]      1889\n",
       "(4, 5]       697\n",
       "(8, 9]       623\n",
       "(3, 4]       229\n",
       "(9, 10]      132\n",
       "(2, 3]        98\n",
       "(1, 2]        53\n",
       "(0, 1]        40\n",
       "(10, 11]      26\n",
       "(11, 12]      10\n",
       "(12, 13]       3\n",
       "Name: birthwgt_lb, dtype: int64"
      ]
     },
     "execution_count": 5,
     "metadata": {},
     "output_type": "execute_result"
    }
   ],
   "source": [
    "pd.cut(preg.birthwgt_lb, bins=np.arange(0,14)).value_counts()"
   ]
  },
  {
   "cell_type": "code",
   "execution_count": 6,
   "metadata": {},
   "outputs": [
    {
     "data": {
      "text/plain": [
       "7.0     3049\n",
       "6.0     2223\n",
       "8.0     1889\n",
       "5.0      697\n",
       "9.0      623\n",
       "4.0      229\n",
       "10.0     132\n",
       "3.0       98\n",
       "2.0       53\n",
       "1.0       40\n",
       "11.0      26\n",
       "12.0      10\n",
       "0.0        8\n",
       "13.0       3\n",
       "14.0       3\n",
       "15.0       1\n",
       "Name: birthwgt_lb, dtype: int64"
      ]
     },
     "execution_count": 6,
     "metadata": {},
     "output_type": "execute_result"
    }
   ],
   "source": [
    "preg.birthwgt_lb.value_counts()\n",
    "# Interestingly, above the histogram and pd.cut do not return the same results.\n",
    "# For the histogram it appears that the edge values are included in the 'right' bin\n",
    "# For example all the 7s are included in the 7,8 bin\n",
    "# However in pd.cut the edge values go into the 'left' bin"
   ]
  },
  {
   "cell_type": "code",
   "execution_count": 7,
   "metadata": {},
   "outputs": [
    {
     "data": {
      "text/plain": [
       "[7, 8)      3049\n",
       "[6, 7)      2223\n",
       "[8, 9)      1889\n",
       "[5, 6)       697\n",
       "[9, 10)      623\n",
       "[4, 5)       229\n",
       "[10, 11)     132\n",
       "[3, 4)        98\n",
       "[2, 3)        53\n",
       "[1, 2)        40\n",
       "[11, 12)      26\n",
       "[12, 13)      10\n",
       "[0, 1)         8\n",
       "Name: birthwgt_lb, dtype: int64"
      ]
     },
     "execution_count": 7,
     "metadata": {},
     "output_type": "execute_result"
    }
   ],
   "source": [
    "# If we pass right = False then we get the same result as the histogram\n",
    "pd.cut(preg.birthwgt_lb, bins=np.arange(0,14), right=False).value_counts()"
   ]
  },
  {
   "cell_type": "markdown",
   "metadata": {},
   "source": [
    "### Trying some hypothesis testing"
   ]
  },
  {
   "cell_type": "code",
   "execution_count": 8,
   "metadata": {},
   "outputs": [
    {
     "data": {
      "text/plain": [
       "0.06642115124004863"
      ]
     },
     "execution_count": 8,
     "metadata": {},
     "output_type": "execute_result"
    }
   ],
   "source": [
    "# same answer as in book for example in section 9.2\n",
    "stats.binom_test(140,250)"
   ]
  },
  {
   "cell_type": "code",
   "execution_count": 9,
   "metadata": {},
   "outputs": [],
   "source": [
    "live, firsts, others = first.MakeFrames()"
   ]
  },
  {
   "cell_type": "code",
   "execution_count": 10,
   "metadata": {},
   "outputs": [],
   "source": [
    "firsts_prglngth = firsts.prglngth.values\n",
    "others_prglngth = others.prglngth.values"
   ]
  },
  {
   "cell_type": "code",
   "execution_count": 11,
   "metadata": {},
   "outputs": [
    {
     "data": {
      "text/plain": [
       "Ttest_indResult(statistic=1.3802152088125652, pvalue=0.16755412639415004)"
      ]
     },
     "execution_count": 11,
     "metadata": {},
     "output_type": "execute_result"
    }
   ],
   "source": [
    "# same as answer in book, section 9.3\n",
    "result = stats.ttest_ind(firsts.prglngth.values, others.prglngth.values)\n",
    "result"
   ]
  },
  {
   "cell_type": "code",
   "execution_count": 12,
   "metadata": {},
   "outputs": [
    {
     "data": {
      "text/plain": [
       "Ttest_indResult(statistic=-1.3802152088125652, pvalue=0.16755412639415004)"
      ]
     },
     "execution_count": 12,
     "metadata": {},
     "output_type": "execute_result"
    }
   ],
   "source": [
    "# Try with data reversed, same thing except statistic is negative\n",
    "# Note that to do a one-tailed test it is only necessary to divide the p-value by 2 (section 9.4)\n",
    "result2 = stats.ttest_ind(others.prglngth.values, firsts.prglngth.values)\n",
    "result2"
   ]
  },
  {
   "cell_type": "code",
   "execution_count": 13,
   "metadata": {},
   "outputs": [],
   "source": [
    "live = live.dropna(subset=['agepreg', 'totalwgt_lb'])"
   ]
  },
  {
   "cell_type": "code",
   "execution_count": 14,
   "metadata": {},
   "outputs": [],
   "source": [
    "def CorrelationRandCI(x, y, alpha=0.05, method='pearson'):\n",
    "    ''' Calculate a correlation coefficient and its confidence interval for two data sets.\n",
    "    \n",
    "    Args:\n",
    "        x, y {array-like} -- Input data sets\n",
    "        alpha {float} -- Significance level (default: 0.05)\n",
    "        method {string} -- Select 'pearson' or 'spearman' method (default: 'pearson')\n",
    "   \n",
    "    Returns:\n",
    "        r {float} -- The correlation coefficient\n",
    "        p {float} -- The corresponding p value\n",
    "        lo, hi {float} -- The lower and upper bounds of the confidence interval\n",
    "    '''\n",
    "\n",
    "    if method == 'pearson':\n",
    "        r, p = stats.pearsonr(x,y)\n",
    "    elif method == 'spearman':\n",
    "        r, p = stats.spearmanr(x,y)\n",
    "    else:\n",
    "        raise Exception('Must enter either pearson or spearman as a string for method argument')\n",
    "\n",
    "    r_z = np.arctanh(r)\n",
    "    stderr = 1 / np.sqrt(len(x) - 3)\n",
    "    z = stats.norm.ppf(1 - alpha / 2)\n",
    "    low_z, high_z = r_z - (z * stderr), r_z + (z * stderr)\n",
    "    low, high = np.tanh((low_z, high_z))\n",
    "    return r, p, low, high"
   ]
  },
  {
   "cell_type": "code",
   "execution_count": 15,
   "metadata": {},
   "outputs": [],
   "source": [
    "agepreg = live.agepreg.values\n",
    "wgt = live.totalwgt_lb.values"
   ]
  },
  {
   "cell_type": "code",
   "execution_count": 16,
   "metadata": {},
   "outputs": [
    {
     "data": {
      "text/plain": [
       "(0.0688339703541091,\n",
       " 5.722947107252811e-11,\n",
       " 0.04828563698428594,\n",
       " 0.08932406444362938)"
      ]
     },
     "execution_count": 16,
     "metadata": {},
     "output_type": "execute_result"
    }
   ],
   "source": [
    "# This corresponds with what is explained in the book in section 9.5: \"r is 0.07 and p approaches zero\"\n",
    "# Question: how could we do randomized simulations to compare the r value as done in the book?: got highest of 0.04\n",
    "CorrelationRandCI(agepreg, wgt)"
   ]
  },
  {
   "cell_type": "code",
   "execution_count": 17,
   "metadata": {},
   "outputs": [],
   "source": [
    "# Try a randomization, this works just fine for doing simulations, and gave a similar result as in the book\n",
    "# This appends the r value in the results\n",
    "results = []\n",
    "for _ in range(1000):\n",
    "    agepreg2 = np.random.permutation(agepreg)\n",
    "    r = CorrelationRandCI(agepreg2, wgt)\n",
    "    results.append(r[0])"
   ]
  },
  {
   "cell_type": "code",
   "execution_count": 18,
   "metadata": {},
   "outputs": [
    {
     "data": {
      "text/plain": [
       "0.027231796423124458"
      ]
     },
     "execution_count": 18,
     "metadata": {},
     "output_type": "execute_result"
    }
   ],
   "source": [
    "# The max results for r value after 1000 simulations\n",
    "# Since after 1000 simulations we cannot get an r value as high as the one from our data this shows statistical significance\n",
    "max(results)"
   ]
  },
  {
   "cell_type": "code",
   "execution_count": 19,
   "metadata": {},
   "outputs": [
    {
     "data": {
      "text/plain": [
       "Power_divergenceResult(statistic=11.6, pvalue=0.040699388504049985)"
      ]
     },
     "execution_count": 19,
     "metadata": {},
     "output_type": "execute_result"
    }
   ],
   "source": [
    "# Try proportion one too (section 9.6)\n",
    "# The book first does a total deviation method and then this chisquare method\n",
    "# The one below matches with the chisquare method in the book\n",
    "results = stats.chisquare([8,9,19,5,8,11])\n",
    "results"
   ]
  },
  {
   "cell_type": "code",
   "execution_count": null,
   "metadata": {},
   "outputs": [],
   "source": []
  },
  {
   "cell_type": "code",
   "execution_count": 20,
   "metadata": {},
   "outputs": [
    {
     "data": {
      "text/plain": [
       "(4413, 4735)"
      ]
     },
     "execution_count": 20,
     "metadata": {},
     "output_type": "execute_result"
    }
   ],
   "source": [
    "# Try randomization method for difference in means test from section 9.3 too\n",
    "# The basic idea here is to pool all the data, then run many iterations on it by randomizing, splitting, and comparing\n",
    "# Then finally we can check what the most extreme value is that we get and compare that with the p-value from our original data\n",
    "# The purpose of this is to see what kind of results we get from a null hypothesis case\n",
    "firsts_prglngth = firsts.prglngth.values\n",
    "others_prglngth = others.prglngth.values\n",
    "first_size = len(firsts_prglngth)\n",
    "other_size = len(others_prglngth)\n",
    "pooled_data = np.hstack((firsts_prglngth, others_prglngth))\n",
    "first_size, other_size"
   ]
  },
  {
   "cell_type": "code",
   "execution_count": 21,
   "metadata": {},
   "outputs": [],
   "source": [
    "pvalue_results = []\n",
    "for _ in range(1000):\n",
    "    np.random.shuffle(pooled_data)\n",
    "    group1 = pooled_data[:first_size]\n",
    "    group2 = pooled_data[first_size:]\n",
    "    result = stats.ttest_ind(group1, group2)\n",
    "    pvalue_results.append(result.pvalue)"
   ]
  },
  {
   "cell_type": "code",
   "execution_count": 22,
   "metadata": {},
   "outputs": [
    {
     "data": {
      "text/plain": [
       "0.001467905990792668"
      ]
     },
     "execution_count": 22,
     "metadata": {},
     "output_type": "execute_result"
    }
   ],
   "source": [
    "min(pvalue_results)"
   ]
  },
  {
   "cell_type": "code",
   "execution_count": 23,
   "metadata": {},
   "outputs": [
    {
     "data": {
      "text/plain": [
       "0.07803726677754952"
      ]
     },
     "execution_count": 23,
     "metadata": {},
     "output_type": "execute_result"
    }
   ],
   "source": [
    "# In the end the above randomization for section 9.3 (difference in means) to obtain min pvalue doesn't show us anything\n",
    "# The reason for this I think is that doing 1000 randomized trials like this will of course yield a wide range of pvalues\n",
    "# After 1000 trails it is natural that you would get some low results and some high results\n",
    "# What needs to be compared here is the test statistic, not the p-value, as I did above with the r values\n",
    "# The test statistic in this case is the abs diff in means\n",
    "# Try again\n",
    "diff_mean_orginal = abs(firsts_prglngth.mean() - others_prglngth.mean())\n",
    "diff_mean_orginal"
   ]
  },
  {
   "cell_type": "code",
   "execution_count": 24,
   "metadata": {},
   "outputs": [],
   "source": [
    "diff_mean_results = []\n",
    "for _ in range(10):\n",
    "    np.random.shuffle(pooled_data)\n",
    "    group1 = pooled_data[:first_size]\n",
    "    group2 = pooled_data[first_size:]\n",
    "    result = abs(group1.mean() - group2.mean())\n",
    "    diff_mean_results.append(result)"
   ]
  },
  {
   "cell_type": "code",
   "execution_count": 25,
   "metadata": {},
   "outputs": [
    {
     "data": {
      "text/plain": [
       "0.07168912239947645"
      ]
     },
     "execution_count": 25,
     "metadata": {},
     "output_type": "execute_result"
    }
   ],
   "source": [
    "max(diff_mean_results)"
   ]
  },
  {
   "cell_type": "code",
   "execution_count": 26,
   "metadata": {},
   "outputs": [],
   "source": [
    "# The above shows that I can get far higher differences in mean from randomized samples compared with the original data one\n",
    "# Even when the number of simulations is reduced quite low I can still easily get higher values\n",
    "# This demonstrates further that the difference in means is not statistically significant"
   ]
  },
  {
   "cell_type": "code",
   "execution_count": 27,
   "metadata": {},
   "outputs": [],
   "source": [
    "# Try my diffmeansrandomization function\n",
    "def DiffMeansRandomization(a, b, iters=1000):\n",
    "    \n",
    "    # Combine the two data sets\n",
    "    a_size = len(a)\n",
    "    pooled_data = np.hstack((a, b))\n",
    "\n",
    "    # Calculate the difference in means of randomized samples from the pooled data\n",
    "    diff_mean_results = []\n",
    "    for _ in range(iters):\n",
    "        np.random.shuffle(pooled_data)\n",
    "        group1 = pooled_data[:a_size]\n",
    "        group2 = pooled_data[a_size:]\n",
    "        result = abs(group1.mean() - group2.mean())\n",
    "        diff_mean_results.append(result)\n",
    "    \n",
    "    return max(diff_mean_results)"
   ]
  },
  {
   "cell_type": "code",
   "execution_count": 28,
   "metadata": {},
   "outputs": [
    {
     "data": {
      "text/plain": [
       "0.1275082667103149"
      ]
     },
     "execution_count": 28,
     "metadata": {},
     "output_type": "execute_result"
    }
   ],
   "source": [
    "# It's working\n",
    "max_diff = DiffMeansRandomization(firsts_prglngth, others_prglngth, iters=10)\n",
    "max_diff"
   ]
  },
  {
   "cell_type": "code",
   "execution_count": 29,
   "metadata": {},
   "outputs": [],
   "source": [
    "# test function with new one-sided option\n",
    "def DiffMeansRandomization(a, b, iters=1000, onesided=False, seed=123):\n",
    "    \"\"\"Generates a list of differences in means of two data sets from randomized simulations.\n",
    "       Can then use the 'max' built-in to find what the most extreme value is.\n",
    "\n",
    "    Args:\n",
    "        a (array-like): Input data set 1\n",
    "        b (array-like): Input data set 2\n",
    "        iters (int, optional): The number of simulations to run (Defaults to 1000)\n",
    "        onesided (bool): If set to True a onesided test is run, not using absolute value of difference (defaults to False) \n",
    "\n",
    "    Returns:\n",
    "        list: The differences in means from the simulations\n",
    "    \"\"\"\n",
    "    # set seed\n",
    "    np.random.seed(seed)\n",
    "        \n",
    "    # Combine the two data sets\n",
    "    a_size = len(a)\n",
    "    pooled_data = np.hstack((a, b))\n",
    "\n",
    "    # Calculate the difference in means of randomized samples from the pooled data\n",
    "    diff_mean_results = []\n",
    "    \n",
    "    if onesided == False:\n",
    "        for _ in range(iters):\n",
    "            np.random.shuffle(pooled_data)\n",
    "            group1 = pooled_data[:a_size]\n",
    "            group2 = pooled_data[a_size:]\n",
    "            result = abs(group1.mean() - group2.mean())\n",
    "            diff_mean_results.append(result)\n",
    "        print(1)\n",
    "    \n",
    "    elif onesided == True:\n",
    "        for _ in range(iters):\n",
    "            np.random.shuffle(pooled_data)\n",
    "            group1 = pooled_data[:a_size]\n",
    "            group2 = pooled_data[a_size:]\n",
    "            result = group1.mean() - group2.mean()\n",
    "            diff_mean_results.append(result)\n",
    "        print(2)\n",
    "    \n",
    "    else:\n",
    "        raise TypeError('\\'onesided\\' parameter only accepts Boolean True or False')\n",
    "    \n",
    "    return diff_mean_results"
   ]
  },
  {
   "cell_type": "code",
   "execution_count": 30,
   "metadata": {},
   "outputs": [
    {
     "name": "stdout",
     "output_type": "stream",
     "text": [
      "2\n"
     ]
    },
    {
     "data": {
      "text/plain": [
       "[-0.0007660959471991191,\n",
       " -0.03403862687542869,\n",
       " -0.016964564951727823,\n",
       " -0.0870119984848472,\n",
       " -0.0541772640161966,\n",
       " 0.03907338187475773,\n",
       " 0.01236779784026254,\n",
       " 0.02199931995105686,\n",
       " -0.03929218439041193,\n",
       " -0.0033928747046871877]"
      ]
     },
     "execution_count": 30,
     "metadata": {},
     "output_type": "execute_result"
    }
   ],
   "source": [
    "DiffMeansRandomization(firsts_prglngth, others_prglngth, iters=10, onesided=True)"
   ]
  },
  {
   "cell_type": "code",
   "execution_count": 31,
   "metadata": {},
   "outputs": [
    {
     "name": "stdout",
     "output_type": "stream",
     "text": [
      "1\n"
     ]
    },
    {
     "data": {
      "text/plain": [
       "[0.0007660959471991191,\n",
       " 0.03403862687542869,\n",
       " 0.016964564951727823,\n",
       " 0.0870119984848472,\n",
       " 0.0541772640161966,\n",
       " 0.03907338187475773,\n",
       " 0.01236779784026254,\n",
       " 0.02199931995105686,\n",
       " 0.03929218439041193,\n",
       " 0.0033928747046871877]"
      ]
     },
     "execution_count": 31,
     "metadata": {},
     "output_type": "execute_result"
    }
   ],
   "source": [
    "DiffMeansRandomization(firsts_prglngth, others_prglngth, iters=10)"
   ]
  },
  {
   "cell_type": "code",
   "execution_count": 32,
   "metadata": {},
   "outputs": [
    {
     "name": "stdout",
     "output_type": "stream",
     "text": [
      "2\n"
     ]
    },
    {
     "data": {
      "text/plain": [
       "[-0.0007660959471991191,\n",
       " -0.03403862687542869,\n",
       " -0.016964564951727823,\n",
       " -0.0870119984848472,\n",
       " -0.0541772640161966,\n",
       " 0.03907338187475773,\n",
       " 0.01236779784026254,\n",
       " 0.02199931995105686,\n",
       " -0.03929218439041193,\n",
       " -0.0033928747046871877]"
      ]
     },
     "execution_count": 32,
     "metadata": {},
     "output_type": "execute_result"
    }
   ],
   "source": [
    "DiffMeansRandomization(firsts_prglngth, others_prglngth, iters=10, onesided=True)"
   ]
  },
  {
   "cell_type": "code",
   "execution_count": 33,
   "metadata": {
    "scrolled": false
   },
   "outputs": [],
   "source": [
    "# Raise an error\n",
    "# DiffMeansRandomization(firsts_prglngth, others_prglngth, iters=10, onesided='yes')"
   ]
  },
  {
   "cell_type": "code",
   "execution_count": 34,
   "metadata": {},
   "outputs": [],
   "source": [
    "# section 9.8 first babies chisquared case\n",
    "# First build rv from pooled prglngth lists and uses this generate the expected probabilites for 35 - 43 weeks\n",
    "# Then use rvs to generate values for observed and use the probs from above to generate expected\n",
    "# These then go into the chisquare test\n",
    "# stats.chisquare()"
   ]
  },
  {
   "cell_type": "code",
   "execution_count": 35,
   "metadata": {},
   "outputs": [],
   "source": [
    "def DiscreteRv(a):\n",
    "    \"\"\"Creates a scipy.stats discrete_rv.\n",
    "\n",
    "    Arguments:\n",
    "        a {array-like} -- a single data set, will be flattened if it is not already 1-D\n",
    "\n",
    "    Returns:\n",
    "        An instance of scipy.stats discrete_rv representing the input data\n",
    "    \"\"\"\n",
    "    val,cnt = np.unique(a, return_counts=True)\n",
    "    \n",
    "    return stats.rv_discrete(values=(val,cnt/sum(cnt)))"
   ]
  },
  {
   "cell_type": "code",
   "execution_count": 36,
   "metadata": {},
   "outputs": [],
   "source": [
    "pooled_rv = DiscreteRv(pooled_data)\n",
    "values = range(35,44)"
   ]
  },
  {
   "cell_type": "code",
   "execution_count": 37,
   "metadata": {},
   "outputs": [],
   "source": [
    "expected_probs = pooled_rv.pmf(values)"
   ]
  },
  {
   "cell_type": "code",
   "execution_count": 38,
   "metadata": {},
   "outputs": [],
   "source": [
    "firsts_rv = DiscreteRv(firsts_prglngth)\n",
    "others_rv = DiscreteRv(others_prglngth)\n",
    "\n",
    "firsts_probs = firsts_rv.pmf(values)\n",
    "others_probs = others_rv.pmf(values)\n",
    "\n",
    "firsts_obs = firsts_probs * len(firsts_prglngth)\n",
    "others_obs = others_probs * len(others_prglngth)\n",
    "\n",
    "firsts_exp = expected_probs * len(firsts_prglngth)\n",
    "others_exp = expected_probs * len(others_prglngth)"
   ]
  },
  {
   "cell_type": "code",
   "execution_count": 39,
   "metadata": {},
   "outputs": [],
   "source": [
    "firsts_chi = stats.chisquare(firsts_obs, firsts_exp)\n",
    "others_chi = stats.chisquare(others_obs, others_exp)"
   ]
  },
  {
   "cell_type": "code",
   "execution_count": 40,
   "metadata": {},
   "outputs": [
    {
     "data": {
      "text/plain": [
       "Power_divergenceResult(statistic=52.537079057170516, pvalue=1.3253907962535425e-08)"
      ]
     },
     "execution_count": 40,
     "metadata": {},
     "output_type": "execute_result"
    }
   ],
   "source": [
    "firsts_chi"
   ]
  },
  {
   "cell_type": "code",
   "execution_count": 41,
   "metadata": {},
   "outputs": [
    {
     "data": {
      "text/plain": [
       "Power_divergenceResult(statistic=48.96433577176214, pvalue=6.458646999054618e-08)"
      ]
     },
     "execution_count": 41,
     "metadata": {},
     "output_type": "execute_result"
    }
   ],
   "source": [
    "others_chi"
   ]
  },
  {
   "cell_type": "code",
   "execution_count": 42,
   "metadata": {},
   "outputs": [
    {
     "data": {
      "text/plain": [
       "101.50141482893265"
      ]
     },
     "execution_count": 42,
     "metadata": {},
     "output_type": "execute_result"
    }
   ],
   "source": [
    "# This worked to give the same value as in the book: 102 for the chisquared test statistic\n",
    "firsts_chi.statistic + others_chi.statistic"
   ]
  },
  {
   "cell_type": "code",
   "execution_count": 43,
   "metadata": {},
   "outputs": [],
   "source": [
    "# To match with the book, the final part would be to run the iterations of the same calculations on the null hypothesis model\n",
    "# I decided not to do this though"
   ]
  },
  {
   "cell_type": "code",
   "execution_count": 44,
   "metadata": {},
   "outputs": [
    {
     "data": {
      "text/plain": [
       "Power_divergenceResult(statistic=8.383333333333333, pvalue=0.07850351401595175)"
      ]
     },
     "execution_count": 44,
     "metadata": {},
     "output_type": "execute_result"
    }
   ],
   "source": [
    "# Trying with some khanacademy questions\n",
    "exp = [16,20,16,16,12]\n",
    "obs = [16,11,16,18,19]\n",
    "stats.chisquare(obs, exp)"
   ]
  },
  {
   "cell_type": "code",
   "execution_count": 45,
   "metadata": {},
   "outputs": [
    {
     "data": {
      "text/plain": [
       "Power_divergenceResult(statistic=1.1427737415672028, pvalue=0.5647416716086866)"
      ]
     },
     "execution_count": 45,
     "metadata": {},
     "output_type": "execute_result"
    }
   ],
   "source": [
    "exp = [94,24,82]\n",
    "obs = [90,21,89]\n",
    "stats.chisquare(obs, exp)"
   ]
  },
  {
   "cell_type": "code",
   "execution_count": 46,
   "metadata": {},
   "outputs": [
    {
     "data": {
      "text/plain": [
       "Power_divergenceResult(statistic=8.88888888888889, pvalue=0.03080523378048964)"
      ]
     },
     "execution_count": 46,
     "metadata": {},
     "output_type": "execute_result"
    }
   ],
   "source": [
    "exp = [75,45,15,15]\n",
    "obs = [75,55,15,5]\n",
    "stats.chisquare(obs, exp)"
   ]
  },
  {
   "cell_type": "code",
   "execution_count": 47,
   "metadata": {},
   "outputs": [
    {
     "data": {
      "text/plain": [
       "Power_divergenceResult(statistic=4.0, pvalue=0.40600584970983794)"
      ]
     },
     "execution_count": 47,
     "metadata": {},
     "output_type": "execute_result"
    }
   ],
   "source": [
    "exp = [8,8,20,36,8]\n",
    "obs = [12,4,20,36,8]\n",
    "stats.chisquare(obs, exp)"
   ]
  },
  {
   "cell_type": "code",
   "execution_count": 48,
   "metadata": {},
   "outputs": [
    {
     "data": {
      "text/plain": [
       "(4.327876984126984,\n",
       " 0.11487180723651062,\n",
       " 2,\n",
       " array([[ 32. ,   9.6,   6.4],\n",
       "        [168. ,  50.4,  33.6]]))"
      ]
     },
     "execution_count": 48,
     "metadata": {},
     "output_type": "execute_result"
    }
   ],
   "source": [
    "# More Khanacademy questions\n",
    "stats.chi2_contingency([[38,7,3],[162,53,37]])"
   ]
  },
  {
   "cell_type": "code",
   "execution_count": 49,
   "metadata": {},
   "outputs": [
    {
     "data": {
      "text/plain": [
       "(18.928765513696113,\n",
       " 0.00028282921547299954,\n",
       " 3,\n",
       " array([[ 9. ,  9. ],\n",
       "        [44.5, 44.5],\n",
       "        [34. , 34. ],\n",
       "        [62.5, 62.5]]))"
      ]
     },
     "execution_count": 49,
     "metadata": {},
     "output_type": "execute_result"
    }
   ],
   "source": [
    "stats.chi2_contingency([[8,10],[28,61],[39,29],[75,50]])"
   ]
  },
  {
   "cell_type": "code",
   "execution_count": 50,
   "metadata": {},
   "outputs": [
    {
     "data": {
      "text/plain": [
       "(1.9662966537966542,\n",
       " 0.5794313456996103,\n",
       " 3,\n",
       " array([[  8.4,  75.6],\n",
       "        [  6.4,  57.6],\n",
       "        [ 14.8, 133.2],\n",
       "        [  6.4,  57.6]]))"
      ]
     },
     "execution_count": 50,
     "metadata": {},
     "output_type": "execute_result"
    }
   ],
   "source": [
    "stats.chi2_contingency([[6,78],[9,55],[15,133],[6,58]])"
   ]
  },
  {
   "cell_type": "code",
   "execution_count": 51,
   "metadata": {},
   "outputs": [
    {
     "data": {
      "text/plain": [
       "(5.158730158730159,\n",
       " 0.07582212977799092,\n",
       " 2,\n",
       " array([[35., 21., 14.],\n",
       "        [15.,  9.,  6.]]))"
      ]
     },
     "execution_count": 51,
     "metadata": {},
     "output_type": "execute_result"
    }
   ],
   "source": [
    "stats.chi2_contingency([[30,25,15],[20,5,5]])"
   ]
  },
  {
   "cell_type": "code",
   "execution_count": 52,
   "metadata": {},
   "outputs": [],
   "source": [
    "# Testing my proportion hypothesis functions\n",
    "def TwoSampleZtestForProportion(p1, n1, p2, n2, hyp_diff = 0):\n",
    "    \"\"\"A two-tailed, two-sample Z-test for difference between two sample proportions.\n",
    "    The test measures whether the proportions differ significantly across samples.\n",
    "\n",
    "    Args:\n",
    "        p1 (float): The first sample proportion\n",
    "        n1 (int): The first sample size\n",
    "        p2 (float): The second sample proportion\n",
    "        n2 (int): The second sample size\n",
    "        hyp_diff (float): The hypothesized difference between the proportions of the samples (defaults to 0) \n",
    "\n",
    "    Returns:\n",
    "        z (float): The z-score\n",
    "        p_value (float): The p_value (two-tailed)\n",
    "    \"\"\"\n",
    "    \n",
    "    p_total = (p1*n1 + p2*n2) / (n1 + n2)\n",
    "\n",
    "    z = ((p1 - p2) - hyp_diff) / np.sqrt(p_total * (1-p_total) * ((1/n1) + (1/n2)))\n",
    "    p_value = 2 * (1 - stats.norm.cdf(z))\n",
    "\n",
    "    return z, p_value"
   ]
  },
  {
   "cell_type": "code",
   "execution_count": 53,
   "metadata": {},
   "outputs": [
    {
     "data": {
      "text/plain": [
       "(-8.988182555020416, 2.0)"
      ]
     },
     "execution_count": 53,
     "metadata": {},
     "output_type": "execute_result"
    }
   ],
   "source": [
    "TwoSampleZtestForProportion(.21, 195, .58, 605)"
   ]
  },
  {
   "cell_type": "code",
   "execution_count": 54,
   "metadata": {},
   "outputs": [],
   "source": [
    "def OneSampleZtestForProportion(p, p_pop, n):\n",
    "    \"\"\"A two-tailed, one-sample Z-test for a proportion.\n",
    "    The test measures whether an observed proportion differs from a population proportion.\n",
    "\n",
    "    Args:\n",
    "        p (float): The sample proportion\n",
    "        p_pop (float): The population proportion\n",
    "        n (int): The sample size\n",
    "\n",
    "    Returns:\n",
    "        z (float): The z-score\n",
    "        p_value (float): The p_value (two-tailed)\n",
    "    \"\"\"\n",
    "    z = abs(p - p_pop) / np.sqrt(p_pop * (1 - p_pop) / n)\n",
    "    p_value = 2 * (1 - stats.norm.cdf(z))\n",
    "\n",
    "    return z, p_value"
   ]
  },
  {
   "cell_type": "code",
   "execution_count": 55,
   "metadata": {},
   "outputs": [
    {
     "data": {
      "text/plain": [
       "(3.1622776601683786, 0.0015654022580025018)"
      ]
     },
     "execution_count": 55,
     "metadata": {},
     "output_type": "execute_result"
    }
   ],
   "source": [
    "OneSampleZtestForProportion(.45,.50,1000)"
   ]
  },
  {
   "cell_type": "code",
   "execution_count": 56,
   "metadata": {},
   "outputs": [
    {
     "data": {
      "text/plain": [
       "(1.4566914566921851, 0.14520156911789295)"
      ]
     },
     "execution_count": 56,
     "metadata": {},
     "output_type": "execute_result"
    }
   ],
   "source": [
    "OneSampleZtestForProportion(.274, .20, 62)"
   ]
  },
  {
   "cell_type": "code",
   "execution_count": 59,
   "metadata": {},
   "outputs": [
    {
     "data": {
      "text/html": [
       "<div>\n",
       "<style scoped>\n",
       "    .dataframe tbody tr th:only-of-type {\n",
       "        vertical-align: middle;\n",
       "    }\n",
       "\n",
       "    .dataframe tbody tr th {\n",
       "        vertical-align: top;\n",
       "    }\n",
       "\n",
       "    .dataframe thead th {\n",
       "        text-align: right;\n",
       "    }\n",
       "</style>\n",
       "<table border=\"1\" class=\"dataframe\">\n",
       "  <thead>\n",
       "    <tr style=\"text-align: right;\">\n",
       "      <th></th>\n",
       "      <th>0</th>\n",
       "      <th>1</th>\n",
       "      <th>2</th>\n",
       "      <th>3</th>\n",
       "      <th>4</th>\n",
       "      <th>5</th>\n",
       "    </tr>\n",
       "  </thead>\n",
       "  <tbody>\n",
       "    <tr>\n",
       "      <th>0</th>\n",
       "      <td>0</td>\n",
       "      <td>1</td>\n",
       "      <td>2</td>\n",
       "      <td>3</td>\n",
       "      <td>4</td>\n",
       "      <td>5</td>\n",
       "    </tr>\n",
       "    <tr>\n",
       "      <th>1</th>\n",
       "      <td>6</td>\n",
       "      <td>7</td>\n",
       "      <td>8</td>\n",
       "      <td>9</td>\n",
       "      <td>10</td>\n",
       "      <td>11</td>\n",
       "    </tr>\n",
       "    <tr>\n",
       "      <th>2</th>\n",
       "      <td>12</td>\n",
       "      <td>13</td>\n",
       "      <td>14</td>\n",
       "      <td>15</td>\n",
       "      <td>16</td>\n",
       "      <td>17</td>\n",
       "    </tr>\n",
       "    <tr>\n",
       "      <th>3</th>\n",
       "      <td>18</td>\n",
       "      <td>19</td>\n",
       "      <td>20</td>\n",
       "      <td>21</td>\n",
       "      <td>22</td>\n",
       "      <td>23</td>\n",
       "    </tr>\n",
       "    <tr>\n",
       "      <th>4</th>\n",
       "      <td>24</td>\n",
       "      <td>25</td>\n",
       "      <td>26</td>\n",
       "      <td>27</td>\n",
       "      <td>28</td>\n",
       "      <td>29</td>\n",
       "    </tr>\n",
       "    <tr>\n",
       "      <th>5</th>\n",
       "      <td>30</td>\n",
       "      <td>31</td>\n",
       "      <td>32</td>\n",
       "      <td>33</td>\n",
       "      <td>34</td>\n",
       "      <td>35</td>\n",
       "    </tr>\n",
       "  </tbody>\n",
       "</table>\n",
       "</div>"
      ],
      "text/plain": [
       "    0   1   2   3   4   5\n",
       "0   0   1   2   3   4   5\n",
       "1   6   7   8   9  10  11\n",
       "2  12  13  14  15  16  17\n",
       "3  18  19  20  21  22  23\n",
       "4  24  25  26  27  28  29\n",
       "5  30  31  32  33  34  35"
      ]
     },
     "execution_count": 59,
     "metadata": {},
     "output_type": "execute_result"
    }
   ],
   "source": [
    "df_test = pd.DataFrame(np.array(range(36)).reshape(6,6))\n",
    "df_test"
   ]
  },
  {
   "cell_type": "markdown",
   "metadata": {},
   "source": [
    "### Try some statsmodels confidence intervals and hypothesis tests"
   ]
  },
  {
   "cell_type": "code",
   "execution_count": 61,
   "metadata": {},
   "outputs": [],
   "source": [
    "import statsmodels.api as sm"
   ]
  },
  {
   "cell_type": "code",
   "execution_count": 62,
   "metadata": {},
   "outputs": [
    {
     "data": {
      "text/plain": [
       "(-2.666666666666669, 0.00766076113517941)"
      ]
     },
     "execution_count": 62,
     "metadata": {},
     "output_type": "execute_result"
    }
   ],
   "source": [
    "sm.stats.proportions_ztest(82,100,.9, prop_var=.9)"
   ]
  },
  {
   "cell_type": "code",
   "execution_count": 64,
   "metadata": {},
   "outputs": [
    {
     "data": {
      "text/plain": [
       "(1.3802152088125645, 0.1675541263941503, 9146.0)"
      ]
     },
     "execution_count": 64,
     "metadata": {},
     "output_type": "execute_result"
    }
   ],
   "source": [
    "# Difference in means test, same result as scipy from above:\n",
    "# Ttest_indResult(statistic=1.3802152088125652, pvalue=0.16755412639415004)\n",
    "sm.stats.ttest_ind(firsts.prglngth.values, others.prglngth.values)"
   ]
  },
  {
   "cell_type": "code",
   "execution_count": null,
   "metadata": {},
   "outputs": [],
   "source": []
  }
 ],
 "metadata": {
  "kernelspec": {
   "display_name": "Python 3",
   "language": "python",
   "name": "python3"
  },
  "language_info": {
   "codemirror_mode": {
    "name": "ipython",
    "version": 3
   },
   "file_extension": ".py",
   "mimetype": "text/x-python",
   "name": "python",
   "nbconvert_exporter": "python",
   "pygments_lexer": "ipython3",
   "version": "3.7.3"
  }
 },
 "nbformat": 4,
 "nbformat_minor": 2
}
