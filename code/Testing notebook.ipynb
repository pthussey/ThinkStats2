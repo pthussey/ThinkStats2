{
 "cells": [
  {
   "cell_type": "code",
   "execution_count": 1,
   "metadata": {},
   "outputs": [],
   "source": [
    "import pandas as pd\n",
    "import numpy as np\n",
    "import matplotlib\n",
    "import matplotlib.pyplot as plt\n",
    "import scipy.stats as stats\n",
    "\n",
    "%matplotlib inline"
   ]
  },
  {
   "cell_type": "code",
   "execution_count": 2,
   "metadata": {},
   "outputs": [],
   "source": [
    "df = pd.DataFrame(np.random.randint(1,10,32).reshape(8,4), columns=['a','b','c','d'])"
   ]
  },
  {
   "cell_type": "code",
   "execution_count": 3,
   "metadata": {},
   "outputs": [
    {
     "data": {
      "text/html": [
       "<div>\n",
       "<style scoped>\n",
       "    .dataframe tbody tr th:only-of-type {\n",
       "        vertical-align: middle;\n",
       "    }\n",
       "\n",
       "    .dataframe tbody tr th {\n",
       "        vertical-align: top;\n",
       "    }\n",
       "\n",
       "    .dataframe thead th {\n",
       "        text-align: right;\n",
       "    }\n",
       "</style>\n",
       "<table border=\"1\" class=\"dataframe\">\n",
       "  <thead>\n",
       "    <tr style=\"text-align: right;\">\n",
       "      <th></th>\n",
       "      <th>a</th>\n",
       "      <th>b</th>\n",
       "      <th>c</th>\n",
       "      <th>d</th>\n",
       "    </tr>\n",
       "  </thead>\n",
       "  <tbody>\n",
       "    <tr>\n",
       "      <th>0</th>\n",
       "      <td>3</td>\n",
       "      <td>2</td>\n",
       "      <td>8</td>\n",
       "      <td>9</td>\n",
       "    </tr>\n",
       "    <tr>\n",
       "      <th>1</th>\n",
       "      <td>3</td>\n",
       "      <td>8</td>\n",
       "      <td>7</td>\n",
       "      <td>3</td>\n",
       "    </tr>\n",
       "    <tr>\n",
       "      <th>2</th>\n",
       "      <td>2</td>\n",
       "      <td>6</td>\n",
       "      <td>1</td>\n",
       "      <td>6</td>\n",
       "    </tr>\n",
       "    <tr>\n",
       "      <th>3</th>\n",
       "      <td>2</td>\n",
       "      <td>1</td>\n",
       "      <td>9</td>\n",
       "      <td>4</td>\n",
       "    </tr>\n",
       "    <tr>\n",
       "      <th>4</th>\n",
       "      <td>4</td>\n",
       "      <td>7</td>\n",
       "      <td>2</td>\n",
       "      <td>6</td>\n",
       "    </tr>\n",
       "    <tr>\n",
       "      <th>5</th>\n",
       "      <td>8</td>\n",
       "      <td>9</td>\n",
       "      <td>2</td>\n",
       "      <td>7</td>\n",
       "    </tr>\n",
       "    <tr>\n",
       "      <th>6</th>\n",
       "      <td>5</td>\n",
       "      <td>8</td>\n",
       "      <td>3</td>\n",
       "      <td>8</td>\n",
       "    </tr>\n",
       "    <tr>\n",
       "      <th>7</th>\n",
       "      <td>8</td>\n",
       "      <td>4</td>\n",
       "      <td>4</td>\n",
       "      <td>9</td>\n",
       "    </tr>\n",
       "  </tbody>\n",
       "</table>\n",
       "</div>"
      ],
      "text/plain": [
       "   a  b  c  d\n",
       "0  3  2  8  9\n",
       "1  3  8  7  3\n",
       "2  2  6  1  6\n",
       "3  2  1  9  4\n",
       "4  4  7  2  6\n",
       "5  8  9  2  7\n",
       "6  5  8  3  8\n",
       "7  8  4  4  9"
      ]
     },
     "execution_count": 3,
     "metadata": {},
     "output_type": "execute_result"
    }
   ],
   "source": [
    "df"
   ]
  },
  {
   "cell_type": "code",
   "execution_count": 4,
   "metadata": {},
   "outputs": [],
   "source": [
    "x = df.a.value_counts()"
   ]
  },
  {
   "cell_type": "code",
   "execution_count": 5,
   "metadata": {},
   "outputs": [],
   "source": [
    "y = df.b.value_counts()"
   ]
  },
  {
   "cell_type": "code",
   "execution_count": 6,
   "metadata": {},
   "outputs": [
    {
     "data": {
      "text/plain": [
       "([array([2., 0., 0., 0., 0., 0., 0., 0., 0., 3.]),\n",
       "  array([6., 0., 0., 0., 0., 0., 0., 0., 0., 1.])],\n",
       " array([1. , 1.1, 1.2, 1.3, 1.4, 1.5, 1.6, 1.7, 1.8, 1.9, 2. ]),\n",
       " <a list of 2 Lists of Patches objects>)"
      ]
     },
     "execution_count": 6,
     "metadata": {},
     "output_type": "execute_result"
    },
    {
     "data": {
      "image/png": "[encoded data removed]",
      "text/plain": [
       "<Figure size 432x288 with 1 Axes>"
      ]
     },
     "metadata": {
      "needs_background": "light"
     },
     "output_type": "display_data"
    }
   ],
   "source": [
    "plt.hist([x,y])"
   ]
  },
  {
   "cell_type": "code",
   "execution_count": 7,
   "metadata": {},
   "outputs": [],
   "source": [
    "hist,bins = np.histogram(x)"
   ]
  },
  {
   "cell_type": "code",
   "execution_count": 8,
   "metadata": {},
   "outputs": [
    {
     "data": {
      "text/plain": [
       "array([2, 0, 0, 0, 0, 0, 0, 0, 0, 3], dtype=int64)"
      ]
     },
     "execution_count": 8,
     "metadata": {},
     "output_type": "execute_result"
    }
   ],
   "source": [
    "hist"
   ]
  },
  {
   "cell_type": "code",
   "execution_count": 9,
   "metadata": {},
   "outputs": [
    {
     "data": {
      "text/plain": [
       "array([1. , 1.1, 1.2, 1.3, 1.4, 1.5, 1.6, 1.7, 1.8, 1.9, 2. ])"
      ]
     },
     "execution_count": 9,
     "metadata": {},
     "output_type": "execute_result"
    }
   ],
   "source": [
    "bins"
   ]
  },
  {
   "cell_type": "markdown",
   "metadata": {},
   "source": [
    "### Chapter 3"
   ]
  },
  {
   "cell_type": "code",
   "execution_count": 10,
   "metadata": {},
   "outputs": [
    {
     "data": {
      "text/plain": [
       "0    1\n",
       "1    2\n",
       "2    2\n",
       "3    3\n",
       "4    5\n",
       "dtype: int64"
      ]
     },
     "execution_count": 10,
     "metadata": {},
     "output_type": "execute_result"
    }
   ],
   "source": [
    "# Try doing what the book's PMF function does with pandas\n",
    "\n",
    "vals = pd.Series([1,2,2,3,5])\n",
    "vals"
   ]
  },
  {
   "cell_type": "code",
   "execution_count": 11,
   "metadata": {},
   "outputs": [
    {
     "data": {
      "text/plain": [
       "1    0.2\n",
       "2    0.4\n",
       "3    0.2\n",
       "5    0.2\n",
       "dtype: float64"
      ]
     },
     "execution_count": 11,
     "metadata": {},
     "output_type": "execute_result"
    }
   ],
   "source": [
    "pmf = vals.value_counts(normalize=True,).sort_index()\n",
    "pmf"
   ]
  },
  {
   "cell_type": "code",
   "execution_count": 12,
   "metadata": {},
   "outputs": [
    {
     "data": {
      "text/plain": [
       "0.4"
      ]
     },
     "execution_count": 12,
     "metadata": {},
     "output_type": "execute_result"
    }
   ],
   "source": [
    "pmf[2]"
   ]
  },
  {
   "cell_type": "markdown",
   "metadata": {},
   "source": [
    "### Trying out some scipy.stats and numpy stuff for pmf"
   ]
  },
  {
   "cell_type": "code",
   "execution_count": 13,
   "metadata": {},
   "outputs": [],
   "source": [
    "import scipy.stats as stats"
   ]
  },
  {
   "cell_type": "code",
   "execution_count": 14,
   "metadata": {},
   "outputs": [
    {
     "data": {
      "text/plain": [
       "array([2, 4, 2, 2, 3, 3, 2, 1, 3, 1, 1, 2, 2, 4, 3, 1, 1, 3, 3, 2])"
      ]
     },
     "execution_count": 14,
     "metadata": {},
     "output_type": "execute_result"
    }
   ],
   "source": [
    "a = np.random.randint(1, 5, size=20)\n",
    "a"
   ]
  },
  {
   "cell_type": "code",
   "execution_count": 15,
   "metadata": {},
   "outputs": [],
   "source": [
    "val, cnt = np.unique(a, return_counts=True)"
   ]
  },
  {
   "cell_type": "code",
   "execution_count": 16,
   "metadata": {},
   "outputs": [],
   "source": [
    "rv = stats.rv_discrete(values=(val, cnt/len(a)))"
   ]
  },
  {
   "cell_type": "code",
   "execution_count": 17,
   "metadata": {},
   "outputs": [
    {
     "data": {
      "text/plain": [
       "<scipy.stats._distn_infrastructure.rv_sample at 0x29c03821080>"
      ]
     },
     "execution_count": 17,
     "metadata": {},
     "output_type": "execute_result"
    }
   ],
   "source": [
    "rv"
   ]
  },
  {
   "cell_type": "code",
   "execution_count": 18,
   "metadata": {},
   "outputs": [
    {
     "data": {
      "text/plain": [
       "array([0.25, 0.35, 0.3 , 0.1 ])"
      ]
     },
     "execution_count": 18,
     "metadata": {},
     "output_type": "execute_result"
    }
   ],
   "source": [
    "rv.pk"
   ]
  },
  {
   "cell_type": "code",
   "execution_count": 19,
   "metadata": {},
   "outputs": [
    {
     "data": {
      "text/plain": [
       "array([1, 2, 3, 4])"
      ]
     },
     "execution_count": 19,
     "metadata": {},
     "output_type": "execute_result"
    }
   ],
   "source": [
    "rv.xk"
   ]
  },
  {
   "cell_type": "code",
   "execution_count": 20,
   "metadata": {},
   "outputs": [
    {
     "data": {
      "text/plain": [
       "0.25"
      ]
     },
     "execution_count": 20,
     "metadata": {},
     "output_type": "execute_result"
    }
   ],
   "source": [
    "rv.pmf(1)"
   ]
  },
  {
   "cell_type": "code",
   "execution_count": 21,
   "metadata": {},
   "outputs": [
    {
     "data": {
      "text/plain": [
       "0.0"
      ]
     },
     "execution_count": 21,
     "metadata": {},
     "output_type": "execute_result"
    }
   ],
   "source": [
    "rv.pmf(5)"
   ]
  },
  {
   "cell_type": "code",
   "execution_count": 22,
   "metadata": {},
   "outputs": [
    {
     "data": {
      "text/plain": [
       "0.35"
      ]
     },
     "execution_count": 22,
     "metadata": {},
     "output_type": "execute_result"
    }
   ],
   "source": [
    "rv.pmf(2)"
   ]
  },
  {
   "cell_type": "code",
   "execution_count": 23,
   "metadata": {},
   "outputs": [
    {
     "data": {
      "text/plain": [
       "0.6"
      ]
     },
     "execution_count": 23,
     "metadata": {},
     "output_type": "execute_result"
    }
   ],
   "source": [
    "rv.cdf(2)"
   ]
  },
  {
   "cell_type": "code",
   "execution_count": 24,
   "metadata": {},
   "outputs": [
    {
     "data": {
      "text/plain": [
       "(2.25, 0.9420721840708383, 0.8874999999999993)"
      ]
     },
     "execution_count": 24,
     "metadata": {},
     "output_type": "execute_result"
    }
   ],
   "source": [
    "rv.mean(), rv.std(), rv.var()"
   ]
  },
  {
   "cell_type": "code",
   "execution_count": 25,
   "metadata": {},
   "outputs": [],
   "source": [
    "# Try creating the rv from the pandas Series\n",
    "rv2 = stats.rv_discrete(values=(pmf.index, pmf))"
   ]
  },
  {
   "cell_type": "code",
   "execution_count": 26,
   "metadata": {},
   "outputs": [
    {
     "data": {
      "text/plain": [
       "array([1, 2, 3, 5], dtype=int64)"
      ]
     },
     "execution_count": 26,
     "metadata": {},
     "output_type": "execute_result"
    }
   ],
   "source": [
    "rv2.xk"
   ]
  },
  {
   "cell_type": "code",
   "execution_count": 27,
   "metadata": {},
   "outputs": [
    {
     "data": {
      "text/plain": [
       "array([0.2, 0.4, 0.2, 0.2])"
      ]
     },
     "execution_count": 27,
     "metadata": {},
     "output_type": "execute_result"
    }
   ],
   "source": [
    "rv2.pk"
   ]
  },
  {
   "cell_type": "code",
   "execution_count": 28,
   "metadata": {},
   "outputs": [],
   "source": [
    "l = [1,2,3]\n",
    "n = np.array([1,2,3])"
   ]
  },
  {
   "cell_type": "code",
   "execution_count": 29,
   "metadata": {},
   "outputs": [
    {
     "data": {
      "text/plain": [
       "([1, 2, 3, 1, 2, 3, 1, 2, 3], array([3, 6, 9]))"
      ]
     },
     "execution_count": 29,
     "metadata": {},
     "output_type": "execute_result"
    }
   ],
   "source": [
    "l*3, n*3"
   ]
  },
  {
   "cell_type": "code",
   "execution_count": 30,
   "metadata": {},
   "outputs": [
    {
     "data": {
      "text/plain": [
       "6"
      ]
     },
     "execution_count": 30,
     "metadata": {},
     "output_type": "execute_result"
    }
   ],
   "source": [
    "sum(l)"
   ]
  },
  {
   "cell_type": "code",
   "execution_count": 31,
   "metadata": {},
   "outputs": [
    {
     "data": {
      "text/plain": [
       "<BarContainer object of 4 artists>"
      ]
     },
     "execution_count": 31,
     "metadata": {},
     "output_type": "execute_result"
    },
    {
     "data": {
      "image/png": "[encoded data removed]",
      "text/plain": [
       "<Figure size 432x288 with 1 Axes>"
      ]
     },
     "metadata": {
      "needs_background": "light"
     },
     "output_type": "display_data"
    }
   ],
   "source": [
    "#Try plotting rv2\n",
    "plt.bar(rv2.xk, rv2.pk)"
   ]
  },
  {
   "cell_type": "code",
   "execution_count": 32,
   "metadata": {},
   "outputs": [
    {
     "data": {
      "text/plain": [
       "<BarContainer object of 4 artists>"
      ]
     },
     "execution_count": 32,
     "metadata": {},
     "output_type": "execute_result"
    },
    {
     "data": {
      "image/png": "[encoded data removed]",
      "text/plain": [
       "<Figure size 432x288 with 1 Axes>"
      ]
     },
     "metadata": {
      "needs_background": "light"
     },
     "output_type": "display_data"
    }
   ],
   "source": [
    "#Try plotting rv\n",
    "plt.bar(rv.xk, rv.pk, tick_label=rv.xk)"
   ]
  },
  {
   "cell_type": "code",
   "execution_count": 33,
   "metadata": {},
   "outputs": [
    {
     "data": {
      "image/png": "[encoded data removed]",
      "text/plain": [
       "<Figure size 720x576 with 1 Axes>"
      ]
     },
     "metadata": {},
     "output_type": "display_data"
    }
   ],
   "source": [
    "plt.style.use('seaborn')\n",
    "\n",
    "fig, ax = plt.subplots(1,1)\n",
    "fig.set_size_inches(10,8)\n",
    "\n",
    "data = np.random.randint(1,11,100)\n",
    "val, cnt = np.unique(data, return_counts=True)\n",
    "ax.bar(val, cnt, width=-.3, align='edge')\n",
    "\n",
    "data2 = np.random.randint(1,11,200)\n",
    "val2, cnt2 = np.unique(data2, return_counts=True)\n",
    "ax.bar(val2, cnt2, width=.3, align='edge')\n",
    "\n",
    "ax.set_xlabel('bin', fontsize=20)\n",
    "ax.set_ylabel('value', fontsize=20)\n",
    "\n",
    "plt.show()"
   ]
  },
  {
   "cell_type": "code",
   "execution_count": 34,
   "metadata": {},
   "outputs": [
    {
     "data": {
      "text/plain": [
       "(array([ 1,  2,  3,  4,  5,  6,  7,  8,  9, 10]),\n",
       " array([ 5, 10, 11, 11,  9, 14,  9,  8, 15,  8], dtype=int64))"
      ]
     },
     "execution_count": 34,
     "metadata": {},
     "output_type": "execute_result"
    }
   ],
   "source": [
    "val,cnt"
   ]
  },
  {
   "cell_type": "code",
   "execution_count": 35,
   "metadata": {},
   "outputs": [
    {
     "data": {
      "text/plain": [
       "(array([ 1,  2,  3,  4,  5,  6,  7,  8,  9, 10]),\n",
       " array([25, 12, 29, 16, 18, 25, 14, 18, 23, 20], dtype=int64))"
      ]
     },
     "execution_count": 35,
     "metadata": {},
     "output_type": "execute_result"
    }
   ],
   "source": [
    "val2,cnt2"
   ]
  },
  {
   "cell_type": "code",
   "execution_count": 36,
   "metadata": {},
   "outputs": [
    {
     "data": {
      "text/plain": [
       "0.15865525393145707"
      ]
     },
     "execution_count": 36,
     "metadata": {},
     "output_type": "execute_result"
    }
   ],
   "source": [
    "# Messing around with methods of RVs\n",
    "stats.norm.cdf(-1)"
   ]
  },
  {
   "cell_type": "code",
   "execution_count": 37,
   "metadata": {},
   "outputs": [
    {
     "data": {
      "text/plain": [
       "0.0044318484119380075"
      ]
     },
     "execution_count": 37,
     "metadata": {},
     "output_type": "execute_result"
    }
   ],
   "source": [
    "stats.norm.pdf(3)"
   ]
  },
  {
   "cell_type": "code",
   "execution_count": 38,
   "metadata": {},
   "outputs": [
    {
     "data": {
      "text/plain": [
       "0.3990434422338111"
      ]
     },
     "execution_count": 38,
     "metadata": {},
     "output_type": "execute_result"
    }
   ],
   "source": [
    "import math\n",
    "1/math.sqrt(6.28)"
   ]
  },
  {
   "cell_type": "code",
   "execution_count": 39,
   "metadata": {},
   "outputs": [
    {
     "data": {
      "text/plain": [
       "0.3989422804014327"
      ]
     },
     "execution_count": 39,
     "metadata": {},
     "output_type": "execute_result"
    }
   ],
   "source": [
    "stats.norm.pdf(0)"
   ]
  },
  {
   "cell_type": "code",
   "execution_count": 40,
   "metadata": {},
   "outputs": [],
   "source": [
    "# So pdf returns the 'y-value' at a certain x, and cdf returns the area under the curve left of x"
   ]
  },
  {
   "cell_type": "markdown",
   "metadata": {},
   "source": [
    "Extra testing of simulation methods"
   ]
  },
  {
   "cell_type": "code",
   "execution_count": 41,
   "metadata": {},
   "outputs": [],
   "source": [
    "def SummarizeEstimates(estimates, alpha=0.90):\n",
    "    \"\"\"Computes the mean, standard deviation (std error), and a confidence interval for a sampling distribution (estimates).\n",
    "\n",
    "    Args:\n",
    "        estimates (array-like): A sequence of estimates for a statistic obtained from resampling (sampling distribution)\n",
    "        alpha (float): Probability for the confidence interval. Must be between 0 and 1. Defaults to 0.90.\n",
    "\n",
    "    Returns:\n",
    "        mean: mean value of the estimates\n",
    "        std: standard deviation of the estimates (std error)\n",
    "        confidence interval: interval about the median of the distribution\n",
    "    \"\"\"\n",
    "    rv = DiscreteRv(estimates)\n",
    "    return np.mean(estimates), np.std(estimates), rv.interval(alpha)"
   ]
  },
  {
   "cell_type": "code",
   "execution_count": 42,
   "metadata": {},
   "outputs": [],
   "source": [
    "def DiscreteRv(a):\n",
    "    \"\"\"Creates a scipy.stats discrete_rv.\n",
    "\n",
    "    Arguments:\n",
    "        a {array-like} -- a single data set, will be flattened if it is not already 1-D\n",
    "\n",
    "    Returns:\n",
    "        An instance of scipy.stats discrete_rv representing the input data\n",
    "    \"\"\"\n",
    "    val,cnt = np.unique(a, return_counts=True)\n",
    "    \n",
    "    return stats.rv_discrete(values=(val,cnt/sum(cnt)))"
   ]
  },
  {
   "cell_type": "code",
   "execution_count": 43,
   "metadata": {},
   "outputs": [],
   "source": [
    "def SimulateSample(mu=90, sigma=7.5, n=9, iters=1000):\n",
    "    xbars = []\n",
    "    for j in range(iters):\n",
    "        xs = np.random.normal(mu, sigma, n)\n",
    "        xbar = np.mean(xs)\n",
    "        xbars.append(xbar)\n",
    "    return xbars"
   ]
  },
  {
   "cell_type": "code",
   "execution_count": 44,
   "metadata": {},
   "outputs": [],
   "source": [
    "means = SimulateSample()"
   ]
  },
  {
   "cell_type": "code",
   "execution_count": 45,
   "metadata": {},
   "outputs": [],
   "source": [
    "results = SummarizeEstimates(means)"
   ]
  },
  {
   "cell_type": "code",
   "execution_count": 46,
   "metadata": {},
   "outputs": [
    {
     "data": {
      "text/plain": [
       "(90.11567319739781, 2.4572268319401007, (86.02457579205829, 94.24756628037088))"
      ]
     },
     "execution_count": 46,
     "metadata": {},
     "output_type": "execute_result"
    }
   ],
   "source": [
    "results"
   ]
  },
  {
   "cell_type": "code",
   "execution_count": 47,
   "metadata": {},
   "outputs": [],
   "source": [
    "def GeneratePvalue(estimates, value):\n",
    "    rv = DiscreteRv(estimates)\n",
    "    return rv.cdf(value)"
   ]
  },
  {
   "cell_type": "code",
   "execution_count": 48,
   "metadata": {},
   "outputs": [
    {
     "data": {
      "text/plain": [
       "0.022000000000000013"
      ]
     },
     "execution_count": 48,
     "metadata": {},
     "output_type": "execute_result"
    }
   ],
   "source": [
    "GeneratePvalue(means, 85)"
   ]
  },
  {
   "cell_type": "code",
   "execution_count": 49,
   "metadata": {},
   "outputs": [
    {
     "data": {
      "text/plain": [
       "[89.96978613571368,\n",
       " 93.22857438337202,\n",
       " 90.67533450935406,\n",
       " 90.5198267677072,\n",
       " 89.26896976417032,\n",
       " 94.24756628037088,\n",
       " 91.56553251870486,\n",
       " 93.0252719188074,\n",
       " 88.6365446291067,\n",
       " 89.50244313018248,\n",
       " 92.40568379456515,\n",
       " 86.60797860013061,\n",
       " 86.09881795771358,\n",
       " 88.4551060148532,\n",
       " 88.19410455382551,\n",
       " 88.05991015422117,\n",
       " 93.55123686627621,\n",
       " 84.93078693563533,\n",
       " 92.12353887963734,\n",
       " 90.63376870934887,\n",
       " 86.74062016067846,\n",
       " 87.77441134689278,\n",
       " 88.2333545060699,\n",
       " 90.61183002227273,\n",
       " 89.66584006419318,\n",
       " 92.06667722664078,\n",
       " 88.39045571700046,\n",
       " 93.50143758185607,\n",
       " 92.61552181333838,\n",
       " 90.37546517119046,\n",
       " 94.9887488828279,\n",
       " 94.93686406552244,\n",
       " 87.48896149781497,\n",
       " 87.00494334524575,\n",
       " 90.62196033431862,\n",
       " 92.46642515410078,\n",
       " 89.68833375268879,\n",
       " 91.05630928987898,\n",
       " 88.70066248346447,\n",
       " 87.97023472208608,\n",
       " 96.16696379328197,\n",
       " 88.35267044677617,\n",
       " 88.07858977961811,\n",
       " 92.75407986567762,\n",
       " 90.59497603957578,\n",
       " 91.4851728633361,\n",
       " 92.36616018705847,\n",
       " 94.48986883402895,\n",
       " 96.09207333509097,\n",
       " 90.80591278300192,\n",
       " 90.0053953592971,\n",
       " 91.75511311668491,\n",
       " 90.43719229404309,\n",
       " 88.73829224068697,\n",
       " 87.52760854040592,\n",
       " 87.33399219409742,\n",
       " 93.18099688265994,\n",
       " 91.71067434600404,\n",
       " 88.58323927145956,\n",
       " 89.70121823246006,\n",
       " 88.06343043136222,\n",
       " 89.96124017751524,\n",
       " 86.68946263345602,\n",
       " 89.5024723435046,\n",
       " 96.49106149831407,\n",
       " 92.74837921193621,\n",
       " 90.72684584630137,\n",
       " 85.966833696696,\n",
       " 87.09895669917088,\n",
       " 93.65357981060646,\n",
       " 91.97349979126898,\n",
       " 89.06241793555336,\n",
       " 91.61904665529524,\n",
       " 90.07477529315184,\n",
       " 88.67095953128117,\n",
       " 90.60659034344715,\n",
       " 94.54373674673867,\n",
       " 88.82730243156182,\n",
       " 92.94767033482778,\n",
       " 90.74727974747219,\n",
       " 89.34031830020754,\n",
       " 91.24703434714436,\n",
       " 91.50668635155502,\n",
       " 84.85636810577196,\n",
       " 89.06517118737662,\n",
       " 88.6280575728334,\n",
       " 88.88265480192298,\n",
       " 91.76245620666077,\n",
       " 90.06461243669828,\n",
       " 94.1416915543758,\n",
       " 92.11140486840767,\n",
       " 87.60822639951434,\n",
       " 89.68294806063825,\n",
       " 85.89718903046177,\n",
       " 90.52982501762989,\n",
       " 90.57053168924597,\n",
       " 90.09621814051071,\n",
       " 91.19868536057942,\n",
       " 91.82714297211625,\n",
       " 96.33552189471636,\n",
       " 83.47571184317171,\n",
       " 92.96536670102584,\n",
       " 95.23997271649222,\n",
       " 91.79976305414235,\n",
       " 88.08549314959205,\n",
       " 94.18486972165122,\n",
       " 86.9174481290278,\n",
       " 87.24486981085087,\n",
       " 95.35166909622616,\n",
       " 91.47861302951173,\n",
       " 89.97765075065021,\n",
       " 90.93808934570441,\n",
       " 89.31594668700606,\n",
       " 88.50773677929308,\n",
       " 86.4648542501634,\n",
       " 87.64332295442432,\n",
       " 92.38435168627228,\n",
       " 88.77611846525011,\n",
       " 89.94409494685289,\n",
       " 94.78417666950354,\n",
       " 91.78017745619921,\n",
       " 91.1497655090662,\n",
       " 90.87093195906336,\n",
       " 95.05339591271951,\n",
       " 91.1167648097346,\n",
       " 89.33668595379106,\n",
       " 87.2546359277263,\n",
       " 91.0176641909184,\n",
       " 91.39124965955567,\n",
       " 89.95898984801401,\n",
       " 93.02085195358967,\n",
       " 91.62070256425103,\n",
       " 91.43201737705566,\n",
       " 92.87009994368002,\n",
       " 91.27120334025146,\n",
       " 87.68868011319252,\n",
       " 91.83583810901773,\n",
       " 91.54819579410461,\n",
       " 89.21727094180507,\n",
       " 89.77594057739789,\n",
       " 89.24458424519356,\n",
       " 88.84776372742408,\n",
       " 88.54945458215383,\n",
       " 88.20153366712665,\n",
       " 91.8158776931083,\n",
       " 89.16412611558671,\n",
       " 91.57937987520442,\n",
       " 94.74018841506006,\n",
       " 88.0219878189705,\n",
       " 89.79594884306283,\n",
       " 90.05264576601184,\n",
       " 91.79817381908794,\n",
       " 92.0558113563092,\n",
       " 88.4646651066364,\n",
       " 88.76329905430153,\n",
       " 91.3003455584272,\n",
       " 86.06030454788645,\n",
       " 92.5221732821352,\n",
       " 86.08922743857457,\n",
       " 94.04244811944601,\n",
       " 93.30344416998054,\n",
       " 87.84211422365505,\n",
       " 86.8919508039626,\n",
       " 95.08675735120363,\n",
       " 84.66957900833009,\n",
       " 93.08540464433574,\n",
       " 92.25918976607502,\n",
       " 90.3990612428783,\n",
       " 89.90601814022274,\n",
       " 88.23505891982208,\n",
       " 89.387218574337,\n",
       " 90.08479652846383,\n",
       " 93.9469295166137,\n",
       " 90.43119186661148,\n",
       " 87.73550145129427,\n",
       " 88.55263740731408,\n",
       " 94.05333901193362,\n",
       " 86.32438395335976,\n",
       " 90.46058174786579,\n",
       " 92.70649653309414,\n",
       " 88.6283769223615,\n",
       " 87.5967873172911,\n",
       " 92.06723861761311,\n",
       " 93.39272654087532,\n",
       " 87.06931772086088,\n",
       " 88.7769230489411,\n",
       " 92.16548209100829,\n",
       " 89.22260450002238,\n",
       " 90.34577488838275,\n",
       " 91.72267830269296,\n",
       " 88.67547830969376,\n",
       " 91.87201207294896,\n",
       " 92.48407122602238,\n",
       " 91.40605830764486,\n",
       " 86.87399312859782,\n",
       " 90.97417003299545,\n",
       " 86.95749450768658,\n",
       " 92.53557846503992,\n",
       " 92.36829497508798,\n",
       " 93.651691985843,\n",
       " 88.52630384886379,\n",
       " 87.92450660985247,\n",
       " 89.92204696932725,\n",
       " 87.8943924041983,\n",
       " 87.65109248803073,\n",
       " 87.81454882321749,\n",
       " 94.86826977672652,\n",
       " 87.56652089840976,\n",
       " 92.83612876170668,\n",
       " 91.05091831243654,\n",
       " 92.39480133053821,\n",
       " 88.39019817629267,\n",
       " 88.89587645476999,\n",
       " 94.36333021476204,\n",
       " 86.06597108117943,\n",
       " 88.62757359927019,\n",
       " 93.15172343619116,\n",
       " 88.75783157485456,\n",
       " 88.3698607729397,\n",
       " 93.62453598002274,\n",
       " 91.92141661031764,\n",
       " 91.93437604179778,\n",
       " 87.59774342522861,\n",
       " 92.02532332045934,\n",
       " 95.05045779988971,\n",
       " 86.82297394350013,\n",
       " 89.14931360798181,\n",
       " 89.39641416070714,\n",
       " 90.2407162089948,\n",
       " 92.26558259027261,\n",
       " 89.60847965797926,\n",
       " 91.58718666917747,\n",
       " 91.54492018908384,\n",
       " 89.35596499567185,\n",
       " 88.59144769250767,\n",
       " 93.66162866540547,\n",
       " 89.71400419942779,\n",
       " 89.99316108736218,\n",
       " 88.9672753161068,\n",
       " 90.10078478843099,\n",
       " 87.10892457696487,\n",
       " 89.8226667966292,\n",
       " 85.16662277252789,\n",
       " 86.82846646368195,\n",
       " 91.82856968076193,\n",
       " 91.62709845495938,\n",
       " 89.67025590319822,\n",
       " 89.48471603529818,\n",
       " 90.78931918676625,\n",
       " 89.49419799477756,\n",
       " 93.05336168808347,\n",
       " 91.75309726857205,\n",
       " 90.60461917583069,\n",
       " 90.62155920003245,\n",
       " 89.48720909481627,\n",
       " 90.05761127064126,\n",
       " 92.38097318065019,\n",
       " 94.48858395966312,\n",
       " 85.44693404430699,\n",
       " 92.58993122458497,\n",
       " 90.5978456737243,\n",
       " 88.40797682383827,\n",
       " 92.56689882021094,\n",
       " 88.86639287143852,\n",
       " 90.1278051616997,\n",
       " 90.23320549775197,\n",
       " 90.31754324553418,\n",
       " 87.501852738309,\n",
       " 92.41324911602202,\n",
       " 90.08302177586518,\n",
       " 90.19322671498774,\n",
       " 92.88370531106904,\n",
       " 91.22298658966628,\n",
       " 85.41371611877447,\n",
       " 92.85091353964368,\n",
       " 86.8093341294507,\n",
       " 88.40061692919754,\n",
       " 91.61520513211593,\n",
       " 89.72709517172561,\n",
       " 94.45075122978915,\n",
       " 91.47648921561732,\n",
       " 92.92324797455221,\n",
       " 93.13143215590351,\n",
       " 90.64642066702578,\n",
       " 91.64087740005628,\n",
       " 90.5775109712175,\n",
       " 90.5864943507698,\n",
       " 92.50398798742368,\n",
       " 96.09926622151757,\n",
       " 88.96730006591031,\n",
       " 90.65708859903621,\n",
       " 93.93822759142397,\n",
       " 89.61247160330387,\n",
       " 86.37426251692706,\n",
       " 95.96152821645721,\n",
       " 86.15326997021009,\n",
       " 89.67524947345022,\n",
       " 91.54294410128743,\n",
       " 91.0237913730578,\n",
       " 90.62218615002243,\n",
       " 89.43869067589857,\n",
       " 90.36382173587485,\n",
       " 90.4971290382955,\n",
       " 91.50473874273027,\n",
       " 84.83018174340492,\n",
       " 87.2239642343054,\n",
       " 87.97565736981991,\n",
       " 90.05407249255616,\n",
       " 89.04713401579143,\n",
       " 92.55509498782493,\n",
       " 92.72210886453612,\n",
       " 90.25632300102036,\n",
       " 87.32070176862413,\n",
       " 85.41148161855783,\n",
       " 86.29933041592069,\n",
       " 89.72742474907243,\n",
       " 90.4949047456946,\n",
       " 88.26417712408639,\n",
       " 94.03431814884908,\n",
       " 90.39164591425458,\n",
       " 89.60312202177784,\n",
       " 88.54437603261647,\n",
       " 89.12927942092239,\n",
       " 90.99726568384378,\n",
       " 90.6537653372667,\n",
       " 92.32909813080245,\n",
       " 88.91734953877673,\n",
       " 91.27233132331233,\n",
       " 85.72088685781925,\n",
       " 89.93265932833431,\n",
       " 88.78666685975014,\n",
       " 87.19404406843478,\n",
       " 88.97296393675396,\n",
       " 90.4154293336669,\n",
       " 89.60621610672233,\n",
       " 91.98482106783807,\n",
       " 88.55130011981178,\n",
       " 88.65647860054706,\n",
       " 95.75273478105572,\n",
       " 89.41197431667214,\n",
       " 87.36108688235278,\n",
       " 90.94557299809837,\n",
       " 90.63045243818812,\n",
       " 85.48542055849298,\n",
       " 85.9608860217292,\n",
       " 93.44549622535278,\n",
       " 89.05743858231496,\n",
       " 89.6990808113346,\n",
       " 89.18858689770852,\n",
       " 90.7980163291012,\n",
       " 88.51453039628649,\n",
       " 88.15226788803486,\n",
       " 88.86209776962694,\n",
       " 88.42103251897805,\n",
       " 91.86507084338442,\n",
       " 93.40785402816158,\n",
       " 87.6291861749164,\n",
       " 94.79801064397104,\n",
       " 90.07847850565504,\n",
       " 89.90939608351958,\n",
       " 87.4857949551212,\n",
       " 87.74551265833244,\n",
       " 90.4562312492382,\n",
       " 84.28123791588914,\n",
       " 91.5325362424615,\n",
       " 90.4990869808408,\n",
       " 90.71044900343185,\n",
       " 85.96922972770736,\n",
       " 92.8104368566777,\n",
       " 88.7041585259013,\n",
       " 91.3999011594654,\n",
       " 87.39026885848406,\n",
       " 94.13782478235368,\n",
       " 85.97134068066345,\n",
       " 93.49523904479744,\n",
       " 91.41358505704369,\n",
       " 91.34162833847668,\n",
       " 92.53785497612915,\n",
       " 91.74911828293568,\n",
       " 92.37477647016146,\n",
       " 92.91448825218794,\n",
       " 92.34808101344852,\n",
       " 86.72062578421044,\n",
       " 82.4451574165065,\n",
       " 92.56185045336161,\n",
       " 85.98451188317765,\n",
       " 89.31146000244263,\n",
       " 91.64204560776892,\n",
       " 91.28298153468626,\n",
       " 91.95734683269421,\n",
       " 88.50304070969798,\n",
       " 85.73195312597858,\n",
       " 92.37572605613384,\n",
       " 90.39217765247005,\n",
       " 90.53356317658692,\n",
       " 91.915330250007,\n",
       " 85.90104450797628,\n",
       " 94.13536949957718,\n",
       " 90.64906141857716,\n",
       " 90.40004570109481,\n",
       " 90.97370387347429,\n",
       " 89.94031358417402,\n",
       " 92.21705298463931,\n",
       " 91.00797348809134,\n",
       " 92.22119568269116,\n",
       " 86.82014667586469,\n",
       " 88.26806433083533,\n",
       " 90.47486889063933,\n",
       " 88.31110163587078,\n",
       " 84.3347107469368,\n",
       " 95.54283555853105,\n",
       " 92.86824484858838,\n",
       " 92.0944551849659,\n",
       " 90.3205511257011,\n",
       " 89.55305335186452,\n",
       " 83.5756993407635,\n",
       " 93.3444585241437,\n",
       " 88.09815858658699,\n",
       " 87.47362005616395,\n",
       " 92.57766208013967,\n",
       " 87.67261229921695,\n",
       " 88.1549468198958,\n",
       " 92.23146440829461,\n",
       " 90.74374378476375,\n",
       " 91.19674375852732,\n",
       " 89.5203548034167,\n",
       " 91.42490957432393,\n",
       " 87.07958274590266,\n",
       " 90.31242033366274,\n",
       " 93.48817499134924,\n",
       " 84.92430674324535,\n",
       " 91.54946355349566,\n",
       " 92.43180740183055,\n",
       " 91.78960831237428,\n",
       " 86.72168380691294,\n",
       " 90.36062767030332,\n",
       " 92.42998600338856,\n",
       " 87.41739918698528,\n",
       " 92.24711785062047,\n",
       " 87.98421677272427,\n",
       " 88.72812001061561,\n",
       " 92.11321620425846,\n",
       " 92.22845548180257,\n",
       " 88.62162346991234,\n",
       " 89.6649014591787,\n",
       " 85.46097983870823,\n",
       " 88.19855650097978,\n",
       " 93.45792533686982,\n",
       " 91.39041128282862,\n",
       " 89.99937903176334,\n",
       " 90.21764628619272,\n",
       " 86.99391943117706,\n",
       " 85.34218354152168,\n",
       " 94.7670285662928,\n",
       " 89.56190063878887,\n",
       " 92.69671879955648,\n",
       " 86.55912466266577,\n",
       " 95.65083381659933,\n",
       " 95.4840717771403,\n",
       " 92.06900685840661,\n",
       " 92.90806908058013,\n",
       " 88.31555469420488,\n",
       " 92.47047981705231,\n",
       " 92.67247497125528,\n",
       " 93.82928413620549,\n",
       " 87.9598549377957,\n",
       " 90.08087658311037,\n",
       " 92.43026675628137,\n",
       " 90.0850252340274,\n",
       " 89.55238860779936,\n",
       " 88.04927125017808,\n",
       " 86.59073051898866,\n",
       " 89.3700732620169,\n",
       " 95.86129852294124,\n",
       " 90.23031753349444,\n",
       " 89.62042649735425,\n",
       " 91.01976142066161,\n",
       " 87.42608535966022,\n",
       " 88.54328706686192,\n",
       " 91.58891573228895,\n",
       " 90.17327104705987,\n",
       " 92.656651881257,\n",
       " 89.64963984112079,\n",
       " 95.00462400733859,\n",
       " 87.79083129656652,\n",
       " 88.91992210098563,\n",
       " 86.98120231612995,\n",
       " 89.14089514970044,\n",
       " 88.17784602214017,\n",
       " 91.23145466820749,\n",
       " 92.09982538241157,\n",
       " 86.68737323671756,\n",
       " 85.80649705078679,\n",
       " 90.28199596550539,\n",
       " 89.14305760070086,\n",
       " 88.20882598968267,\n",
       " 88.23876174589776,\n",
       " 86.03936088818598,\n",
       " 92.43661530948869,\n",
       " 89.09312270521356,\n",
       " 87.79356091012272,\n",
       " 88.79152610425646,\n",
       " 87.7561631555155,\n",
       " 84.6213890253761,\n",
       " 88.69958652972615,\n",
       " 88.54659382534732,\n",
       " 92.03064331864431,\n",
       " 92.0818803388247,\n",
       " 90.42691834795936,\n",
       " 87.16708860821184,\n",
       " 87.55000526820118,\n",
       " 95.20972418059993,\n",
       " 89.40402465588532,\n",
       " 91.38292708584271,\n",
       " 90.06640806502102,\n",
       " 87.42657445005679,\n",
       " 89.99501356537134,\n",
       " 91.4116179473839,\n",
       " 87.91172839376092,\n",
       " 90.62929509859896,\n",
       " 91.34845393617377,\n",
       " 89.10867498284216,\n",
       " 91.75031368328949,\n",
       " 96.2071382578103,\n",
       " 94.1539484149549,\n",
       " 91.5306098265824,\n",
       " 86.49287759344878,\n",
       " 90.22907709395574,\n",
       " 90.05322522842474,\n",
       " 91.22009155852068,\n",
       " 94.14652219274095,\n",
       " 92.72876522383885,\n",
       " 91.0933246864617,\n",
       " 88.75132756419427,\n",
       " 87.06306939539255,\n",
       " 91.60066220730867,\n",
       " 87.89569673891761,\n",
       " 90.8323547609938,\n",
       " 90.54425498116454,\n",
       " 85.51369426585467,\n",
       " 90.75311837897087,\n",
       " 93.26121944985948,\n",
       " 89.42937952975622,\n",
       " 89.99006291685734,\n",
       " 86.6134825621018,\n",
       " 91.86075423357688,\n",
       " 87.78585272300799,\n",
       " 84.69015415981991,\n",
       " 89.72823430909745,\n",
       " 92.19426598885315,\n",
       " 86.18724369369238,\n",
       " 84.73099370933862,\n",
       " 95.3518592687726,\n",
       " 91.89312401936222,\n",
       " 89.13119228868321,\n",
       " 91.70876631787024,\n",
       " 88.5305476122906,\n",
       " 90.67216692923239,\n",
       " 89.47191140082509,\n",
       " 90.65290610377232,\n",
       " 90.51541237583386,\n",
       " 89.10584866872577,\n",
       " 89.9704069972894,\n",
       " 90.92620276890536,\n",
       " 87.559511036609,\n",
       " 91.32014301779022,\n",
       " 89.159087852024,\n",
       " 93.32710115433818,\n",
       " 92.89008080177986,\n",
       " 92.34660744603379,\n",
       " 89.74951438029436,\n",
       " 87.30143924330656,\n",
       " 88.51649102542576,\n",
       " 90.41995396456187,\n",
       " 92.2180745704479,\n",
       " 90.86352559650898,\n",
       " 89.04227427816389,\n",
       " 95.0191247100185,\n",
       " 89.30623708934566,\n",
       " 89.31486616486234,\n",
       " 94.32450062540016,\n",
       " 90.83740867074397,\n",
       " 93.59203639905122,\n",
       " 93.73526645612735,\n",
       " 89.08512926708985,\n",
       " 89.70353593571326,\n",
       " 91.16287096879631,\n",
       " 93.35868217529524,\n",
       " 87.38138882047126,\n",
       " 94.64833946099732,\n",
       " 89.29497335830848,\n",
       " 90.36391525162895,\n",
       " 91.88224736998531,\n",
       " 91.33985897762503,\n",
       " 91.01665194503983,\n",
       " 90.09821235623535,\n",
       " 89.21441115286483,\n",
       " 86.02457579205829,\n",
       " 89.782880396717,\n",
       " 88.37381832263809,\n",
       " 84.69506975448834,\n",
       " 86.10924173344216,\n",
       " 90.88591725714812,\n",
       " 92.72423915217615,\n",
       " 89.51473847322043,\n",
       " 88.0573200377201,\n",
       " 88.9499548260178,\n",
       " 87.43447790779494,\n",
       " 87.96584412310885,\n",
       " 89.95166363193788,\n",
       " 87.91542251829713,\n",
       " 88.98422417351763,\n",
       " 89.24230613369053,\n",
       " 87.861307146923,\n",
       " 89.76741521836443,\n",
       " 88.31000917050517,\n",
       " 92.06981125446751,\n",
       " 91.0550305711351,\n",
       " 92.66749981639123,\n",
       " 91.82717741782254,\n",
       " 88.32289577635508,\n",
       " 91.39246415236533,\n",
       " 84.66685619055431,\n",
       " 89.85778954705575,\n",
       " 86.65623275877995,\n",
       " 90.50930195027458,\n",
       " 87.5065109378009,\n",
       " 92.70190053927456,\n",
       " 91.96533766818854,\n",
       " 86.75588847005598,\n",
       " 85.4619470580817,\n",
       " 91.04579720421481,\n",
       " 89.90371551875404,\n",
       " 89.97305385492358,\n",
       " 89.23320244768712,\n",
       " 86.15415604149455,\n",
       " 92.67307804071793,\n",
       " 91.26296885725107,\n",
       " 90.84219919150362,\n",
       " 88.5246188507681,\n",
       " 89.3255762037647,\n",
       " 89.65550995522338,\n",
       " 94.02927702463909,\n",
       " 86.91416594856567,\n",
       " 90.39275810166339,\n",
       " 91.67908508997095,\n",
       " 87.75301186901235,\n",
       " 91.55807294389462,\n",
       " 92.62621789455449,\n",
       " 94.44558247623608,\n",
       " 91.86010924094315,\n",
       " 85.3032089077372,\n",
       " 90.47107720796497,\n",
       " 88.85429125084278,\n",
       " 90.42733771329819,\n",
       " 91.5320510725085,\n",
       " 88.03823434662216,\n",
       " 93.12145355905389,\n",
       " 89.72103879711838,\n",
       " 89.12956868039595,\n",
       " 91.53476172272634,\n",
       " 89.8464720563608,\n",
       " 92.90155209980486,\n",
       " 89.13415472346878,\n",
       " 92.24625581295453,\n",
       " 92.03959523657261,\n",
       " 90.88364637052285,\n",
       " 89.88539110029112,\n",
       " 88.30074903991635,\n",
       " 87.5888829042052,\n",
       " 94.03767312198464,\n",
       " 90.70519833610891,\n",
       " 88.22708217654436,\n",
       " 88.38067811913108,\n",
       " 89.00179033974771,\n",
       " 86.35017537793641,\n",
       " 89.69024419244971,\n",
       " 90.89376741580897,\n",
       " 90.03279657891274,\n",
       " 86.897366685044,\n",
       " 84.7692867363101,\n",
       " 85.10413754811019,\n",
       " 94.5093529262276,\n",
       " 90.00526711548078,\n",
       " 87.35463731312501,\n",
       " 88.1532005000135,\n",
       " 85.49744987231803,\n",
       " 87.43580266411398,\n",
       " 89.63466675736296,\n",
       " 89.08519469875648,\n",
       " 89.7768567258808,\n",
       " 94.65883482129378,\n",
       " 89.78452062468591,\n",
       " 94.02009958425357,\n",
       " 88.36718513918984,\n",
       " 89.5301150458377,\n",
       " 84.76128608367975,\n",
       " 90.53498217600085,\n",
       " 88.58679459777728,\n",
       " 89.32226868463997,\n",
       " 89.7481772874223,\n",
       " 90.6140120676784,\n",
       " 91.6612856403119,\n",
       " 89.88686737418199,\n",
       " 91.01929921873692,\n",
       " 88.28740479942009,\n",
       " 91.85584164554366,\n",
       " 94.13636534942653,\n",
       " 83.61726410974886,\n",
       " 90.09432493240375,\n",
       " 88.22173875749007,\n",
       " 94.53625499767392,\n",
       " 91.72075940434445,\n",
       " 89.67783931284258,\n",
       " 92.48763171047213,\n",
       " 86.11495668584776,\n",
       " 85.85060329232834,\n",
       " 94.99789550221875,\n",
       " 88.31385529935277,\n",
       " 89.65058430565944,\n",
       " 92.93886763575726,\n",
       " 89.419075032345,\n",
       " 88.77301942064554,\n",
       " 87.94715159003582,\n",
       " 88.58880402655795,\n",
       " 86.96210712897441,\n",
       " 85.4599008664079,\n",
       " 93.55489335928684,\n",
       " 94.20167625692189,\n",
       " 89.5660085976595,\n",
       " 93.85651446587424,\n",
       " 91.95956104872675,\n",
       " 91.7206667143767,\n",
       " 89.1030787352853,\n",
       " 95.49905358520559,\n",
       " 90.51791282387859,\n",
       " 89.14752833081741,\n",
       " 88.50972148662507,\n",
       " 89.23965267444048,\n",
       " 87.28060670737642,\n",
       " 91.8665003694165,\n",
       " 90.04433869986923,\n",
       " 89.65963059217378,\n",
       " 91.75482658975267,\n",
       " 86.5613604148462,\n",
       " 86.5104919389009,\n",
       " 92.75262105228795,\n",
       " 91.07171962825765,\n",
       " 91.64486766063331,\n",
       " 91.49245153134649,\n",
       " 88.58829520727762,\n",
       " 89.07917091389872,\n",
       " 87.67188333431778,\n",
       " 94.83660404950429,\n",
       " 88.55282593767933,\n",
       " 89.02885833927236,\n",
       " 89.76038178322128,\n",
       " 89.81978285188433,\n",
       " 88.47355229875245,\n",
       " 92.59765737145645,\n",
       " 87.73253943755522,\n",
       " 86.34594539604895,\n",
       " 95.15250219318881,\n",
       " 87.08654188978186,\n",
       " 89.39918804659288,\n",
       " 88.99000447825375,\n",
       " 88.53740834464321,\n",
       " 87.91344442801179,\n",
       " 92.52304206591377,\n",
       " 90.5454161139102,\n",
       " 87.66433365902171,\n",
       " 91.65042816633718,\n",
       " 87.80925362234278,\n",
       " 87.2299347194451,\n",
       " 90.54152394190808,\n",
       " 91.75956676242309,\n",
       " 96.44693903024641,\n",
       " 90.3338841762364,\n",
       " 91.53999634536802,\n",
       " 92.56944157673883,\n",
       " 92.76418972773608,\n",
       " 94.00035487364742,\n",
       " 88.57295332034386,\n",
       " 92.71992404321352,\n",
       " 90.31146207455274,\n",
       " 87.3854812347376,\n",
       " 90.79714866895172,\n",
       " 88.55692725695523,\n",
       " 91.45589208315631,\n",
       " 92.22670694390202,\n",
       " 90.00452253285856,\n",
       " 92.34035838983921,\n",
       " 92.05176639274372,\n",
       " 89.45782883943616,\n",
       " 90.3450238479592,\n",
       " 86.88252765116577,\n",
       " 85.2281441018832,\n",
       " 91.4262245086538,\n",
       " 94.87470663734946,\n",
       " 89.6983876480875,\n",
       " 91.86560564340202,\n",
       " 86.9467973443212,\n",
       " 88.0470941386012,\n",
       " 86.97777760813658,\n",
       " 91.16228738923832,\n",
       " 92.57851186322164,\n",
       " 88.38765965072092,\n",
       " 90.32071519400617,\n",
       " 91.09695313347689,\n",
       " 89.55012783355367,\n",
       " 91.72594435329107,\n",
       " 86.16635712741497,\n",
       " 92.18705026108768,\n",
       " 90.15445124865533,\n",
       " 86.39167755198636,\n",
       " 88.37828308251663,\n",
       " 89.84156848236508,\n",
       " 91.09692973902378,\n",
       " 86.3747449403065,\n",
       " 87.75348376907202,\n",
       " 90.29927577083379,\n",
       " 87.23424171108928,\n",
       " 86.41405533430277,\n",
       " 92.79572216760947,\n",
       " 93.23573701053425,\n",
       " 91.66267630019101,\n",
       " 90.475263910315,\n",
       " 91.40565308573828,\n",
       " 87.73956087359073,\n",
       " 90.49498430777905,\n",
       " 94.82876276830011,\n",
       " 84.35634651074375,\n",
       " 90.23552968584359,\n",
       " 88.18686159064482,\n",
       " 88.67550512268653,\n",
       " 95.13996760169069,\n",
       " 88.27631383982256,\n",
       " 92.123236089024,\n",
       " 90.21373453890516,\n",
       " 91.16736446444185,\n",
       " 90.54204022014932,\n",
       " 89.9181782859251,\n",
       " 91.049440527003,\n",
       " 87.46363033689883,\n",
       " 88.32396662726354,\n",
       " 88.85712454346452,\n",
       " 90.70453437422131,\n",
       " 87.04709794298077,\n",
       " 91.97062914919577,\n",
       " 90.31902777799735,\n",
       " 90.96704801541748,\n",
       " 91.63200884717058,\n",
       " 90.42031193298392,\n",
       " 89.99288000456784,\n",
       " 86.98985682895233,\n",
       " 93.19832290626044,\n",
       " 88.93375850855188,\n",
       " 92.40078631193265,\n",
       " 90.34009301894416,\n",
       " 90.0329352804047,\n",
       " 93.68758668086939,\n",
       " 87.88941982482224,\n",
       " 89.74359705609535,\n",
       " 89.2655890595302,\n",
       " 91.75208711974369,\n",
       " 91.34652188500425,\n",
       " 91.88186965617693,\n",
       " 90.45717642533657,\n",
       " 91.12273981312214,\n",
       " 88.3118918216473,\n",
       " 86.91323585439012,\n",
       " 89.81408144023561,\n",
       " 92.1964608435137,\n",
       " 86.97849801332683,\n",
       " 92.97333060539007,\n",
       " 91.65568954804705,\n",
       " 90.09710906408567,\n",
       " 90.17587113728062,\n",
       " 96.5689147594638,\n",
       " 90.56415006932484,\n",
       " 88.82023512518724,\n",
       " 91.9639427691118,\n",
       " 90.1956736088045,\n",
       " 88.15642973636945,\n",
       " 92.983430966228,\n",
       " 89.83287501364092,\n",
       " 86.46204731251198,\n",
       " 86.19033902179564,\n",
       " 89.73100498176103,\n",
       " 90.25444449731553,\n",
       " 94.12929098945247,\n",
       " 91.09771356766679,\n",
       " 90.86543150597761,\n",
       " 87.87896860175536,\n",
       " 91.547953269648,\n",
       " 93.10558680190086,\n",
       " 97.13448986619576,\n",
       " 84.98201327944673,\n",
       " 87.40136509098589,\n",
       " 88.05264351170932,\n",
       " 90.60237701130883,\n",
       " 90.6176689990161,\n",
       " 90.8488922553402,\n",
       " 90.65900470444598,\n",
       " 93.09000950920817,\n",
       " 88.59604930470971,\n",
       " 86.94086281548647,\n",
       " 87.4503730086272,\n",
       " 90.37941474026123,\n",
       " 89.34906815883315,\n",
       " 92.01964033670298,\n",
       " 90.04106785382332,\n",
       " 87.67485528160972,\n",
       " 89.28984318094155,\n",
       " 90.18655328646898,\n",
       " 89.74018247791372,\n",
       " 86.1323845743354,\n",
       " 92.57348599881605,\n",
       " 91.24635813735587,\n",
       " 91.25308466846653,\n",
       " 89.24345926737413,\n",
       " 89.43070653680314,\n",
       " 89.70983661649109,\n",
       " 88.75817061182916,\n",
       " 89.71626435702036,\n",
       " 87.02053773225067,\n",
       " 88.96340026408909,\n",
       " 91.99616992296826,\n",
       " 90.05410527595728,\n",
       " 88.72152373924406,\n",
       " 85.14913997796359,\n",
       " 90.9400033050543,\n",
       " 89.03527387996739,\n",
       " 89.29055872208298,\n",
       " 91.79658131900436,\n",
       " 90.04835124845313,\n",
       " 85.34752253314313,\n",
       " 92.6426010672649,\n",
       " 93.49796432571118,\n",
       " 92.2608400715724,\n",
       " 90.55094768853291,\n",
       " 92.5416088743502,\n",
       " 91.27263086372761,\n",
       " 89.14114032668576,\n",
       " 90.39514900196788,\n",
       " 91.22130949758694,\n",
       " 90.9651772060532,\n",
       " 90.32571276697792,\n",
       " 91.82798916344,\n",
       " 92.69110525258874,\n",
       " 90.63724472101006,\n",
       " 92.07751314264766,\n",
       " 89.41308368073578,\n",
       " 90.02592165620818,\n",
       " 94.32223892816387,\n",
       " 90.61624121557365,\n",
       " 90.90945748939924,\n",
       " 87.56788275667375,\n",
       " 86.9676750476368,\n",
       " 88.05129923185102,\n",
       " 90.16972345723913,\n",
       " 88.71915640063324,\n",
       " 88.70702188768472,\n",
       " 88.81730107322413,\n",
       " 92.44273094136462,\n",
       " 89.86581553072077,\n",
       " 91.0395734615202,\n",
       " 90.90678328108415,\n",
       " 89.84430002217486,\n",
       " 83.91003483649924,\n",
       " 86.16833537602412,\n",
       " 90.7012403077325,\n",
       " 89.16754829360255,\n",
       " 92.64586551965014,\n",
       " 91.9994173286272,\n",
       " 90.21859794766473,\n",
       " 92.13699235688941,\n",
       " 91.42301332893307,\n",
       " 88.1623363324083,\n",
       " 83.04721581746894,\n",
       " 89.3650313859033,\n",
       " 90.86218101824346,\n",
       " 91.90900541043416,\n",
       " 91.59365294308009,\n",
       " 92.58059543350302,\n",
       " 92.82267743939792,\n",
       " 91.84576185775174,\n",
       " 89.0900727598522,\n",
       " 89.62717931131645,\n",
       " 90.3161828272266,\n",
       " 91.56713100450281,\n",
       " 91.57126990721038,\n",
       " 88.97816343650695,\n",
       " 89.31684916791164,\n",
       " 92.51553256786353,\n",
       " 88.34133662757283,\n",
       " 91.67514752672751,\n",
       " 90.80511319302619,\n",
       " 87.65568901935491,\n",
       " 87.66997849667536]"
      ]
     },
     "execution_count": 49,
     "metadata": {},
     "output_type": "execute_result"
    }
   ],
   "source": [
    "means"
   ]
  },
  {
   "cell_type": "code",
   "execution_count": 56,
   "metadata": {},
   "outputs": [
    {
     "data": {
      "text/html": [
       "<div>\n",
       "<style scoped>\n",
       "    .dataframe tbody tr th:only-of-type {\n",
       "        vertical-align: middle;\n",
       "    }\n",
       "\n",
       "    .dataframe tbody tr th {\n",
       "        vertical-align: top;\n",
       "    }\n",
       "\n",
       "    .dataframe thead th {\n",
       "        text-align: right;\n",
       "    }\n",
       "</style>\n",
       "<table border=\"1\" class=\"dataframe\">\n",
       "  <thead>\n",
       "    <tr style=\"text-align: right;\">\n",
       "      <th></th>\n",
       "      <th>industry</th>\n",
       "      <th>debt_ratio</th>\n",
       "      <th>cash_flow</th>\n",
       "      <th>finance</th>\n",
       "      <th>hospitality</th>\n",
       "      <th>mining</th>\n",
       "      <th>transportation</th>\n",
       "    </tr>\n",
       "  </thead>\n",
       "  <tbody>\n",
       "    <tr>\n",
       "      <th>0</th>\n",
       "      <td>mining</td>\n",
       "      <td>0.357440</td>\n",
       "      <td>88.856850</td>\n",
       "      <td>0</td>\n",
       "      <td>0</td>\n",
       "      <td>1</td>\n",
       "      <td>0</td>\n",
       "    </tr>\n",
       "    <tr>\n",
       "      <th>1</th>\n",
       "      <td>transportation</td>\n",
       "      <td>0.377538</td>\n",
       "      <td>89.457560</td>\n",
       "      <td>0</td>\n",
       "      <td>0</td>\n",
       "      <td>0</td>\n",
       "      <td>1</td>\n",
       "    </tr>\n",
       "    <tr>\n",
       "      <th>2</th>\n",
       "      <td>hospitality</td>\n",
       "      <td>1.382338</td>\n",
       "      <td>89.451292</td>\n",
       "      <td>0</td>\n",
       "      <td>1</td>\n",
       "      <td>0</td>\n",
       "      <td>0</td>\n",
       "    </tr>\n",
       "    <tr>\n",
       "      <th>3</th>\n",
       "      <td>finance</td>\n",
       "      <td>1.175549</td>\n",
       "      <td>90.208520</td>\n",
       "      <td>1</td>\n",
       "      <td>0</td>\n",
       "      <td>0</td>\n",
       "      <td>0</td>\n",
       "    </tr>\n",
       "    <tr>\n",
       "      <th>4</th>\n",
       "      <td>entertainment</td>\n",
       "      <td>-0.939276</td>\n",
       "      <td>90.212690</td>\n",
       "      <td>0</td>\n",
       "      <td>0</td>\n",
       "      <td>0</td>\n",
       "      <td>0</td>\n",
       "    </tr>\n",
       "  </tbody>\n",
       "</table>\n",
       "</div>"
      ],
      "text/plain": [
       "         industry  debt_ratio  cash_flow  finance  hospitality  mining  \\\n",
       "0          mining    0.357440  88.856850        0            0       1   \n",
       "1  transportation    0.377538  89.457560        0            0       0   \n",
       "2     hospitality    1.382338  89.451292        0            1       0   \n",
       "3         finance    1.175549  90.208520        1            0       0   \n",
       "4   entertainment   -0.939276  90.212690        0            0       0   \n",
       "\n",
       "   transportation  \n",
       "0               0  \n",
       "1               1  \n",
       "2               0  \n",
       "3               0  \n",
       "4               0  "
      ]
     },
     "execution_count": 56,
     "metadata": {},
     "output_type": "execute_result"
    }
   ],
   "source": [
    "np.random.seed(444)\n",
    "data = {\n",
    "        'industry': ['mining', 'transportation', 'hospitality', 'finance', 'entertainment'],\n",
    "        'debt_ratio':np.random.randn(5),\n",
    "        'cash_flow':np.random.randn(5) + 90\n",
    "       }\n",
    "data = pd.DataFrame.from_dict(data)\n",
    "data = pd.concat((\n",
    "                  data,\n",
    "                  pd.get_dummies(data['industry'], drop_first=True)), axis=1)\n",
    "data"
   ]
  },
  {
   "cell_type": "code",
   "execution_count": null,
   "metadata": {},
   "outputs": [],
   "source": []
  }
 ],
 "metadata": {
  "kernelspec": {
   "display_name": "Python 3",
   "language": "python",
   "name": "python3"
  },
  "language_info": {
   "codemirror_mode": {
    "name": "ipython",
    "version": 3
   },
   "file_extension": ".py",
   "mimetype": "text/x-python",
   "name": "python",
   "nbconvert_exporter": "python",
   "pygments_lexer": "ipython3",
   "version": "3.7.3"
  }
 },
 "nbformat": 4,
 "nbformat_minor": 2
}
