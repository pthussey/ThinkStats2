{
 "cells": [
  {
   "cell_type": "markdown",
   "metadata": {},
   "source": [
    "# Examples and Exercises from Think Stats, 2nd Edition\n",
    "\n",
    "http://thinkstats2.com\n",
    "\n",
    "Copyright 2016 Allen B. Downey\n",
    "\n",
    "MIT License: https://opensource.org/licenses/MIT\n"
   ]
  },
  {
   "cell_type": "code",
   "execution_count": 465,
   "metadata": {},
   "outputs": [],
   "source": [
    "from __future__ import print_function, division\n",
    "\n",
    "%matplotlib inline\n",
    "\n",
    "import numpy as np\n",
    "import pandas as pd\n",
    "\n",
    "import random\n",
    "\n",
    "import thinkstats2\n",
    "import thinkplot"
   ]
  },
  {
   "cell_type": "code",
   "execution_count": 466,
   "metadata": {},
   "outputs": [],
   "source": [
    "from pandas.api.types import CategoricalDtype\n",
    "\n",
    "from collections import defaultdict, Counter\n",
    "\n",
    "import matplotlib\n",
    "import matplotlib.pyplot as plt\n",
    "import seaborn as sns\n",
    "\n",
    "import datetime as dt\n",
    "import matplotlib.dates as mdates\n",
    "\n",
    "import scipy.stats as stats\n",
    "\n",
    "from lifelines import KaplanMeierFitter"
   ]
  },
  {
   "cell_type": "markdown",
   "metadata": {},
   "source": [
    "## Analytic methods\n",
    "\n",
    "If we know the parameters of the sampling distribution, we can compute confidence intervals and p-values analytically, which is computationally faster than resampling."
   ]
  },
  {
   "cell_type": "code",
   "execution_count": 467,
   "metadata": {},
   "outputs": [],
   "source": [
    "import scipy.stats\n",
    "\n",
    "def EvalNormalCdfInverse(p, mu=0, sigma=1):\n",
    "    return scipy.stats.norm.ppf(p, loc=mu, scale=sigma)"
   ]
  },
  {
   "cell_type": "markdown",
   "metadata": {},
   "source": [
    "Here's the confidence interval for the estimated mean."
   ]
  },
  {
   "cell_type": "code",
   "execution_count": 468,
   "metadata": {},
   "outputs": [
    {
     "data": {
      "text/plain": [
       "85.88786593262132"
      ]
     },
     "execution_count": 468,
     "metadata": {},
     "output_type": "execute_result"
    }
   ],
   "source": [
    "EvalNormalCdfInverse(0.05, mu=90, sigma=2.5)"
   ]
  },
  {
   "cell_type": "code",
   "execution_count": 469,
   "metadata": {},
   "outputs": [
    {
     "data": {
      "text/plain": [
       "94.11213406737868"
      ]
     },
     "execution_count": 469,
     "metadata": {},
     "output_type": "execute_result"
    }
   ],
   "source": [
    "EvalNormalCdfInverse(0.95, mu=90, sigma=2.5)"
   ]
  },
  {
   "cell_type": "code",
   "execution_count": 470,
   "metadata": {},
   "outputs": [],
   "source": [
    "# Try getting the confidence interval making the object first\n",
    "norm_rv = scipy.stats.norm(loc=90, scale=2.5)"
   ]
  },
  {
   "cell_type": "code",
   "execution_count": 471,
   "metadata": {},
   "outputs": [
    {
     "data": {
      "text/plain": [
       "(85.88786593262132, 94.11213406737868)"
      ]
     },
     "execution_count": 471,
     "metadata": {},
     "output_type": "execute_result"
    }
   ],
   "source": [
    "# That works too\n",
    "norm_rv.interval(.90)"
   ]
  },
  {
   "cell_type": "code",
   "execution_count": 472,
   "metadata": {},
   "outputs": [
    {
     "data": {
      "text/plain": [
       "(array(90.), array(6.25))"
      ]
     },
     "execution_count": 472,
     "metadata": {},
     "output_type": "execute_result"
    }
   ],
   "source": [
    "norm_rv.stats()"
   ]
  },
  {
   "cell_type": "code",
   "execution_count": 473,
   "metadata": {},
   "outputs": [],
   "source": [
    "# And just as a reminder try it by resampling too\n",
    "import dataStatsAnalysis as dsa\n",
    "import dataStatsPlotting as dsp"
   ]
  },
  {
   "cell_type": "code",
   "execution_count": 474,
   "metadata": {},
   "outputs": [],
   "source": [
    "# First compute the sampling distribution, using a sample size of 9 which was the size used in the book example\n",
    "sample_means = []\n",
    "for i in range(1000):\n",
    "    norm_resample = np.random.normal(loc=90, scale=7.5, size=9)\n",
    "    sample_means.append(norm_resample.mean())\n",
    "sample_means = np.array(sample_means)"
   ]
  },
  {
   "cell_type": "code",
   "execution_count": 475,
   "metadata": {},
   "outputs": [
    {
     "data": {
      "text/plain": [
       "(89.93777934030234, 2.5507040386309585)"
      ]
     },
     "execution_count": 475,
     "metadata": {},
     "output_type": "execute_result"
    }
   ],
   "source": [
    "reample_mean = sample_means.mean()\n",
    "resample_std = sample_means.std()\n",
    "reample_mean, resample_std"
   ]
  },
  {
   "cell_type": "code",
   "execution_count": 476,
   "metadata": {},
   "outputs": [],
   "source": [
    "means_rv = dsa.DiscreteRv(sample_means)"
   ]
  },
  {
   "cell_type": "code",
   "execution_count": 477,
   "metadata": {},
   "outputs": [
    {
     "data": {
      "text/plain": [
       "[<matplotlib.lines.Line2D at 0x18f61b0ba20>]"
      ]
     },
     "execution_count": 477,
     "metadata": {},
     "output_type": "execute_result"
    },
    {
     "data": {
      "image/png": "[encoded data removed]",
      "text/plain": [
       "<Figure size 576x432 with 1 Axes>"
      ]
     },
     "metadata": {
      "needs_background": "light"
     },
     "output_type": "display_data"
    }
   ],
   "source": [
    "fig,ax = plt.subplots()\n",
    "fig.set_size_inches(8,6)\n",
    "ax.plot(means_rv.xk, means_rv.cdf(means_rv.xk))\n",
    "ax.plot([means_rv.mean(), means_rv.mean()], [0, 1], color='C1')\n",
    "ax.plot([means_rv.ppf(.05), means_rv.ppf(.05)], [0, 1], color='0.8')\n",
    "ax.plot([means_rv.ppf(.95), means_rv.ppf(.95)], [0, 1], color='0.8')"
   ]
  },
  {
   "cell_type": "code",
   "execution_count": 478,
   "metadata": {},
   "outputs": [
    {
     "data": {
      "text/plain": [
       "(89.93777934030234, (85.86745518643842, 94.32675119105866))"
      ]
     },
     "execution_count": 478,
     "metadata": {},
     "output_type": "execute_result"
    }
   ],
   "source": [
    "means_rv.mean(), means_rv.interval(.9)"
   ]
  },
  {
   "cell_type": "code",
   "execution_count": null,
   "metadata": {},
   "outputs": [],
   "source": []
  },
  {
   "cell_type": "markdown",
   "metadata": {},
   "source": [
    "`normal.py` provides a `Normal` class that encapsulates what we know about arithmetic operations on normal distributions."
   ]
  },
  {
   "cell_type": "code",
   "execution_count": 479,
   "metadata": {},
   "outputs": [
    {
     "data": {
      "text/plain": [
       "Normal(90, 56.25)"
      ]
     },
     "execution_count": 479,
     "metadata": {},
     "output_type": "execute_result"
    }
   ],
   "source": [
    "from normal import Normal\n",
    "\n",
    "dist = Normal(90, 7.5**2)\n",
    "dist"
   ]
  },
  {
   "cell_type": "markdown",
   "metadata": {},
   "source": [
    "We can use it to compute the sampling distribution of the mean."
   ]
  },
  {
   "cell_type": "code",
   "execution_count": 480,
   "metadata": {},
   "outputs": [
    {
     "data": {
      "text/plain": [
       "2.5"
      ]
     },
     "execution_count": 480,
     "metadata": {},
     "output_type": "execute_result"
    }
   ],
   "source": [
    "dist_xbar = dist.Sum(9) / 9\n",
    "dist_xbar.sigma"
   ]
  },
  {
   "cell_type": "code",
   "execution_count": 481,
   "metadata": {},
   "outputs": [
    {
     "data": {
      "text/plain": [
       "7.5"
      ]
     },
     "execution_count": 481,
     "metadata": {},
     "output_type": "execute_result"
    }
   ],
   "source": [
    "# Check out what is happening here\n",
    "dist.sigma"
   ]
  },
  {
   "cell_type": "code",
   "execution_count": 482,
   "metadata": {},
   "outputs": [
    {
     "data": {
      "text/plain": [
       "Normal(90, 6.25)"
      ]
     },
     "execution_count": 482,
     "metadata": {},
     "output_type": "execute_result"
    }
   ],
   "source": [
    "dist_xbar"
   ]
  },
  {
   "cell_type": "code",
   "execution_count": 483,
   "metadata": {},
   "outputs": [
    {
     "data": {
      "text/plain": [
       "Normal(810, 506.25)"
      ]
     },
     "execution_count": 483,
     "metadata": {},
     "output_type": "execute_result"
    }
   ],
   "source": [
    "dist.Sum(9)"
   ]
  },
  {
   "cell_type": "code",
   "execution_count": 484,
   "metadata": {},
   "outputs": [
    {
     "data": {
      "text/plain": [
       "Normal(90, 6.25)"
      ]
     },
     "execution_count": 484,
     "metadata": {},
     "output_type": "execute_result"
    }
   ],
   "source": [
    "# What the hell is going on here when dividing by 9?\n",
    "# I think I got it finally: _div_ actually uses _mul_ inside it which includes the factor squared for the variance.\n",
    "dist.Sum(9)/9"
   ]
  },
  {
   "cell_type": "markdown",
   "metadata": {},
   "source": [
    "And then compute a confidence interval."
   ]
  },
  {
   "cell_type": "code",
   "execution_count": 485,
   "metadata": {},
   "outputs": [
    {
     "data": {
      "text/plain": [
       "(85.88786593262132, 94.11213406737868)"
      ]
     },
     "execution_count": 485,
     "metadata": {},
     "output_type": "execute_result"
    }
   ],
   "source": [
    "dist_xbar.Percentile(5), dist_xbar.Percentile(95)"
   ]
  },
  {
   "cell_type": "markdown",
   "metadata": {},
   "source": [
    "## Central Limit Theorem\n",
    "\n",
    "If you add up independent variates from a distribution with finite mean and variance, the sum converges on a normal distribution.\n",
    "\n",
    "The following function generates samples with difference sizes from an exponential distribution."
   ]
  },
  {
   "cell_type": "code",
   "execution_count": 486,
   "metadata": {},
   "outputs": [],
   "source": [
    "def MakeExpoSamples(beta=2.0, iters=1000):\n",
    "    \"\"\"Generates samples from an exponential distribution.\n",
    "\n",
    "    beta: parameter\n",
    "    iters: number of samples to generate for each size\n",
    "\n",
    "    returns: list of samples\n",
    "    \"\"\"\n",
    "    samples = []\n",
    "    for n in [1, 10, 100]:\n",
    "        sample = [np.sum(np.random.exponential(beta, n))\n",
    "                  for _ in range(iters)]\n",
    "        samples.append((n, sample))\n",
    "    return samples"
   ]
  },
  {
   "cell_type": "markdown",
   "metadata": {},
   "source": [
    "This function generates normal probability plots for samples with various sizes."
   ]
  },
  {
   "cell_type": "code",
   "execution_count": 487,
   "metadata": {},
   "outputs": [],
   "source": [
    "def NormalPlotSamples(samples, plot=1, ylabel=''):\n",
    "    \"\"\"Makes normal probability plots for samples.\n",
    "\n",
    "    samples: list of samples\n",
    "    label: string\n",
    "    \"\"\"\n",
    "    for n, sample in samples:\n",
    "        thinkplot.SubPlot(plot)\n",
    "        thinkstats2.NormalProbabilityPlot(sample)\n",
    "\n",
    "        thinkplot.Config(title='n=%d' % n,\n",
    "                         legend=False,\n",
    "                         xticks=[],\n",
    "                         yticks=[],\n",
    "                         xlabel='random normal variate',\n",
    "                         ylabel=ylabel)\n",
    "        plot += 1"
   ]
  },
  {
   "cell_type": "markdown",
   "metadata": {},
   "source": [
    "The following plot shows how the sum of exponential variates converges to normal as sample size increases."
   ]
  },
  {
   "cell_type": "code",
   "execution_count": 488,
   "metadata": {},
   "outputs": [
    {
     "name": "stderr",
     "output_type": "stream",
     "text": [
      "C:\\Users\\pthus\\pythonProjects\\dataAnalysisPractice\\ThinkStats2\\code\\thinkplot.py:182: MatplotlibDeprecationWarning: Adding an axes using the same arguments as a previous axes currently reuses the earlier instance.  In a future version, a new instance will always be created and returned.  Meanwhile, this warning can be suppressed, and the future behavior ensured, by passing a unique label to each axes instance.\n",
      "  return plt.subplot(rows, cols, plot_number, **options)\n"
     ]
    },
    {
     "data": {
      "image/png": "[encoded data removed]",
      "text/plain": [
       "<Figure size 1152x720 with 3 Axes>"
      ]
     },
     "metadata": {},
     "output_type": "display_data"
    }
   ],
   "source": [
    "thinkplot.PrePlot(num=3, rows=2, cols=3)\n",
    "samples = MakeExpoSamples()\n",
    "NormalPlotSamples(samples, plot=1,\n",
    "                  ylabel='sum of expo values')"
   ]
  },
  {
   "cell_type": "code",
   "execution_count": 489,
   "metadata": {},
   "outputs": [
    {
     "data": {
      "image/png": "[encoded data removed]",
      "text/plain": [
       "<Figure size 1152x324 with 3 Axes>"
      ]
     },
     "metadata": {
      "needs_background": "light"
     },
     "output_type": "display_data"
    }
   ],
   "source": [
    "# Mine, I will just use the books function for creating the samples and use my own methods for plotting\n",
    "fig,axes = plt.subplots(ncols=3, nrows=1)\n",
    "fig.set_size_inches(16,4.5)\n",
    "\n",
    "plot_num=0\n",
    "for n, sample in samples:\n",
    "    sample = np.array(sample)\n",
    "    xs, ys = dsa.NormalProbabilityValues(sample)\n",
    "    fit_xs, fit_ys = dsa.FitLine([-5,5], sample.mean(), sample.std())\n",
    "    axes[plot_num].plot(xs, ys)\n",
    "    axes[plot_num].plot(fit_xs, fit_ys)\n",
    "    \n",
    "    plot_num += 1"
   ]
  },
  {
   "cell_type": "markdown",
   "metadata": {},
   "source": [
    "The lognormal distribution has higher variance, so it requires a larger sample size before it converges to normal."
   ]
  },
  {
   "cell_type": "code",
   "execution_count": 490,
   "metadata": {},
   "outputs": [],
   "source": [
    "def MakeLognormalSamples(mu=1.0, sigma=1.0, iters=1000):\n",
    "    \"\"\"Generates samples from a lognormal distribution.\n",
    "\n",
    "    mu: parmeter\n",
    "    sigma: parameter\n",
    "    iters: number of samples to generate for each size\n",
    "\n",
    "    returns: list of samples\n",
    "    \"\"\"\n",
    "    samples = []\n",
    "    for n in [1, 10, 100]:\n",
    "        sample = [np.sum(np.random.lognormal(mu, sigma, n))\n",
    "                  for _ in range(iters)]\n",
    "        samples.append((n, sample))\n",
    "    return samples"
   ]
  },
  {
   "cell_type": "code",
   "execution_count": 491,
   "metadata": {},
   "outputs": [
    {
     "name": "stderr",
     "output_type": "stream",
     "text": [
      "C:\\Users\\pthus\\pythonProjects\\dataAnalysisPractice\\ThinkStats2\\code\\thinkplot.py:182: MatplotlibDeprecationWarning: Adding an axes using the same arguments as a previous axes currently reuses the earlier instance.  In a future version, a new instance will always be created and returned.  Meanwhile, this warning can be suppressed, and the future behavior ensured, by passing a unique label to each axes instance.\n",
      "  return plt.subplot(rows, cols, plot_number, **options)\n"
     ]
    },
    {
     "data": {
      "image/png": "[encoded data removed]",
      "text/plain": [
       "<Figure size 1152x720 with 3 Axes>"
      ]
     },
     "metadata": {},
     "output_type": "display_data"
    }
   ],
   "source": [
    "thinkplot.PrePlot(num=3, rows=2, cols=3)\n",
    "samples = MakeLognormalSamples()\n",
    "NormalPlotSamples(samples, ylabel='sum of lognormal values')"
   ]
  },
  {
   "cell_type": "code",
   "execution_count": 492,
   "metadata": {},
   "outputs": [
    {
     "data": {
      "image/png": "[encoded data removed]",
      "text/plain": [
       "<Figure size 1152x324 with 3 Axes>"
      ]
     },
     "metadata": {
      "needs_background": "light"
     },
     "output_type": "display_data"
    }
   ],
   "source": [
    "# Mine, I will just use the books function for creating the samples and use my own methods for plotting\n",
    "fig,axes = plt.subplots(ncols=3, nrows=1)\n",
    "fig.set_size_inches(16,4.5)\n",
    "\n",
    "plot_num=0\n",
    "for n, sample in samples:\n",
    "    sample = np.array(sample)\n",
    "    xs, ys = dsa.NormalProbabilityValues(sample)\n",
    "    fit_xs, fit_ys = dsa.FitLine([-5,5], sample.mean(), sample.std())\n",
    "    axes[plot_num].plot(xs, ys)\n",
    "    axes[plot_num].plot(fit_xs, fit_ys)\n",
    "    \n",
    "    plot_num += 1"
   ]
  },
  {
   "cell_type": "markdown",
   "metadata": {},
   "source": [
    "The Pareto distribution has infinite variance, and sometimes infinite mean, depending on the parameters.  It violates the requirements of the CLT and does not generally converge to normal."
   ]
  },
  {
   "cell_type": "code",
   "execution_count": 493,
   "metadata": {},
   "outputs": [],
   "source": [
    "def MakeParetoSamples(alpha=1.0, iters=1000):\n",
    "    \"\"\"Generates samples from a Pareto distribution.\n",
    "\n",
    "    alpha: parameter\n",
    "    iters: number of samples to generate for each size\n",
    "\n",
    "    returns: list of samples\n",
    "    \"\"\"\n",
    "    samples = []\n",
    "\n",
    "    for n in [1, 10, 100]:\n",
    "        sample = [np.sum(np.random.pareto(alpha, n))\n",
    "                  for _ in range(iters)]\n",
    "        samples.append((n, sample))\n",
    "    return samples"
   ]
  },
  {
   "cell_type": "code",
   "execution_count": 494,
   "metadata": {},
   "outputs": [
    {
     "name": "stderr",
     "output_type": "stream",
     "text": [
      "C:\\Users\\pthus\\pythonProjects\\dataAnalysisPractice\\ThinkStats2\\code\\thinkplot.py:182: MatplotlibDeprecationWarning: Adding an axes using the same arguments as a previous axes currently reuses the earlier instance.  In a future version, a new instance will always be created and returned.  Meanwhile, this warning can be suppressed, and the future behavior ensured, by passing a unique label to each axes instance.\n",
      "  return plt.subplot(rows, cols, plot_number, **options)\n"
     ]
    },
    {
     "data": {
      "image/png": "[encoded data removed]",
      "text/plain": [
       "<Figure size 1152x720 with 3 Axes>"
      ]
     },
     "metadata": {},
     "output_type": "display_data"
    }
   ],
   "source": [
    "thinkplot.PrePlot(num=3, rows=2, cols=3)\n",
    "samples = MakeParetoSamples()\n",
    "NormalPlotSamples(samples, ylabel='sum of Pareto values')"
   ]
  },
  {
   "cell_type": "code",
   "execution_count": 495,
   "metadata": {},
   "outputs": [
    {
     "data": {
      "image/png": "[encoded data removed]",
      "text/plain": [
       "<Figure size 1152x324 with 3 Axes>"
      ]
     },
     "metadata": {
      "needs_background": "light"
     },
     "output_type": "display_data"
    }
   ],
   "source": [
    "# Mine, I will just use the books function for creating the samples and use my own methods for plotting\n",
    "fig,axes = plt.subplots(ncols=3, nrows=1)\n",
    "fig.set_size_inches(16,4.5)\n",
    "\n",
    "plot_num=0\n",
    "for n, sample in samples:\n",
    "    sample = np.array(sample)\n",
    "    xs, ys = dsa.NormalProbabilityValues(sample)\n",
    "    fit_xs, fit_ys = dsa.FitLine([-5,5], sample.mean(), sample.std())\n",
    "    axes[plot_num].plot(xs, ys)\n",
    "    axes[plot_num].plot(fit_xs, fit_ys)\n",
    "    \n",
    "    plot_num += 1"
   ]
  },
  {
   "cell_type": "markdown",
   "metadata": {},
   "source": [
    "If the random variates are correlated, that also violates the CLT, so the sums don't generally converge.\n",
    "\n",
    "To generate correlated values, we generate correlated normal values and then transform to whatever distribution we want."
   ]
  },
  {
   "cell_type": "code",
   "execution_count": 496,
   "metadata": {},
   "outputs": [],
   "source": [
    "def GenerateCorrelated(rho, n):\n",
    "    \"\"\"Generates a sequence of correlated values from a standard normal dist.\n",
    "    \n",
    "    rho: coefficient of correlation\n",
    "    n: length of sequence\n",
    "\n",
    "    returns: iterator\n",
    "    \"\"\"\n",
    "    x = random.gauss(0, 1)\n",
    "    yield x\n",
    "\n",
    "    sigma = np.sqrt(1 - rho**2)\n",
    "    for _ in range(n-1):\n",
    "        x = random.gauss(x * rho, sigma)\n",
    "        yield x"
   ]
  },
  {
   "cell_type": "code",
   "execution_count": 497,
   "metadata": {},
   "outputs": [],
   "source": [
    "def GenerateExpoCorrelated(rho, n):\n",
    "    \"\"\"Generates a sequence of correlated values from an exponential dist.\n",
    "\n",
    "    rho: coefficient of correlation\n",
    "    n: length of sequence\n",
    "\n",
    "    returns: NumPy array\n",
    "    \"\"\"\n",
    "    normal = list(GenerateCorrelated(rho, n))\n",
    "    uniform = scipy.stats.norm.cdf(normal)\n",
    "    expo = scipy.stats.expon.ppf(uniform)\n",
    "    return expo"
   ]
  },
  {
   "cell_type": "code",
   "execution_count": 498,
   "metadata": {},
   "outputs": [],
   "source": [
    "def MakeCorrelatedSamples(rho=0.9, iters=1000):\n",
    "    \"\"\"Generates samples from a correlated exponential distribution.\n",
    "\n",
    "    rho: correlation\n",
    "    iters: number of samples to generate for each size\n",
    "\n",
    "    returns: list of samples\n",
    "    \"\"\"    \n",
    "    samples = []\n",
    "    for n in [1, 10, 100]:\n",
    "        sample = [np.sum(GenerateExpoCorrelated(rho, n))\n",
    "                  for _ in range(iters)]\n",
    "        samples.append((n, sample))\n",
    "    return samples\n"
   ]
  },
  {
   "cell_type": "code",
   "execution_count": 499,
   "metadata": {},
   "outputs": [
    {
     "name": "stderr",
     "output_type": "stream",
     "text": [
      "C:\\Users\\pthus\\pythonProjects\\dataAnalysisPractice\\ThinkStats2\\code\\thinkplot.py:182: MatplotlibDeprecationWarning: Adding an axes using the same arguments as a previous axes currently reuses the earlier instance.  In a future version, a new instance will always be created and returned.  Meanwhile, this warning can be suppressed, and the future behavior ensured, by passing a unique label to each axes instance.\n",
      "  return plt.subplot(rows, cols, plot_number, **options)\n"
     ]
    },
    {
     "data": {
      "image/png": "[encoded data removed]",
      "text/plain": [
       "<Figure size 1152x720 with 3 Axes>"
      ]
     },
     "metadata": {},
     "output_type": "display_data"
    }
   ],
   "source": [
    "thinkplot.PrePlot(num=3, rows=2, cols=3)\n",
    "samples = MakeCorrelatedSamples()\n",
    "NormalPlotSamples(samples, ylabel='sum of correlated exponential values')"
   ]
  },
  {
   "cell_type": "code",
   "execution_count": 500,
   "metadata": {},
   "outputs": [
    {
     "data": {
      "image/png": "[encoded data removed]",
      "text/plain": [
       "<Figure size 1152x324 with 3 Axes>"
      ]
     },
     "metadata": {
      "needs_background": "light"
     },
     "output_type": "display_data"
    }
   ],
   "source": [
    "# Mine, I will just use the books function for creating the samples and use my own methods for plotting\n",
    "fig,axes = plt.subplots(ncols=3, nrows=1)\n",
    "fig.set_size_inches(16,4.5)\n",
    "\n",
    "plot_num=0\n",
    "for n, sample in samples:\n",
    "    sample = np.array(sample)\n",
    "    xs, ys = dsa.NormalProbabilityValues(sample)\n",
    "    fit_xs, fit_ys = dsa.FitLine([-5,5], sample.mean(), sample.std())\n",
    "    axes[plot_num].plot(fit_xs, fit_ys, color='0.8')\n",
    "    axes[plot_num].plot(xs, ys)\n",
    "    \n",
    "    plot_num += 1"
   ]
  },
  {
   "cell_type": "markdown",
   "metadata": {},
   "source": [
    "## Difference in means\n",
    "\n",
    "Let's use analytic methods to compute a CI and p-value for an observed difference in means.\n",
    "\n",
    "The distribution of pregnancy length is not normal, but it has finite mean and variance, so the sum (or mean) of a few thousand samples is very close to normal."
   ]
  },
  {
   "cell_type": "code",
   "execution_count": 501,
   "metadata": {},
   "outputs": [
    {
     "data": {
      "text/plain": [
       "0.07803726677754952"
      ]
     },
     "execution_count": 501,
     "metadata": {},
     "output_type": "execute_result"
    }
   ],
   "source": [
    "import first\n",
    "\n",
    "live, firsts, others = first.MakeFrames()\n",
    "delta = firsts.prglngth.mean() - others.prglngth.mean()\n",
    "delta"
   ]
  },
  {
   "cell_type": "markdown",
   "metadata": {},
   "source": [
    "The following function computes the sampling distribution of the mean for a set of values and a given sample size."
   ]
  },
  {
   "cell_type": "code",
   "execution_count": 502,
   "metadata": {},
   "outputs": [],
   "source": [
    "def SamplingDistMean(data, n):\n",
    "    \"\"\"Computes the sampling distribution of the mean.\n",
    "\n",
    "    data: sequence of values representing the population\n",
    "    n: sample size\n",
    "\n",
    "    returns: Normal object\n",
    "    \"\"\"\n",
    "    mean, var = data.mean(), data.var()\n",
    "    dist = Normal(mean, var)\n",
    "    return dist.Sum(n) / n"
   ]
  },
  {
   "cell_type": "markdown",
   "metadata": {},
   "source": [
    "Here are the sampling distributions for the means of the two groups under the null hypothesis."
   ]
  },
  {
   "cell_type": "code",
   "execution_count": 503,
   "metadata": {},
   "outputs": [],
   "source": [
    "dist1 = SamplingDistMean(live.prglngth, len(firsts))\n",
    "dist2 = SamplingDistMean(live.prglngth, len(others))"
   ]
  },
  {
   "cell_type": "code",
   "execution_count": 504,
   "metadata": {},
   "outputs": [
    {
     "data": {
      "text/plain": [
       "Normal(38.5606, 0.00165481)"
      ]
     },
     "execution_count": 504,
     "metadata": {},
     "output_type": "execute_result"
    }
   ],
   "source": [
    "dist1"
   ]
  },
  {
   "cell_type": "code",
   "execution_count": 505,
   "metadata": {},
   "outputs": [
    {
     "data": {
      "text/plain": [
       "Normal(38.5606, 0.00154227)"
      ]
     },
     "execution_count": 505,
     "metadata": {},
     "output_type": "execute_result"
    }
   ],
   "source": [
    "dist2"
   ]
  },
  {
   "cell_type": "markdown",
   "metadata": {},
   "source": [
    "And the sampling distribution for the difference in means."
   ]
  },
  {
   "cell_type": "code",
   "execution_count": 506,
   "metadata": {},
   "outputs": [
    {
     "data": {
      "text/plain": [
       "Normal(0, 0.00319708)"
      ]
     },
     "execution_count": 506,
     "metadata": {},
     "output_type": "execute_result"
    }
   ],
   "source": [
    "dist_diff = dist1 - dist2\n",
    "dist_diff"
   ]
  },
  {
   "cell_type": "markdown",
   "metadata": {},
   "source": [
    "Under the null hypothesis, here's the chance of exceeding the observed difference."
   ]
  },
  {
   "cell_type": "code",
   "execution_count": 507,
   "metadata": {},
   "outputs": [
    {
     "data": {
      "text/plain": [
       "0.08377070425543831"
      ]
     },
     "execution_count": 507,
     "metadata": {},
     "output_type": "execute_result"
    }
   ],
   "source": [
    "1 - dist_diff.Prob(delta)"
   ]
  },
  {
   "cell_type": "markdown",
   "metadata": {},
   "source": [
    "And the chance of falling below the negated difference."
   ]
  },
  {
   "cell_type": "code",
   "execution_count": 508,
   "metadata": {},
   "outputs": [
    {
     "data": {
      "text/plain": [
       "0.08377070425543826"
      ]
     },
     "execution_count": 508,
     "metadata": {},
     "output_type": "execute_result"
    }
   ],
   "source": [
    "dist_diff.Prob(-delta)"
   ]
  },
  {
   "cell_type": "markdown",
   "metadata": {},
   "source": [
    "The sum of these probabilities is the two-sided p-value."
   ]
  },
  {
   "cell_type": "code",
   "execution_count": 509,
   "metadata": {},
   "outputs": [
    {
     "data": {
      "text/plain": [
       "Ttest_indResult(statistic=1.3802152088125652, pvalue=0.16755412639415004)"
      ]
     },
     "execution_count": 509,
     "metadata": {},
     "output_type": "execute_result"
    }
   ],
   "source": [
    "# Try this using scipy, same as above two-sided result\n",
    "stats.ttest_ind(firsts.prglngth, others.prglngth)"
   ]
  },
  {
   "cell_type": "code",
   "execution_count": 510,
   "metadata": {},
   "outputs": [],
   "source": [
    "# Try this using non-parametric methods\n",
    "np.random.seed(10)\n",
    "diff_means_dist = dsa.ResampleDiffMeans_H0(firsts.prglngth, others.prglngth, onesided=True)\n",
    "diff_means_rv = dsa.DiscreteRv(diff_means_dist[1])"
   ]
  },
  {
   "cell_type": "code",
   "execution_count": 511,
   "metadata": {},
   "outputs": [
    {
     "data": {
      "text/plain": [
       "0.0919999999999993"
      ]
     },
     "execution_count": 511,
     "metadata": {},
     "output_type": "execute_result"
    }
   ],
   "source": [
    "1-diff_means_rv.cdf(delta)"
   ]
  },
  {
   "cell_type": "code",
   "execution_count": 512,
   "metadata": {},
   "outputs": [
    {
     "data": {
      "text/plain": [
       "0.08200000000000006"
      ]
     },
     "execution_count": 512,
     "metadata": {},
     "output_type": "execute_result"
    }
   ],
   "source": [
    "diff_means_rv.cdf(-delta)"
   ]
  },
  {
   "cell_type": "code",
   "execution_count": 513,
   "metadata": {},
   "outputs": [
    {
     "data": {
      "text/plain": [
       "0.17399999999999938"
      ]
     },
     "execution_count": 513,
     "metadata": {},
     "output_type": "execute_result"
    }
   ],
   "source": [
    "# Two-sided p-value is the sum of the above\n",
    "p_value = 1-diff_means_rv.cdf(delta) + diff_means_rv.cdf(-delta)\n",
    "p_value"
   ]
  },
  {
   "cell_type": "code",
   "execution_count": 514,
   "metadata": {},
   "outputs": [
    {
     "data": {
      "text/plain": [
       "[<matplotlib.lines.Line2D at 0x18f6544cda0>]"
      ]
     },
     "execution_count": 514,
     "metadata": {},
     "output_type": "execute_result"
    },
    {
     "data": {
      "image/png": "[encoded data removed]",
      "text/plain": [
       "<Figure size 576x432 with 1 Axes>"
      ]
     },
     "metadata": {
      "needs_background": "light"
     },
     "output_type": "display_data"
    }
   ],
   "source": [
    "# Try plotting this distribution too: cdf\n",
    "# This is what the plot looks like using onesided=True\n",
    "fig,ax = plt.subplots()\n",
    "fig.set_size_inches(8,6)\n",
    "\n",
    "ax.plot(diff_means_rv.xk, diff_means_rv.cdf(diff_means_rv.xk))"
   ]
  },
  {
   "cell_type": "code",
   "execution_count": 515,
   "metadata": {},
   "outputs": [],
   "source": [
    "# Using onesided = False gives the same result as adding the two tails above\n",
    "np.random.seed(10)\n",
    "diff_means_dist = dsa.ResampleDiffMeans_H0(firsts.prglngth, others.prglngth, onesided=False)\n",
    "diff_means_rv = dsa.DiscreteRv(diff_means_dist[1])"
   ]
  },
  {
   "cell_type": "code",
   "execution_count": 516,
   "metadata": {},
   "outputs": [
    {
     "data": {
      "text/plain": [
       "0.17399999999999938"
      ]
     },
     "execution_count": 516,
     "metadata": {},
     "output_type": "execute_result"
    }
   ],
   "source": [
    "1-diff_means_rv.cdf(delta)"
   ]
  },
  {
   "cell_type": "code",
   "execution_count": 517,
   "metadata": {},
   "outputs": [
    {
     "data": {
      "text/plain": [
       "(0.04546275588277032,\n",
       " 0.03528198104876418,\n",
       " (0.0012038924067780954, 0.13079164444304325))"
      ]
     },
     "execution_count": 517,
     "metadata": {},
     "output_type": "execute_result"
    }
   ],
   "source": [
    "# Try also using the distribution summary function I made in the analysis module\n",
    "dsa.SummarizeEstimates(diff_means_dist[1])"
   ]
  },
  {
   "cell_type": "code",
   "execution_count": 518,
   "metadata": {},
   "outputs": [
    {
     "data": {
      "text/plain": [
       "0.17399999999999938"
      ]
     },
     "execution_count": 518,
     "metadata": {},
     "output_type": "execute_result"
    }
   ],
   "source": [
    "# Same p-vale obtained this way\n",
    "dsa.PvalueFromEstimates(diff_means_dist[1], delta, tail='right')"
   ]
  },
  {
   "cell_type": "code",
   "execution_count": 519,
   "metadata": {},
   "outputs": [
    {
     "data": {
      "text/plain": [
       "[<matplotlib.lines.Line2D at 0x18f6d865d68>]"
      ]
     },
     "execution_count": 519,
     "metadata": {},
     "output_type": "execute_result"
    },
    {
     "data": {
      "image/png": "[encoded data removed]",
      "text/plain": [
       "<Figure size 432x288 with 1 Axes>"
      ]
     },
     "metadata": {
      "needs_background": "light"
     },
     "output_type": "display_data"
    }
   ],
   "source": [
    "# This is what the distribution looks like if using onesided=False to create the sampling distribution\n",
    "# It is shaped like this because onesided=False uses absolute value of the differences\n",
    "g = sns.histplot(diff_means_dist[1],kde=True)\n",
    "g.plot([delta, delta], [0, 150], color='C1') # The test statistic (delta)"
   ]
  },
  {
   "cell_type": "code",
   "execution_count": 520,
   "metadata": {},
   "outputs": [
    {
     "data": {
      "text/plain": [
       "(0, 0.25)"
      ]
     },
     "execution_count": 520,
     "metadata": {},
     "output_type": "execute_result"
    },
    {
     "data": {
      "image/png": "[encoded data removed]",
      "text/plain": [
       "<Figure size 576x432 with 1 Axes>"
      ]
     },
     "metadata": {
      "needs_background": "light"
     },
     "output_type": "display_data"
    }
   ],
   "source": [
    "# And the cdf, again it is shaped like this because abs value was used in the calculation (onesided=False)\n",
    "# This is consistent with a cdf plot in the book in section 9.3\n",
    "fig,ax = plt.subplots()\n",
    "fig.set_size_inches(8,6)\n",
    "\n",
    "ax.plot(diff_means_rv.xk, diff_means_rv.cdf(diff_means_rv.xk))\n",
    "ax.plot([delta, delta], [0, 1], color='C1') # The test statistic (delta)\n",
    "ax.set_ylim(0,1)\n",
    "ax.set_xlim(0,0.25)"
   ]
  },
  {
   "cell_type": "markdown",
   "metadata": {},
   "source": [
    "## Testing a correlation\n",
    "\n",
    "Under the null hypothesis (that there is no correlation), the sampling distribution of the observed correlation (suitably transformed) is a \"Student t\" distribution."
   ]
  },
  {
   "cell_type": "code",
   "execution_count": 521,
   "metadata": {},
   "outputs": [],
   "source": [
    "def StudentCdf(n):\n",
    "    \"\"\"Computes the CDF correlations from uncorrelated variables.\n",
    "\n",
    "    n: sample size\n",
    "\n",
    "    returns: Cdf\n",
    "    \"\"\"\n",
    "    ts = np.linspace(-3, 3, 101)\n",
    "    ps = scipy.stats.t.cdf(ts, df=n-2)\n",
    "    rs = ts / np.sqrt(n - 2 + ts**2)\n",
    "    return thinkstats2.Cdf(rs, ps)"
   ]
  },
  {
   "cell_type": "markdown",
   "metadata": {},
   "source": [
    "The following is a `HypothesisTest` that uses permutation to estimate the sampling distribution of a correlation. "
   ]
  },
  {
   "cell_type": "code",
   "execution_count": 522,
   "metadata": {},
   "outputs": [],
   "source": [
    "import hypothesis\n",
    "\n",
    "class CorrelationPermute(hypothesis.CorrelationPermute):\n",
    "    \"\"\"Tests correlations by permutation.\"\"\"\n",
    "\n",
    "    def TestStatistic(self, data):\n",
    "        \"\"\"Computes the test statistic.\n",
    "\n",
    "        data: tuple of xs and ys\n",
    "        \"\"\"\n",
    "        xs, ys = data\n",
    "        return np.corrcoef(xs, ys)[0][1]"
   ]
  },
  {
   "cell_type": "markdown",
   "metadata": {},
   "source": [
    "Now we can estimate the sampling distribution by permutation and compare it to the Student t distribution."
   ]
  },
  {
   "cell_type": "code",
   "execution_count": 523,
   "metadata": {},
   "outputs": [],
   "source": [
    "def ResampleCorrelations(live):\n",
    "    \"\"\"Tests the correlation between birth weight and mother's age.\n",
    "\n",
    "    live: DataFrame for live births\n",
    "\n",
    "    returns: sample size, observed correlation, CDF of resampled correlations\n",
    "    \"\"\"\n",
    "    live2 = live.dropna(subset=['agepreg', 'totalwgt_lb'])\n",
    "    data = live2.agepreg.values, live2.totalwgt_lb.values\n",
    "    ht = CorrelationPermute(data)\n",
    "    p_value = ht.PValue()\n",
    "    return len(live2), ht.actual, ht.test_cdf"
   ]
  },
  {
   "cell_type": "code",
   "execution_count": 524,
   "metadata": {},
   "outputs": [
    {
     "data": {
      "image/png": "[encoded data removed]",
      "text/plain": [
       "<Figure size 432x288 with 1 Axes>"
      ]
     },
     "metadata": {
      "needs_background": "light"
     },
     "output_type": "display_data"
    }
   ],
   "source": [
    "n, r, cdf = ResampleCorrelations(live)\n",
    "\n",
    "model = StudentCdf(n)\n",
    "thinkplot.Plot(model.xs, model.ps, color='gray',\n",
    "               alpha=0.5, label='Student t')\n",
    "thinkplot.Cdf(cdf, label='sample')\n",
    "\n",
    "thinkplot.Config(xlabel='correlation',\n",
    "                 ylabel='CDF',\n",
    "                 legend=True, loc='lower right')"
   ]
  },
  {
   "cell_type": "markdown",
   "metadata": {},
   "source": [
    "That confirms the analytic result.  Now we can use the CDF of the Student t distribution to compute a p-value."
   ]
  },
  {
   "cell_type": "code",
   "execution_count": 525,
   "metadata": {},
   "outputs": [
    {
     "name": "stdout",
     "output_type": "stream",
     "text": [
      "0.06883397035410904 2.861466619208386e-11\n"
     ]
    }
   ],
   "source": [
    "t = r * np.sqrt((n-2) / (1-r**2))\n",
    "p_value = 1 - scipy.stats.t.cdf(t, df=n-2)\n",
    "print(r, p_value)"
   ]
  },
  {
   "cell_type": "code",
   "execution_count": 526,
   "metadata": {},
   "outputs": [],
   "source": [
    "# I already redid this using resampling in the Chapter 9 notebook\n",
    "# Using pearsonr in Scipy can get you the p-value as well but it is two-sided\n",
    "# If needed can just cut it in half to get the same result as above\n",
    "# Anyways I will redo this again here"
   ]
  },
  {
   "cell_type": "code",
   "execution_count": 527,
   "metadata": {},
   "outputs": [],
   "source": [
    "# Using the author's code to get to the rs and ps for the parametric case\n",
    "my_ts = np.linspace(-3, 3, 101)\n",
    "my_ps = scipy.stats.t.cdf(my_ts, df=n-2)\n",
    "my_rs = my_ts / np.sqrt(n - 2 + my_ts**2)"
   ]
  },
  {
   "cell_type": "code",
   "execution_count": 528,
   "metadata": {},
   "outputs": [],
   "source": [
    "# Getting the data from the author's code\n",
    "live2 = live.dropna(subset=['agepreg', 'totalwgt_lb'])"
   ]
  },
  {
   "cell_type": "code",
   "execution_count": 529,
   "metadata": {},
   "outputs": [],
   "source": [
    "# Creating the rv from resampling, using one-sided = True to remove the absolute value part of the calculation\n",
    "result = dsa.ResampleCorrelation(live2.agepreg.values, live2.totalwgt_lb.values, onesided=True)"
   ]
  },
  {
   "cell_type": "code",
   "execution_count": 530,
   "metadata": {},
   "outputs": [
    {
     "data": {
      "text/plain": [
       "(0.0688339703541091,\n",
       " array([ 2.66930309e-03, -1.47235330e-02,  7.33844892e-04, -6.17235168e-03,\n",
       "        -2.21013963e-02,  5.24480466e-04, -1.18964103e-03, -1.27875089e-02,\n",
       "         3.71929071e-03, -1.35349889e-02, -1.46482951e-02, -1.82810615e-03,\n",
       "        -1.24856556e-02,  1.65974223e-02, -2.44770256e-02,  1.23603525e-02,\n",
       "         3.71112940e-03, -5.65774739e-03,  6.87282131e-04, -9.27750252e-03,\n",
       "         9.79020025e-04, -8.61332008e-04,  2.92769326e-02, -4.21309041e-03,\n",
       "         1.02087479e-02, -9.29174722e-03,  4.32252870e-03,  1.09908626e-02,\n",
       "         2.62727857e-02,  1.19709619e-02,  5.49352114e-03,  1.68166899e-02,\n",
       "        -8.66433928e-04,  2.09284797e-03, -7.37839440e-03,  9.59644671e-03,\n",
       "        -1.90891456e-03, -2.71229506e-02,  4.07812284e-03,  1.06175602e-03,\n",
       "        -1.10793073e-03,  1.39278843e-03,  3.80161112e-03,  5.64641076e-03,\n",
       "         4.62877657e-03,  1.25004033e-02,  7.38190374e-03,  2.18069606e-02,\n",
       "         1.42836262e-02,  5.16286895e-03, -5.95327857e-03,  1.54436367e-02,\n",
       "        -7.54901253e-03, -1.03677131e-02, -1.70992198e-03, -2.40534823e-03,\n",
       "        -1.05272785e-02,  2.18571398e-02, -9.77132775e-03,  2.58799952e-03,\n",
       "        -1.61096948e-03, -1.58791799e-03,  1.99752075e-03, -3.40898530e-03,\n",
       "        -1.42910811e-02,  1.60604340e-03, -5.58559110e-04, -1.14891276e-02,\n",
       "        -6.60118711e-03, -7.84914162e-03,  2.61477355e-03, -3.14347771e-04,\n",
       "        -5.38146558e-03,  7.68429642e-03,  7.42882018e-03,  4.21655554e-03,\n",
       "         2.22175812e-02,  1.11668214e-02, -1.20850885e-02,  1.65846984e-02,\n",
       "        -5.70504854e-04,  1.42058418e-02,  1.40695791e-04, -4.45131562e-03,\n",
       "         1.08307445e-03, -6.97108076e-03,  9.07032111e-03, -1.92273049e-04,\n",
       "         1.12620248e-02,  1.31726189e-02, -1.52439377e-02,  1.50329188e-02,\n",
       "        -1.26874291e-03, -9.72311151e-03, -1.21737134e-02, -3.70096193e-03,\n",
       "         4.87455297e-03, -1.14120682e-02, -9.11776024e-03, -2.08897742e-02,\n",
       "         1.88688777e-03, -1.91890619e-03,  3.67841780e-04,  1.54115086e-03,\n",
       "         7.25789693e-04, -4.42098704e-03, -1.60087174e-03,  1.75439391e-02,\n",
       "        -7.86368261e-04,  1.25412982e-02,  1.33497714e-02, -2.05976915e-02,\n",
       "        -1.30232671e-02, -1.13759614e-03,  6.14201761e-04, -8.79419060e-03,\n",
       "         7.52690615e-03,  1.24181271e-02, -3.02050853e-02, -5.62962500e-04,\n",
       "         1.35110433e-02,  1.37121359e-03,  5.75892712e-03,  2.88165616e-03,\n",
       "        -6.95556279e-03, -1.07697214e-02, -4.17088683e-03,  9.94094571e-03,\n",
       "        -7.92553780e-03,  7.49625042e-03, -8.17438242e-03, -4.94468105e-03,\n",
       "        -4.47762985e-03,  1.85224379e-02,  3.15757545e-03, -8.98224545e-03,\n",
       "         9.85591076e-03,  5.35545097e-03,  4.60931935e-04, -4.56125007e-03,\n",
       "        -3.36152513e-04,  1.50556431e-02, -2.64613765e-03, -1.47512620e-02,\n",
       "         5.83222854e-03, -5.41027330e-03, -1.21144710e-02,  8.18105725e-03,\n",
       "        -1.83024160e-04,  1.02872750e-02, -7.61102252e-03,  1.31971293e-02,\n",
       "         1.40377922e-03, -7.96709590e-03,  4.66120073e-03, -2.41856591e-02,\n",
       "        -1.64727578e-02, -9.27576062e-03, -1.18083204e-02,  4.12517192e-03,\n",
       "         4.10774404e-03, -1.15433742e-02,  8.44203765e-04,  5.50399909e-03,\n",
       "         1.43769771e-03, -1.68901603e-02,  6.69783516e-04, -1.15458191e-03,\n",
       "        -6.08273649e-03,  6.56437624e-03, -5.71565463e-03,  4.59464138e-04,\n",
       "        -8.20550679e-03, -8.62066341e-03, -3.68500185e-03,  2.15757826e-02,\n",
       "         4.65821643e-04, -8.46844580e-03, -1.57176339e-03,  4.98190551e-03,\n",
       "        -2.52750253e-03,  3.42597442e-04,  1.69749202e-02, -5.31725388e-03,\n",
       "        -2.16794136e-02,  3.25730606e-03, -5.78994638e-03,  8.16924413e-03,\n",
       "         2.40957378e-03, -3.05410561e-03, -7.54121375e-03,  1.91330414e-02,\n",
       "        -1.50897129e-02,  8.30646546e-03,  9.33394532e-04,  9.25387530e-03,\n",
       "         5.71834165e-03, -1.39566533e-02, -1.21880553e-02, -9.35281111e-03,\n",
       "         1.25233929e-02, -4.47700206e-03, -8.34914751e-03, -4.54345082e-03,\n",
       "        -7.26586036e-03, -1.87290711e-02,  2.59525008e-03,  2.74943949e-03,\n",
       "         3.77703879e-03,  2.20831760e-03,  1.13802178e-02,  9.15711565e-03,\n",
       "         8.61113942e-03,  1.35442014e-02, -3.46579611e-03,  4.04201150e-03,\n",
       "         1.93253979e-03,  3.79825111e-03, -1.45260436e-02,  1.41841520e-02,\n",
       "        -2.99245379e-04,  4.27960007e-03,  5.19104439e-04, -1.74259150e-02,\n",
       "        -4.22280793e-03, -8.94683264e-03, -2.67882575e-02,  2.51322014e-02,\n",
       "         2.94378995e-03,  6.73688658e-03,  1.35752108e-02, -1.07390392e-02,\n",
       "        -1.31226352e-02, -7.24050107e-03, -4.02064102e-03,  1.41294853e-03,\n",
       "         5.38497491e-03,  1.91837865e-02, -1.81487830e-03,  1.33842557e-02,\n",
       "         2.10786194e-03, -9.63440706e-03,  1.18219805e-02, -5.88197547e-03,\n",
       "         6.59744588e-03, -1.73722219e-04,  6.95834707e-03, -7.05654014e-03,\n",
       "        -1.92613023e-03, -1.60683975e-02, -6.80338939e-03, -5.20064361e-03,\n",
       "         8.91815655e-03, -7.29033543e-03,  1.25106071e-02,  1.17145395e-02,\n",
       "         8.72753748e-03, -1.46690919e-02,  1.44443411e-02,  1.19690828e-03,\n",
       "        -2.29421787e-02,  8.63904075e-04,  6.49859948e-03, -1.00799807e-02,\n",
       "         1.45990433e-02,  9.82256252e-04,  1.19135409e-02, -1.16752372e-02,\n",
       "        -2.27372265e-02, -4.21187904e-03,  7.24455862e-03, -7.05298560e-03,\n",
       "        -1.31212647e-02, -1.44322991e-02,  6.66096339e-04, -8.38789382e-03,\n",
       "         3.85629982e-03,  3.79008980e-03, -4.22034982e-03, -1.35009201e-02,\n",
       "        -6.63976541e-03, -1.58180807e-03, -2.13322796e-02,  1.63104768e-02,\n",
       "         4.39403517e-03, -4.35064774e-03, -4.89202605e-03, -1.41054447e-03,\n",
       "        -4.64204963e-03,  2.16682096e-02,  6.40781713e-03,  2.93749037e-02,\n",
       "        -3.96205293e-03,  8.06409329e-03,  9.15974177e-03,  9.10885520e-03,\n",
       "        -9.06254101e-03,  5.05654210e-03, -4.63002431e-03,  1.28958773e-02,\n",
       "         3.41149547e-03,  1.98635311e-03,  9.92838102e-03, -5.70073793e-03,\n",
       "        -3.56886905e-03, -1.36923394e-03,  2.29932101e-03,  1.73594211e-02,\n",
       "         8.38306051e-04,  1.73090340e-03, -1.99515205e-03, -1.71298887e-02,\n",
       "        -1.11061299e-02,  8.88801366e-03,  1.41333538e-02,  7.70958497e-03,\n",
       "        -1.42342526e-02, -5.15787413e-03, -2.10474917e-02, -9.89914987e-03,\n",
       "         2.11709314e-03, -5.96399526e-03,  3.24891486e-03,  9.55212467e-05,\n",
       "        -1.41245002e-04, -2.69832402e-03,  8.74509799e-03, -1.52705968e-02,\n",
       "         9.48232992e-03, -8.83562492e-03,  1.52054866e-03,  6.52094360e-03,\n",
       "         2.36647714e-03, -2.02309898e-02, -1.69621266e-02, -1.66846114e-03,\n",
       "        -1.24229824e-02,  5.99851401e-03, -8.00326914e-03, -4.43811429e-03,\n",
       "         4.17694270e-03,  4.80520398e-03,  3.73258046e-03,  9.34729261e-03,\n",
       "        -1.00223741e-02,  1.13618173e-02,  5.97800022e-03,  9.11377578e-04,\n",
       "        -1.36792309e-02,  4.93965772e-03, -6.01221150e-03,  4.51794022e-03,\n",
       "         3.09803241e-03,  1.11966813e-02,  7.83157562e-04, -1.05142982e-02,\n",
       "         1.03982749e-03,  3.06016148e-03,  8.60452549e-03, -1.00864620e-02,\n",
       "        -4.73490105e-03,  1.68358597e-02, -8.35465617e-03, -1.54472858e-04,\n",
       "         2.12345949e-03, -5.31846975e-04,  1.79119051e-02, -2.82471821e-04,\n",
       "         1.23441668e-03,  9.41423204e-04,  1.22825946e-02,  7.21122372e-03,\n",
       "         2.87906144e-02,  2.33610435e-03,  2.03664726e-03,  1.40564537e-02,\n",
       "        -1.66320668e-02, -1.68014647e-02, -1.08544381e-02,  1.01819827e-02,\n",
       "         9.63826124e-03,  1.46529805e-02,  1.89785203e-03,  1.93304689e-02,\n",
       "        -1.35709676e-02,  6.69111512e-04,  2.26040222e-04, -1.15449658e-02,\n",
       "         6.22756106e-03,  9.26198355e-03, -1.65410598e-04, -1.19031304e-03,\n",
       "         7.80158754e-03, -3.45652555e-02,  1.64205881e-02,  9.72693032e-03,\n",
       "         4.94943713e-03, -5.35498783e-04, -1.05851858e-02,  8.41513548e-03,\n",
       "         9.46558289e-03,  2.08217683e-02, -5.27029323e-03, -8.80032706e-03,\n",
       "        -8.06870105e-03,  9.58962941e-03,  5.11146504e-04, -3.24634279e-03,\n",
       "        -8.31071069e-03,  6.07508254e-04,  2.20493239e-02, -5.40940677e-03,\n",
       "        -4.15673939e-03,  4.20442411e-03, -2.49527863e-02,  1.31230498e-02,\n",
       "         1.00582810e-02, -7.86536697e-03, -3.72245720e-03,  3.33570940e-03,\n",
       "         1.18862187e-02, -1.32453642e-02,  7.98132192e-03,  1.22856451e-02,\n",
       "         7.70258199e-03, -1.20826923e-02, -2.28624447e-03,  2.35704256e-03,\n",
       "        -1.03878555e-02, -1.25820704e-02,  3.48347057e-03,  1.61533695e-02,\n",
       "        -4.63957383e-03, -3.24414110e-03,  4.03326661e-03,  1.72449948e-02,\n",
       "         5.78076723e-03, -9.95505878e-03,  9.43102777e-03, -8.32718810e-04,\n",
       "        -2.30880300e-02,  9.86401901e-03,  8.60932678e-03,  2.59776125e-03,\n",
       "        -1.12048967e-02,  3.39175979e-03, -9.07248843e-03,  1.43456759e-03,\n",
       "        -2.06740126e-03, -1.00856839e-02,  7.25238392e-03,  4.09653219e-03,\n",
       "         8.81530466e-03, -1.75068649e-02,  1.10073709e-02, -1.03373933e-02,\n",
       "         1.43389692e-02,  1.35933284e-02,  7.42748937e-04,  6.38217490e-03,\n",
       "        -1.76656169e-02, -6.75525273e-03, -5.48335367e-03,  5.00187108e-03,\n",
       "        -1.46587200e-02,  6.89541749e-03,  3.86446113e-03,  1.16080977e-02,\n",
       "        -5.73927202e-03,  5.80796119e-04, -1.20430441e-02,  2.60874320e-03,\n",
       "         1.50744459e-03,  9.04447550e-03, -5.66676639e-03, -9.34456588e-04,\n",
       "        -7.16062993e-03, -4.66499501e-03, -5.89702481e-03, -5.35821956e-03,\n",
       "         1.06837879e-03,  1.39431592e-02, -5.88573339e-03, -6.87226090e-03,\n",
       "        -1.25237387e-02, -1.74235630e-02, -7.53384824e-03,  9.68805138e-03,\n",
       "         2.65318076e-02, -9.49105812e-03, -3.91174110e-03,  8.17636206e-03,\n",
       "         2.01891875e-03,  2.15411656e-02,  1.46275416e-02, -8.59489739e-03,\n",
       "         7.85287201e-03,  2.14591855e-03,  3.00370436e-03,  1.94754492e-03,\n",
       "         1.90081018e-02, -8.91804260e-03, -2.37351649e-03,  5.75434688e-03,\n",
       "         4.89073410e-03, -1.47655597e-02,  1.61490192e-02,  1.12985252e-02,\n",
       "        -1.84852665e-02, -8.32241770e-03, -2.09771664e-04, -1.71439743e-02,\n",
       "        -9.10107510e-03,  2.36630914e-03,  7.33734814e-03,  7.05200312e-03,\n",
       "         4.15502302e-03, -4.65623244e-03, -3.14693934e-03, -6.98131997e-03,\n",
       "         3.09110017e-03, -1.45493426e-02,  1.21403244e-02,  1.06339757e-02,\n",
       "         8.85095621e-03,  1.05023692e-02, -1.41768582e-02,  1.63149333e-02,\n",
       "        -4.23995286e-03, -2.08656617e-02, -1.30709263e-02, -4.70104446e-03,\n",
       "         2.62412634e-02,  7.52107033e-03,  1.49121350e-02,  6.86213564e-03,\n",
       "        -8.61336864e-03, -3.07087165e-02,  7.20250536e-03, -3.64531872e-02,\n",
       "        -3.27903222e-03, -2.04765674e-03,  1.21635350e-02,  1.12624139e-02,\n",
       "         8.07323607e-03, -7.35727935e-03, -1.56776452e-02,  1.20327154e-02,\n",
       "         1.36422078e-02, -9.65862571e-03, -1.26988044e-02,  1.40115532e-02,\n",
       "        -1.54978489e-02,  1.18273388e-02, -5.58055542e-03, -4.79444409e-03,\n",
       "        -2.60037069e-03, -1.04058846e-02,  6.05229197e-03, -7.95266551e-03,\n",
       "         2.70964098e-03,  9.91363667e-04,  9.08123667e-04,  1.06586277e-02,\n",
       "         1.10192371e-02, -4.34631508e-03,  1.17783091e-02,  5.26290903e-03,\n",
       "        -6.79601504e-03,  1.65347668e-02, -5.32439399e-04,  1.03915417e-02,\n",
       "        -1.15948266e-02, -7.76098539e-03,  3.89247306e-03,  8.06523392e-03,\n",
       "         1.30139642e-02, -2.46354327e-02, -6.81310691e-03, -2.17115636e-02,\n",
       "         1.43308211e-03, -2.04424367e-03,  1.17326129e-02,  3.73216488e-03,\n",
       "         5.45793149e-03, -8.16779502e-03, -3.54357166e-03, -5.01742542e-03,\n",
       "         2.04590499e-03,  8.73042002e-03,  7.23791368e-04,  2.72831560e-03,\n",
       "        -1.75471498e-02,  2.21280942e-03,  3.46754586e-03, -1.43782470e-02,\n",
       "        -3.30129675e-03,  2.20289737e-03, -1.10718799e-03,  7.59247069e-03,\n",
       "        -2.05660543e-02, -6.26505278e-03,  9.95569442e-03,  5.58697383e-03,\n",
       "         8.35672424e-03,  1.15705009e-02,  8.60145726e-03, -3.35410207e-03,\n",
       "         7.61057058e-03, -6.09283422e-03,  5.50826985e-03,  3.40866598e-03,\n",
       "        -6.01759637e-03,  1.09570944e-02,  1.39341048e-02, -1.12579187e-03,\n",
       "        -7.13687992e-03,  1.12188221e-02,  2.75518689e-03,  2.56377203e-03,\n",
       "         8.48129245e-03, -1.98780422e-03,  5.37810456e-03,  1.71053993e-03,\n",
       "        -1.79332114e-03, -7.83876094e-03, -5.38755782e-03,  4.83372876e-03,\n",
       "         1.05046416e-02,  2.28444851e-03,  9.37463254e-03, -3.67775129e-03,\n",
       "        -2.10045770e-04,  1.33041282e-02,  4.60575161e-03, -8.61326253e-03,\n",
       "         8.86855209e-03, -9.95244151e-03, -2.47925092e-03, -8.53992574e-03,\n",
       "         1.92027883e-02, -6.35278459e-03,  2.17571793e-02, -6.43286794e-03,\n",
       "        -9.10458993e-04, -1.16394707e-02, -8.28483421e-04,  5.35798418e-04,\n",
       "         1.41596371e-03, -1.31412082e-03, -5.87368154e-03, -1.79070695e-02,\n",
       "        -1.92480346e-02,  3.80653620e-03,  8.57396253e-04,  6.89812319e-03,\n",
       "        -1.29434402e-02,  5.02490039e-04, -1.15426314e-02,  1.11134413e-02,\n",
       "         1.74245966e-02, -4.00186913e-03,  4.14794930e-03, -2.24453737e-02,\n",
       "         4.27173939e-03, -3.56407661e-03, -2.14835114e-03,  1.80582869e-02,\n",
       "         9.99896790e-03,  6.96201656e-03,  7.89892193e-03,  4.02272677e-03,\n",
       "         1.97912776e-02,  1.26331947e-02, -1.70146667e-02, -1.25389694e-03,\n",
       "         8.35394780e-03, -7.66544160e-04, -6.18444774e-03, -4.84021105e-03,\n",
       "         3.20840897e-03,  7.84660728e-04, -5.41656007e-03,  1.30136282e-02,\n",
       "        -3.69342842e-03,  1.41838867e-02, -1.95061414e-03,  5.62667508e-03,\n",
       "        -1.08813713e-02, -3.24149861e-02, -1.54702754e-04,  7.06399308e-03,\n",
       "         1.55285832e-02, -1.39996262e-02, -2.79223650e-03, -1.29841671e-02,\n",
       "        -6.23274805e-04,  2.60130696e-03,  1.01587986e-02,  1.96403598e-02,\n",
       "        -9.30622182e-03,  1.79633488e-02, -6.66388679e-03,  9.52201349e-03,\n",
       "        -1.07329204e-02,  1.04918293e-02, -1.22651147e-02,  2.37517781e-03,\n",
       "        -1.51942670e-03,  3.99418431e-03,  1.43063328e-02,  9.04409529e-03,\n",
       "         7.29439298e-03, -7.04424955e-03, -7.76252841e-04,  1.91405521e-04,\n",
       "         3.14807014e-03,  5.04736394e-03, -1.19869406e-02, -8.91240131e-03,\n",
       "         2.53263882e-03,  1.57492125e-02, -5.62688394e-04, -9.69358757e-03,\n",
       "         1.20009633e-02,  7.24225082e-03,  6.01530525e-03, -2.71925117e-02,\n",
       "        -4.56260291e-03,  7.48060866e-03,  2.65403270e-03,  1.25786121e-02,\n",
       "        -1.17504750e-02,  1.02589448e-02,  1.30232661e-02, -5.71024324e-03,\n",
       "        -2.17834857e-02,  6.33733635e-03, -1.86933842e-02,  6.83092285e-03,\n",
       "        -2.98515452e-03, -9.38601338e-03, -3.43832355e-03,  2.19782197e-03,\n",
       "         7.34340052e-04, -1.74820849e-03,  8.70306241e-03, -1.49338524e-02,\n",
       "        -2.77394209e-03,  9.77472649e-04, -1.01757677e-02,  4.23990765e-03,\n",
       "         7.39012694e-03,  1.37778906e-02, -7.39463743e-03, -7.50960306e-03,\n",
       "         3.68594696e-03, -1.05518509e-02, -5.59363296e-03, -6.14934440e-03,\n",
       "        -1.82390657e-02, -6.25727168e-03,  1.48435288e-02,  6.52168634e-03,\n",
       "         3.02751672e-02,  1.02558412e-02, -7.88441296e-03,  1.03296732e-02,\n",
       "         1.59718667e-02,  3.67381553e-03,  1.44967750e-02,  1.77341779e-02,\n",
       "        -4.96767949e-03, -1.68672018e-03, -2.01816817e-03, -1.86059221e-03,\n",
       "        -2.42396316e-02, -8.19493158e-03, -3.68860060e-03, -3.82696257e-03,\n",
       "        -2.72314394e-03, -2.27013185e-02,  6.68846248e-04, -4.49530531e-03,\n",
       "         4.33168917e-03,  3.87929825e-03,  2.38423086e-02, -1.87641214e-02,\n",
       "        -7.98008502e-03, -6.33425593e-04, -3.38848919e-03,  8.23727564e-03,\n",
       "        -4.01806795e-03,  3.52503752e-03, -4.46227988e-03,  8.84806483e-03,\n",
       "        -3.05901300e-03, -1.49859149e-02,  4.82126568e-04,  1.58479086e-02,\n",
       "         1.03575126e-03, -4.11472149e-03, -1.25560347e-03,  2.05457914e-03,\n",
       "        -7.75697989e-03, -6.76534162e-03,  6.46355804e-03,  2.32966727e-03,\n",
       "         2.65679145e-03, -1.61193327e-03,  2.69590912e-03, -4.33638535e-03,\n",
       "         2.05795641e-02,  8.39180105e-03, -5.46967486e-03, -1.55142644e-03,\n",
       "         3.21180436e-03, -7.88765803e-03, -8.01648815e-03,  2.11644546e-02,\n",
       "         4.29487046e-03, -7.00887211e-03,  1.93075147e-02, -2.10749554e-02,\n",
       "        -1.02440202e-02, -1.07514093e-02,  2.70348235e-04, -9.52255835e-04,\n",
       "        -1.17245764e-02,  1.88460649e-03, -6.67351589e-03, -3.14876083e-03,\n",
       "         3.14423398e-02,  1.64361370e-03, -1.71401589e-03,  2.68539580e-03,\n",
       "        -1.56200165e-03,  3.65038819e-04, -3.60086879e-03, -1.55845595e-03,\n",
       "         2.33007836e-04, -8.71141040e-03, -9.72432288e-03, -2.09501750e-02,\n",
       "         7.00376919e-03, -1.77566557e-02, -1.01974310e-02, -7.93109067e-03,\n",
       "         1.37643444e-02,  9.25619194e-03, -2.01002455e-03, -4.79617715e-03,\n",
       "         8.55404566e-03, -2.87226680e-03,  1.04312252e-02,  5.47311346e-03,\n",
       "         1.12833167e-02,  1.82072683e-02, -1.73636044e-02, -1.40409632e-02,\n",
       "         1.71469265e-02, -1.40521927e-02, -7.34237148e-03,  9.26275282e-03,\n",
       "        -6.47257804e-03, -6.73610947e-03,  3.78629203e-04,  2.30012875e-02,\n",
       "         9.56026463e-03, -1.17912108e-02, -1.00902244e-03,  1.94706259e-02,\n",
       "        -8.06637556e-03,  1.89125579e-03,  6.94503079e-03,  4.07242400e-04,\n",
       "         1.49182008e-02, -4.55362813e-03,  1.67818650e-03, -1.41178722e-02,\n",
       "         1.32972313e-02, -3.19538548e-03,  2.15217747e-02,  5.50446773e-03,\n",
       "         1.36398506e-04,  1.36221663e-04, -1.10556147e-02, -4.07341097e-03,\n",
       "         4.40171016e-03,  2.95560306e-03, -4.01422162e-03, -1.13039818e-02,\n",
       "        -2.24185688e-03, -6.24861522e-03, -5.27095639e-03, -1.13203663e-02,\n",
       "        -1.32598831e-02,  1.78530031e-03, -9.14428669e-03, -9.61191592e-06,\n",
       "         2.72842170e-03,  1.45240177e-02, -7.38986267e-03, -8.94737650e-04,\n",
       "        -2.57016590e-03,  5.00317972e-03,  1.05690213e-02, -1.16721689e-02,\n",
       "         6.56127264e-03,  1.12409753e-04,  1.32255523e-03,  6.12932478e-03,\n",
       "         2.16913583e-02, -4.03553120e-03, -1.73823763e-02, -2.29507778e-03,\n",
       "         1.04473003e-02, -1.50501089e-02,  1.41073844e-02,  2.23104503e-02,\n",
       "         3.46705954e-03,  9.17029045e-03,  3.74420340e-04,  4.31427898e-03,\n",
       "         4.13188677e-05, -1.09225315e-02,  5.91813887e-03, -2.03935845e-04,\n",
       "        -7.75582157e-03, -1.60372377e-02, -8.25678242e-03,  1.00485193e-02,\n",
       "         2.03640632e-02,  4.18493967e-05,  7.18026735e-03,  1.36186169e-02,\n",
       "        -1.71040696e-02,  7.18743833e-03,  1.21466819e-02,  1.02590067e-02,\n",
       "         7.69653396e-03, -8.41549017e-03, -3.49684974e-03,  4.58132959e-03,\n",
       "        -7.67592025e-05, -5.36385201e-03, -4.12153879e-03,  8.35171958e-03,\n",
       "         7.92049677e-03, -1.18504886e-02, -1.55156039e-02, -1.28231781e-02,\n",
       "         4.06722931e-03, -4.13108831e-03, -3.08675967e-03,  1.53954381e-02,\n",
       "        -1.25611056e-02,  1.51549979e-03, -7.71335272e-03,  1.37169682e-02,\n",
       "        -4.60219806e-03, -1.38159924e-02, -1.97304357e-02,  4.46688564e-03,\n",
       "         6.61950704e-03,  2.84537682e-03, -2.50032176e-03, -2.85327386e-03,\n",
       "        -4.68787849e-03, -3.29623904e-03, -1.73853296e-02,  6.66477001e-03,\n",
       "         8.06003474e-03,  2.64025663e-03,  1.27264263e-02, -5.80611432e-04,\n",
       "        -1.57317591e-02,  6.75845259e-03,  2.56889739e-02,  8.76163281e-03,\n",
       "        -2.52776779e-03,  4.90264448e-03, -1.79554052e-03, -9.22712879e-03,\n",
       "        -1.00727169e-03, -7.88012451e-03, -5.63727782e-03, -1.38887102e-02,\n",
       "         2.85014274e-03,  4.56559940e-03,  6.37854962e-03,  1.02998663e-02,\n",
       "         1.45399159e-02,  1.14831316e-02, -1.19005351e-02,  2.12476592e-02,\n",
       "         2.37655233e-02, -2.39528586e-03,  6.98684532e-03, -1.01129000e-02]))"
      ]
     },
     "execution_count": 530,
     "metadata": {},
     "output_type": "execute_result"
    }
   ],
   "source": [
    "result"
   ]
  },
  {
   "cell_type": "code",
   "execution_count": 531,
   "metadata": {},
   "outputs": [],
   "source": [
    "corr_rv = dsa.DiscreteRv(result[1])"
   ]
  },
  {
   "cell_type": "code",
   "execution_count": 532,
   "metadata": {},
   "outputs": [
    {
     "data": {
      "text/plain": [
       "[<matplotlib.lines.Line2D at 0x18f65433da0>]"
      ]
     },
     "execution_count": 532,
     "metadata": {},
     "output_type": "execute_result"
    },
    {
     "data": {
      "image/png": "[encoded data removed]",
      "text/plain": [
       "<Figure size 576x432 with 1 Axes>"
      ]
     },
     "metadata": {
      "needs_background": "light"
     },
     "output_type": "display_data"
    }
   ],
   "source": [
    "# In the parametric case creating the rv is really not necessary since the x and y values for plotting are already calculated\n",
    "\n",
    "fig,ax = plt.subplots()\n",
    "fig.set_size_inches(8,6)\n",
    "\n",
    "# Plot parametric case\n",
    "plt.plot(my_rs, my_ps)\n",
    "\n",
    "# Plot non-parametric case\n",
    "plt.plot(corr_rv.xk, corr_rv.cdf(corr_rv.xk))"
   ]
  },
  {
   "cell_type": "code",
   "execution_count": 533,
   "metadata": {},
   "outputs": [
    {
     "data": {
      "text/plain": [
       "5.722947107252811e-11"
      ]
     },
     "execution_count": 533,
     "metadata": {},
     "output_type": "execute_result"
    }
   ],
   "source": [
    "# Parametric pvalue\n",
    "stats.pearsonr(live2.agepreg.values, live2.totalwgt_lb.values)[1]"
   ]
  },
  {
   "cell_type": "code",
   "execution_count": 534,
   "metadata": {},
   "outputs": [
    {
     "data": {
      "text/plain": [
       "0.0"
      ]
     },
     "execution_count": 534,
     "metadata": {},
     "output_type": "execute_result"
    }
   ],
   "source": [
    "# Non-parametric pvalue\n",
    "dsa.PvalueFromEstimates(result[1], result[0])\n",
    "# This is 0 because the actual is far beyond the results obtained through resampling"
   ]
  },
  {
   "cell_type": "markdown",
   "metadata": {},
   "source": [
    "##  Chi-squared test\n",
    "\n",
    "The reason the chi-squared statistic is useful is that we can compute its distribution under the null hypothesis analytically."
   ]
  },
  {
   "cell_type": "code",
   "execution_count": 535,
   "metadata": {},
   "outputs": [],
   "source": [
    "def ChiSquaredCdf(n):\n",
    "    \"\"\"Discrete approximation of the chi-squared CDF with df=n-1.\n",
    "\n",
    "    n: sample size\n",
    "    \n",
    "    returns: Cdf\n",
    "    \"\"\"\n",
    "    xs = np.linspace(0, 25, 101)\n",
    "    ps = scipy.stats.chi2.cdf(xs, df=n-1)\n",
    "    return thinkstats2.Cdf(xs, ps)"
   ]
  },
  {
   "cell_type": "markdown",
   "metadata": {},
   "source": [
    "Again, we can confirm the analytic result by comparing values generated by simulation with the analytic distribution."
   ]
  },
  {
   "cell_type": "code",
   "execution_count": 536,
   "metadata": {},
   "outputs": [
    {
     "data": {
      "image/png": "[encoded data removed]",
      "text/plain": [
       "<Figure size 432x288 with 1 Axes>"
      ]
     },
     "metadata": {
      "needs_background": "light"
     },
     "output_type": "display_data"
    }
   ],
   "source": [
    "data = [8, 9, 19, 5, 8, 11]\n",
    "dt = hypothesis.DiceChiTest(data)\n",
    "p_value = dt.PValue(iters=1000)\n",
    "n, chi2, cdf = len(data), dt.actual, dt.test_cdf\n",
    "\n",
    "model = ChiSquaredCdf(n)\n",
    "thinkplot.Plot(model.xs, model.ps, color='gray',\n",
    "                   alpha=0.3, label='chi squared')\n",
    "thinkplot.Cdf(cdf, label='sample')\n",
    "\n",
    "thinkplot.Config(xlabel='chi-squared statistic',\n",
    "                 ylabel='CDF',\n",
    "                 loc='lower right')"
   ]
  },
  {
   "cell_type": "markdown",
   "metadata": {
    "collapsed": true
   },
   "source": [
    "And then we can use the analytic distribution to compute p-values."
   ]
  },
  {
   "cell_type": "code",
   "execution_count": 537,
   "metadata": {},
   "outputs": [
    {
     "name": "stdout",
     "output_type": "stream",
     "text": [
      "11.6 0.04069938850404997\n"
     ]
    }
   ],
   "source": [
    "p_value = 1 - scipy.stats.chi2.cdf(chi2, df=n-1)\n",
    "print(chi2, p_value)"
   ]
  },
  {
   "cell_type": "code",
   "execution_count": 538,
   "metadata": {},
   "outputs": [],
   "source": [
    "# Mine\n",
    "my_data = [8, 9, 19, 5, 8, 11]\n",
    "expected = np.full(6, 10)\n",
    "actual, chis = dsa.ResampleChisquared(my_data, expected)\n",
    "chi_rv = dsa.DiscreteRv(chis)"
   ]
  },
  {
   "cell_type": "code",
   "execution_count": 539,
   "metadata": {},
   "outputs": [],
   "source": [
    "my_xs = np.linspace(0, 25, 101)\n",
    "my_ps = scipy.stats.chi2.cdf(my_xs, df=n-1)"
   ]
  },
  {
   "cell_type": "code",
   "execution_count": 540,
   "metadata": {},
   "outputs": [
    {
     "data": {
      "text/plain": [
       "[<matplotlib.lines.Line2D at 0x18f654e5470>]"
      ]
     },
     "execution_count": 540,
     "metadata": {},
     "output_type": "execute_result"
    },
    {
     "data": {
      "image/png": "[encoded data removed]",
      "text/plain": [
       "<Figure size 576x432 with 1 Axes>"
      ]
     },
     "metadata": {
      "needs_background": "light"
     },
     "output_type": "display_data"
    }
   ],
   "source": [
    "fig,ax = plt.subplots()\n",
    "fig.set_size_inches(8,6)\n",
    "\n",
    "# Plot parametric case\n",
    "plt.plot(my_xs, my_ps)\n",
    "\n",
    "# Plot non-parametric case\n",
    "plt.plot(chi_rv.xk, chi_rv.cdf(chi_rv.xk))"
   ]
  },
  {
   "cell_type": "code",
   "execution_count": 541,
   "metadata": {},
   "outputs": [
    {
     "data": {
      "text/plain": [
       "Power_divergenceResult(statistic=11.6, pvalue=0.040699388504049985)"
      ]
     },
     "execution_count": 541,
     "metadata": {},
     "output_type": "execute_result"
    }
   ],
   "source": [
    "# Getting the p-value from the data (parametric)\n",
    "stats.chisquare(my_data, expected)"
   ]
  },
  {
   "cell_type": "code",
   "execution_count": 542,
   "metadata": {},
   "outputs": [
    {
     "data": {
      "text/plain": [
       "0.03799999999999937"
      ]
     },
     "execution_count": 542,
     "metadata": {},
     "output_type": "execute_result"
    }
   ],
   "source": [
    "# Getting the p-value from the data (non-parametric)\n",
    "dsa.PvalueFromEstimates(chis, actual)"
   ]
  },
  {
   "cell_type": "markdown",
   "metadata": {
    "collapsed": true
   },
   "source": [
    "## Exercises"
   ]
  },
  {
   "cell_type": "markdown",
   "metadata": {
    "collapsed": true
   },
   "source": [
    "**Exercise:**    In Section 5.4, we saw that the distribution of adult weights is approximately lognormal. One possible explanation is that the weight a person gains each year is proportional to their current weight. In that case, adult weight is the product of a large number of multiplicative factors:\n",
    "\n",
    "w = w0 f1 f2 ... fn  \n",
    "\n",
    "where w is adult weight, w0 is birth weight, and fi is the weight gain factor for year i.\n",
    "\n",
    "The log of a product is the sum of the logs of the factors:\n",
    "\n",
    "logw = logw0 + logf1 + logf2 + ... + logfn \n",
    "\n",
    "So by the Central Limit Theorem, the distribution of logw is approximately normal for large n, which implies that the distribution of w is lognormal.\n",
    "\n",
    "To model this phenomenon, choose a distribution for f that seems reasonable, then generate a sample of adult weights by choosing a random value from the distribution of birth weights, choosing a sequence of factors from the distribution of f, and computing the product. What value of n is needed to converge to a lognormal distribution?"
   ]
  },
  {
   "cell_type": "code",
   "execution_count": 543,
   "metadata": {},
   "outputs": [],
   "source": [
    "# Code from the solution\n",
    "n=40\n",
    "birth_weights = live.totalwgt_lb.dropna().values"
   ]
  },
  {
   "cell_type": "code",
   "execution_count": 544,
   "metadata": {},
   "outputs": [],
   "source": [
    "# Solution goes here\n",
    "def GenerateBirthWeight(birth_weights, n):\n",
    "    bw = random.choice(birth_weights)\n",
    "    factors = np.random.normal(1.09, 0.03, n)\n",
    "    \n",
    "    return np.array(bw * np.prod(factors))"
   ]
  },
  {
   "cell_type": "code",
   "execution_count": 545,
   "metadata": {},
   "outputs": [
    {
     "data": {
      "text/plain": [
       "[<matplotlib.lines.Line2D at 0x18f65b98e10>]"
      ]
     },
     "execution_count": 545,
     "metadata": {},
     "output_type": "execute_result"
    },
    {
     "data": {
      "image/png": "[encoded data removed]",
      "text/plain": [
       "<Figure size 576x432 with 1 Axes>"
      ]
     },
     "metadata": {
      "needs_background": "light"
     },
     "output_type": "display_data"
    }
   ],
   "source": [
    "# Solution goes here\n",
    "aws=[GenerateBirthWeight(birth_weights, n) for _ in range(1000)]\n",
    "log_aws=np.array(np.log10(aws))\n",
    "\n",
    "# A normal probability plot and a fit line, data needs to be in array format\n",
    "fig,ax = plt.subplots()\n",
    "fig.set_size_inches(8,6)\n",
    "\n",
    "fit_xs, fit_ys = dsa.FitLine([-5,5], log_aws.mean(), log_aws.std())\n",
    "xs, ys = dsa.NormalProbabilityValues(log_aws)\n",
    "ax.plot(fit_xs, fit_ys, color='0.8')\n",
    "ax.plot(xs, ys)"
   ]
  },
  {
   "cell_type": "code",
   "execution_count": 546,
   "metadata": {},
   "outputs": [],
   "source": [
    "# Solution goes here"
   ]
  },
  {
   "cell_type": "markdown",
   "metadata": {},
   "source": [
    "**Exercise:** In Section 14.6 we used the Central Limit Theorem to find the sampling distribution of the difference in means, δ, under the null hypothesis that both samples are drawn from the same population.\n",
    "\n",
    "We can also use this distribution to find the standard error of the estimate and confidence intervals, but that would only be approximately correct. To be more precise, we should compute the sampling distribution of δ under the alternate hypothesis that the samples are drawn from different populations.\n",
    "\n",
    "Compute this distribution and use it to calculate the standard error and a 90% confidence interval for the difference in means."
   ]
  },
  {
   "cell_type": "code",
   "execution_count": 547,
   "metadata": {},
   "outputs": [],
   "source": [
    "# Solution goes here\n",
    "# This is the non-parametric way to do this\n",
    "Ha_results = dsa.ResampleDiffMeans_Ha(firsts.prglngth, others.prglngth)"
   ]
  },
  {
   "cell_type": "code",
   "execution_count": 548,
   "metadata": {},
   "outputs": [
    {
     "data": {
      "text/plain": [
       "(0.07803726677754952,\n",
       " array([ 7.65280941e-02,  1.56618573e-01,  8.54391281e-02,  1.20866041e-01,\n",
       "         7.71642103e-02,  7.51856555e-02,  1.23579967e-01,  5.70331346e-02,\n",
       "         5.85304387e-02,  1.01629270e-01,  8.84130142e-02,  5.03288857e-03,\n",
       "         1.09077361e-01,  1.38615605e-02,  1.01602996e-01,  6.39065103e-02,\n",
       "         1.74652600e-01,  4.15723344e-02,  3.20006815e-02,  4.93412594e-02,\n",
       "        -8.77933130e-03,  6.64125456e-02,  9.23650508e-02,  4.67160121e-02,\n",
       "         8.85714211e-02,  1.02279265e-01,  1.60822481e-01,  3.08802997e-02,\n",
       "         1.43930133e-03,  6.33651511e-02,  1.98329740e-01,  1.15485662e-01,\n",
       "         5.87570419e-02,  1.10792176e-01,  2.48047013e-02, -5.06559409e-02,\n",
       "         4.17908498e-02,  6.71656245e-02,  1.69041598e-01,  1.55652530e-01,\n",
       "         9.64444352e-02,  5.84170174e-02,  2.54193296e-02,  8.62384368e-02,\n",
       "         3.83372445e-02,  9.03945839e-02,  1.02740798e-01,  1.13646802e-01,\n",
       "         7.67223460e-02,  6.39532666e-02,  1.07945111e-01,  1.78718058e-01,\n",
       "         1.26522028e-01,  7.24800562e-02,  4.67043828e-02,  5.73355434e-02,\n",
       "         2.97220150e-02,  5.15037289e-02,  2.28271180e-01,  9.07005342e-02,\n",
       "         1.03234683e-01,  9.61048893e-02,  7.11257490e-02,  1.09663706e-01,\n",
       "        -5.62394251e-02,  4.82706489e-02,  6.08535643e-02,  1.33197611e-01,\n",
       "         7.82413772e-02,  7.54329808e-02, -4.95382870e-03,  5.47153210e-02,\n",
       "         1.33447951e-01,  7.45159437e-02, -2.69204623e-02, -2.02656019e-02,\n",
       "         6.81480822e-02,  2.14119702e-02,  4.21207764e-02,  6.30369952e-02,\n",
       "         1.84667361e-01,  8.22730002e-03,  4.37014475e-02,  1.00384843e-01,\n",
       "         8.91034481e-02,  1.33217806e-01,  8.92277329e-02,  1.31951413e-01,\n",
       "         1.20418146e-01,  7.48150504e-02,  5.44470343e-02,  9.67483276e-02,\n",
       "         1.83466292e-02, -2.48268113e-03,  1.38742426e-01, -5.37884732e-02,\n",
       "         1.70687929e-01,  1.54411405e-01,  1.33686423e-01,  2.71930083e-02,\n",
       "         5.55166398e-02,  7.57603710e-02,  4.19040317e-02, -9.24742128e-03,\n",
       "         5.38025910e-02,  1.32004199e-01,  4.59485283e-02,  3.77382654e-02,\n",
       "         7.50939614e-02,  8.10356557e-02,  1.28346435e-02,  2.47248757e-02,\n",
       "         5.08501928e-02,  3.90933383e-02,  2.10933378e-01,  6.62011610e-03,\n",
       "         7.88676348e-02,  6.89749566e-03,  8.14282272e-02,  3.75225257e-02,\n",
       "         9.86415053e-02,  1.49725241e-01,  8.43296098e-02,  3.79204094e-02,\n",
       "         1.19273501e-01,  7.01986140e-02, -4.64492568e-02,  1.39726655e-01,\n",
       "         1.14479706e-01,  1.57168355e-02,  9.00073245e-02, -1.22107309e-03,\n",
       "         6.01184319e-02,  5.82083606e-02,  1.13828707e-01,  7.94229203e-02,\n",
       "         9.76476576e-02,  1.24537683e-01,  1.05844042e-01,  1.19141128e-01,\n",
       "         9.41159974e-02,  3.87818366e-02,  1.44341320e-01,  1.46405013e-01,\n",
       "         1.81047261e-01,  6.93002890e-02,  4.77987304e-02,  4.62638107e-02,\n",
       "         1.46282738e-01,  7.57477368e-02,  1.15586210e-01,  4.35127471e-02,\n",
       "        -2.67693296e-03,  1.08027951e-01,  4.85826292e-02,  1.77498659e-01,\n",
       "         1.10902821e-01,  1.09556841e-01,  1.02535683e-01,  4.87746317e-02,\n",
       "         2.90803475e-02,  8.96357144e-02,  7.10759776e-02,  1.51996058e-01,\n",
       "         1.76034712e-01,  3.85931362e-02,  1.03939761e-01,  8.24942912e-02,\n",
       "         1.64880617e-01,  3.78832723e-02,  3.88513251e-02,  1.13607655e-01,\n",
       "         2.26647246e-02,  7.34107326e-02,  5.48767429e-02,  8.25493747e-02,\n",
       "         6.76324702e-02, -3.39608113e-02,  1.98268101e-01,  3.35343569e-02,\n",
       "         1.23933057e-02,  9.83234473e-02,  1.75692151e-01,  1.19570837e-01,\n",
       "         2.10091381e-01,  4.27796247e-02,  1.36606757e-01,  7.62363096e-02,\n",
       "         6.92911961e-02, -1.58696909e-02,  1.54181260e-01,  1.10459473e-01,\n",
       "        -2.31454967e-02,  1.10758580e-01,  2.09078103e-01,  6.51769718e-02,\n",
       "         1.48735461e-01,  1.89466133e-02,  7.68895586e-03,  7.79584462e-02,\n",
       "         7.78922599e-02,  4.51307946e-02,  1.17611999e-01,  2.62676440e-02,\n",
       "         1.02192356e-01,  5.47552338e-02,  1.39861564e-01,  9.20177042e-02,\n",
       "         1.01468853e-01,  1.30945983e-01,  1.18844558e-01,  3.08358404e-02,\n",
       "         1.38240214e-01,  2.79390043e-02,  7.70249941e-02,  8.68775680e-02,\n",
       "         1.63289609e-01,  1.85646517e-01,  3.60752323e-02,  5.92554732e-02,\n",
       "         5.43000653e-03,  2.61825063e-02,  4.17527077e-02,  7.51477527e-02,\n",
       "         4.24635766e-02,  6.30488637e-02,  1.29592921e-01,  1.01518864e-01,\n",
       "         8.51289186e-02,  2.17954488e-02,  9.93399792e-02,  1.34922762e-01,\n",
       "         1.20709165e-01,  1.46126102e-01,  1.21745414e-01,  2.40885203e-02,\n",
       "         3.54623747e-02,  1.55198079e-01,  9.75044214e-02,  2.10294965e-02,\n",
       "         1.21089102e-01,  1.56551621e-01,  4.56428652e-02,  7.45694958e-02,\n",
       "         1.02943664e-01,  5.54560049e-02,  1.03846536e-01,  6.88887661e-02,\n",
       "         1.44354960e-01,  1.00667534e-01,  6.18559785e-02,  1.71230053e-01,\n",
       "         1.29437050e-01,  1.48754651e-01,  9.75845341e-02,  9.23185816e-02,\n",
       "         1.10912680e-01,  1.03789442e-01,  1.48119062e-01,  8.39913561e-02,\n",
       "         9.88572450e-02,  5.94040216e-02,  1.80214357e-01,  1.35375203e-01,\n",
       "         1.24993904e-01,  1.22227670e-01,  4.07909721e-02,  8.37566650e-02,\n",
       "         1.25453954e-02,  9.87061602e-03,  5.81307843e-02,  2.30489690e-02,\n",
       "         1.35346154e-01,  9.49688582e-02,  9.63976788e-02,  8.22376338e-02,\n",
       "         4.58141456e-02,  7.36474336e-02,  4.19247539e-02,  3.21040049e-02,\n",
       "         1.91488955e-01,  5.39539151e-02,  1.19688565e-01, -1.75365048e-02,\n",
       "        -3.69084238e-02,  9.33465036e-02,  2.96187395e-04,  8.87330822e-02,\n",
       "         4.03713613e-02,  9.57004492e-02,  4.93720794e-02,  6.39209152e-02,\n",
       "         2.85855054e-03,  9.92861879e-02,  1.41720620e-01,  5.78786732e-02,\n",
       "         9.63565218e-02,  8.02361076e-02,  8.16485133e-02, -1.42860048e-02,\n",
       "         5.65028782e-02,  1.02903752e-01,  4.05790131e-02,  1.25777277e-01,\n",
       "         8.08236967e-02,  1.76780947e-01,  8.79044849e-02,  7.83535541e-02,\n",
       "         6.39009588e-02,  1.41212330e-01,  1.01117199e-01,  7.62252067e-02,\n",
       "         4.17600298e-02,  1.53078298e-01,  3.78804966e-02,  5.72961091e-02,\n",
       "         4.95016763e-02,  1.57136195e-01,  1.21838640e-01,  1.64369312e-01,\n",
       "         1.18371874e-01,  9.15490878e-02,  5.77624763e-02,  4.11292258e-02,\n",
       "         1.30715073e-01,  7.52862032e-02,  1.29491368e-01,  1.95865149e-01,\n",
       "         3.86590832e-02,  3.41153896e-03,  1.03887214e-01,  2.96187395e-04,\n",
       "         9.72268025e-02,  8.16945039e-02,  4.95269448e-02,  6.74412333e-02,\n",
       "         1.21265695e-01,  6.95958542e-02, -1.36589815e-02,  1.30863095e-01,\n",
       "         1.05140734e-01,  1.98332516e-01,  4.09468425e-02,  4.56446359e-02,\n",
       "         7.91874636e-02,  1.31258969e-01,  1.85525008e-01, -2.31833995e-02,\n",
       "         6.66891595e-02,  1.30180510e-01,  8.62811253e-02,  3.16823841e-02,\n",
       "         6.85942058e-02,  8.14814443e-04,  8.62419783e-02,  1.06282604e-01,\n",
       "         5.53925943e-02,  1.53796776e-01,  3.18900359e-02,  1.28755470e-01,\n",
       "         1.26951737e-01,  2.15269420e-01,  9.43926113e-02,  4.08326556e-02,\n",
       "         1.43383892e-01,  3.72107848e-02, -3.87134967e-03,  2.77278110e-02,\n",
       "         1.18790240e-01,  4.92786145e-02,  2.73188245e-02,  1.11386848e-01,\n",
       "         1.52132738e-01,  1.24101896e-01,  7.78568935e-02,  7.57868839e-02,\n",
       "         3.05566902e-02,  7.63022566e-02,  1.46427745e-01,  7.70184377e-02,\n",
       "         1.57471434e-01,  9.86606960e-03,  1.39873767e-02,  4.31171127e-02,\n",
       "         1.45424326e-01,  1.33033652e-01,  1.06126207e-01, -3.10793851e-02,\n",
       "         5.45374363e-03,  1.17541506e-01,  8.84408191e-02,  1.38655518e-01,\n",
       "         3.18147568e-02,  5.27582541e-02,  3.99588333e-02,  9.19616158e-02,\n",
       "         3.92580623e-02,  3.35204784e-02,  1.04334343e-01,  6.76054309e-02,\n",
       "         1.48710958e-01,  1.23391267e-01,  8.52878040e-02,  1.05093500e-01,\n",
       "         8.44410211e-02,  5.43381595e-02,  7.31687194e-02,  7.69623492e-02,\n",
       "         1.98836499e-01,  1.89645597e-02,  1.55150318e-01,  3.98800128e-02,\n",
       "         6.06805132e-02,  1.39403811e-01,  1.50390358e-02,  1.06281838e-01,\n",
       "         1.03544414e-01,  8.43604298e-02,  1.10942734e-01,  9.66523263e-02,\n",
       "         4.35236106e-02,  6.44201123e-02,  8.77885273e-02,  6.45092700e-02,\n",
       "         8.48255048e-02, -2.50002453e-02,  1.04867901e-01, -6.45390850e-03,\n",
       "         3.19656501e-03,  5.15992038e-02,  7.15084620e-02,  7.88835712e-02,\n",
       "         1.58618089e-01,  1.60582239e-01, -7.47701126e-02,  1.64632047e-01,\n",
       "         1.12201375e-02,  7.97720376e-02,  7.71533467e-02,  9.86753403e-02,\n",
       "         1.28167115e-01,  1.05564126e-01,  7.51566541e-03, -1.85565782e-03,\n",
       "         4.78020325e-02,  7.78371764e-02,  1.69819658e-01, -3.79242380e-02,\n",
       "         6.69285884e-03,  3.94722705e-02,  1.70116754e-01,  5.28309968e-02,\n",
       "         4.81501449e-02,  7.30421374e-02,  8.27868415e-02,  6.99720108e-02,\n",
       "         5.32450562e-02,  2.54001389e-02,  5.53524422e-02,  1.11965344e-01,\n",
       "         7.82431479e-02,  1.57371891e-01,  2.66627520e-02,  8.80803118e-02,\n",
       "        -2.21302090e-02,  5.14132790e-02,  1.70481234e-03,  2.20853909e-01,\n",
       "         2.70684842e-02,  1.16836188e-01,  6.63971357e-02,  2.43350799e-02,\n",
       "         2.02595050e-01, -2.83634486e-03,  1.14386002e-01, -1.50509522e-02,\n",
       "         1.15561707e-01,  1.38828330e-01,  5.63651935e-02,  8.56157207e-02,\n",
       "         3.35381377e-02,  7.41478750e-02,  1.77878118e-01,  1.42227617e-01,\n",
       "         1.69348026e-01,  2.90593861e-02,  3.46383238e-02,  2.54347396e-02,\n",
       "         1.68803365e-01,  3.02431785e-02,  9.64853530e-02,  1.73855827e-01,\n",
       "         1.74311809e-01,  4.72138692e-03,  1.90701324e-02, -2.51596572e-02,\n",
       "         2.05381479e-02,  6.57489117e-03,  5.01415732e-02,  1.08955230e-02,\n",
       "         5.42093283e-02,  1.29718210e-01,  1.15128696e-01, -1.60227857e-02,\n",
       "         1.40738162e-01,  6.33908982e-02,  3.93813421e-02, -3.53310549e-02,\n",
       "         2.56939335e-02,  8.08108232e-02,  4.95721698e-02,  1.03960723e-01,\n",
       "         1.63235291e-01,  6.65830604e-02,  2.38775663e-02, -2.18384245e-02,\n",
       "         3.60947101e-02,  9.59641895e-02,  3.53171285e-02,  8.53610732e-02,\n",
       "         6.48288595e-02,  8.00269244e-02,  9.07487741e-02,  6.49852086e-02,\n",
       "         9.44360655e-02,  4.82299704e-02,  1.51361234e-01,  1.00292622e-02,\n",
       "         7.77788386e-02,  4.38575573e-02,  8.40105467e-02,  6.15742918e-02,\n",
       "         6.62311673e-02,  1.59965074e-01,  1.53324619e-01,  1.19118396e-01,\n",
       "         3.88601786e-02, -6.12636037e-02,  1.33062462e-01,  1.04221448e-01,\n",
       "         1.13505863e-01,  3.86439125e-02,  1.12590596e-01,  7.93496512e-02,\n",
       "         1.03584327e-01,  9.46252923e-02,  1.75442050e-01,  7.95843422e-02,\n",
       "         6.54273122e-02,  6.27191764e-02,  5.94676715e-02,  6.49485979e-02,\n",
       "         7.49800137e-02,  8.66646040e-02,  5.31328792e-02,  6.34197082e-03,\n",
       "         2.41137888e-02,  1.05391841e-01,  2.30714810e-01,  3.16444813e-02,\n",
       "         5.27501662e-02,  1.39937082e-01,  2.64894615e-02,  1.46439374e-01,\n",
       "         3.18885045e-02,  1.18250125e-01,  6.86050694e-02,  9.93324178e-02,\n",
       "         1.30791357e-01,  4.04537233e-02,  8.85471575e-02,  1.22755151e-01,\n",
       "         5.30982786e-02,  1.41818631e-01,  1.29336502e-01,  1.44311266e-01,\n",
       "         3.02484906e-02,  3.19236316e-02,  5.63558613e-02,  3.67728926e-03,\n",
       "         1.53269535e-01,  5.35115722e-02,  9.94420584e-02,  1.18471417e-01,\n",
       "         9.60347787e-04,  8.19410635e-02,  8.06784505e-02,  7.81741858e-02,\n",
       "         7.81198681e-02,  1.03503736e-01,  1.51356688e-01,  5.28408554e-02,\n",
       "        -2.44306026e-02,  8.54009860e-02,  4.35655334e-02,  1.19889134e-01,\n",
       "        -1.38029835e-02,  5.84026124e-02,  9.09943287e-02,  1.24742798e-01,\n",
       "         4.67161557e-03,  7.81668637e-02,  2.35112683e-02,  1.22389858e-01,\n",
       "         2.63022447e-02,  1.16758133e-01,  1.13242123e-01,  7.40253609e-02,\n",
       "         1.23807336e-01,  1.17390948e-01,  1.62400377e-01,  3.22553289e-02,\n",
       "         7.97376763e-02,  1.32282344e-01,  1.21138874e-01,  7.27223086e-02,\n",
       "         1.04423788e-01,  7.61645718e-02,  1.51691161e-01, -6.80101581e-03,\n",
       "         2.65823999e-02,  1.19737571e-01,  1.65661549e-02,  1.04174692e-01,\n",
       "         5.25753444e-02,  1.35742267e-01,  1.15114817e-01,  2.03516968e-02,\n",
       "         1.30650275e-02,  2.84935241e-02,  1.36201551e-01,  6.31857828e-02,\n",
       "         9.82582659e-02,  1.45060038e-01,  8.95589038e-02,  2.14347836e-01,\n",
       "         5.76457529e-02,  4.09450718e-02, -6.87605570e-03,  3.25655385e-02,\n",
       "         1.23413233e-01,  1.18946350e-02,  7.51176985e-02,  6.07057817e-02,\n",
       "         1.98457040e-02,  2.45778731e-01,  2.47758913e-02,  3.17144484e-02,\n",
       "        -7.72992151e-03,  1.06781275e-01,  3.73338253e-02,  1.02862068e-01,\n",
       "         1.22784200e-01,  5.02556644e-03,  9.71426698e-02, -1.48852232e-02,\n",
       "         3.48656927e-02,  1.10288193e-01,  1.37200950e-02,  1.52966887e-01,\n",
       "         1.08288677e-01,  9.57868312e-02,  1.49918248e-01,  3.79421365e-02,\n",
       "         5.37063505e-02,  1.06708771e-01,  9.25598291e-02,  8.09343423e-02,\n",
       "         6.65876068e-02,  5.86102642e-02,  7.46879899e-02,  1.10305613e-01,\n",
       "         8.56202671e-02,  9.46353902e-02,  6.54907228e-02,  7.34943389e-02,\n",
       "         2.81122947e-02,  4.68430726e-02, -2.98084449e-02,  6.35935250e-02,\n",
       "         7.38869104e-02,  2.72212918e-02,  1.80391954e-01,  3.43066265e-02,\n",
       "         6.69008313e-03,  8.76081540e-02,  1.79778331e-01,  1.72234717e-02,\n",
       "         1.02642787e-01, -6.00247277e-03,  1.21428888e-01,  1.92361773e-01,\n",
       "         1.24238050e-01,  1.28568014e-01,  7.37052928e-02,  3.30238177e-02,\n",
       "         8.79181242e-02,  5.43836237e-02, -6.64282428e-02,  1.31986779e-01,\n",
       "         6.50892977e-02,  1.76403546e-01,  1.32742873e-01,  1.00041277e-01,\n",
       "         1.25417296e-01,  1.19237130e-01,  7.17105624e-02,  6.81094137e-02,\n",
       "         1.27315259e-01,  9.97712193e-02,  5.20517402e-03,  1.08032546e-03,\n",
       "         1.41827724e-01,  3.65527022e-02,  2.38898799e-01,  5.54539949e-02,\n",
       "        -1.02499072e-01,  9.25886391e-02,  1.07982248e-01,  3.89910199e-02,\n",
       "         1.02676909e-01,  3.92363352e-02,  1.11163020e-01,  2.93203507e-02,\n",
       "         1.48532355e-01,  5.38134546e-02,  1.25830350e-01,  1.83964006e-02,\n",
       "         1.28332078e-01,  7.06990554e-02,  1.86522923e-03,  5.48441523e-02,\n",
       "         4.57863407e-02,  9.92475194e-02,  1.34881844e-01,  9.83044959e-02,\n",
       "         8.67224632e-02,  1.93950340e-02,  8.25791897e-02,  1.45022135e-01,\n",
       "         5.14958803e-02, -3.62374677e-02,  1.55241007e-01,  7.07948174e-02,\n",
       "         7.01821990e-02, -1.79035685e-02,  1.09346653e-01,  1.32566280e-01,\n",
       "         4.95072277e-02,  5.43662037e-02,  1.29604598e-02,  7.64275464e-02,\n",
       "         1.13942128e-01, -1.53838938e-02,  1.35788257e-01,  1.41820402e-01,\n",
       "         9.84858741e-02,  2.83116194e-02,  4.18623482e-02,  5.01696174e-02,\n",
       "         9.38651306e-02,  8.41439244e-02,  1.13317402e-01,  1.32794654e-01,\n",
       "         4.40134277e-02,  6.05698676e-02,  1.41508661e-01,  7.81297266e-02,\n",
       "         9.76709161e-02,  3.84723928e-02,  1.01396350e-01,  5.32250998e-02,\n",
       "         1.28843383e-01,  1.36825511e-01,  1.66502972e-01,  4.22157727e-02,\n",
       "         5.60468961e-02,  1.78294427e-01,  1.08891436e-01,  2.12161869e-02,\n",
       "         9.47811628e-02,  1.15652635e-01,  6.88751268e-02,  2.59159903e-02,\n",
       "         1.14660845e-01,  2.16403441e-02, -1.11420826e-03,  9.67518690e-02,\n",
       "         4.61359844e-02,  1.65213846e-01,  6.50238771e-03,  4.73925196e-02,\n",
       "         3.11458107e-02,  8.15505020e-02,  9.89100313e-02,  4.01328895e-02,\n",
       "         9.80698048e-02,  1.08410952e-01,  1.49512277e-01,  1.58926288e-01,\n",
       "         2.48256627e-02,  2.57773005e-02,  1.14800301e-01,  1.20475479e-01,\n",
       "         1.06352571e-01,  1.73098728e-01, -1.56430877e-02,  1.09852167e-01,\n",
       "         7.35494224e-02,  1.40951126e-01, -3.38277686e-03,  2.08319425e-02,\n",
       "         3.59774603e-02,  1.35839273e-01,  1.62485754e-01,  1.35225410e-02,\n",
       "        -5.65021604e-02,  1.23784604e-01,  8.84375170e-02,  7.95408880e-02,\n",
       "         8.68222452e-02, -8.26826567e-03,  2.46596944e-02,  5.83907439e-02,\n",
       "        -5.41057656e-03,  1.04625888e-01,  1.45260128e-01,  1.12469087e-01,\n",
       "         1.05764456e-01,  2.42653521e-02,  1.71552754e-02, -2.34425934e-02,\n",
       "         5.28191283e-02,  9.22940788e-02,  1.80480490e-02,  4.83577967e-02,\n",
       "         7.24239677e-02,  2.57336070e-02,  1.71835589e-01,  2.75509791e-02,\n",
       "         1.14276362e-01, -1.39335854e-03,  8.07057290e-02,  8.81000289e-02,\n",
       "         7.38232605e-02,  1.31903412e-01,  3.67439391e-02,  1.44683116e-01,\n",
       "         2.66862498e-02,  1.26601088e-01,  3.54421790e-02,  2.12715097e-02,\n",
       "        -1.51843299e-02,  1.17852242e-01,  3.40799754e-03,  1.14008075e-01,\n",
       "         3.22209676e-02,  1.22371672e-01,  3.81450026e-02,  5.63050850e-02,\n",
       "         8.51582071e-02,  8.43111848e-02,  1.15290884e-01,  4.55650496e-02,\n",
       "         1.35534615e-01,  1.10475888e-01,  4.02490865e-02,  4.32100990e-02,\n",
       "         5.33066961e-02,  8.58140404e-02,  3.38615079e-02,  1.08732790e-01,\n",
       "         1.14699753e-01, -8.27448709e-05,  6.11978959e-02,  3.66994799e-02,\n",
       "         9.05312637e-02,  2.26283533e-02,  2.33998140e-01,  1.10530445e-01,\n",
       "         1.88657540e-01,  6.73987841e-02,  1.42801328e-01,  1.11331525e-01,\n",
       "         3.77700903e-02,  1.08452252e-02,  1.13322714e-01,  8.95839330e-02,\n",
       "         2.91942473e-03,  9.88890699e-02,  6.78908983e-02,  1.31164738e-01,\n",
       "         1.51561803e-01,  1.72132925e-01,  1.34481185e-01,  9.42430579e-02,\n",
       "         1.39585668e-02,  4.05608274e-02,  4.57600672e-02,  1.63210022e-01,\n",
       "         8.84011456e-02,  6.90047237e-02,  1.13065530e-01,  3.54732382e-02,\n",
       "         1.43629686e-01,  6.11933495e-02,  7.80569839e-02,  9.57547670e-02,\n",
       "         9.93531399e-02,  4.53692663e-02,  1.31458533e-01, -1.04582530e-02,\n",
       "         2.70740356e-02, -3.66527714e-02,  6.15452425e-02,  1.11925431e-01,\n",
       "         3.08714461e-02,  7.25197297e-02,  8.85135619e-02,  1.05822315e-01,\n",
       "         1.34299280e-01, -6.64969176e-03,  6.75354639e-02,  7.47832254e-02,\n",
       "         7.25515546e-02,  1.34894479e-01, -3.27280132e-02,  1.05393851e-01,\n",
       "         1.32470805e-01,  1.16641171e-01,  5.36530377e-02,  2.07324141e-01,\n",
       "         1.02419725e-01,  6.25484224e-02,  4.04976561e-02,  6.71946737e-02,\n",
       "         5.71144916e-02,  7.11212026e-02,  6.96893191e-02,  1.62660815e-01,\n",
       "         1.13302231e-01,  6.86760414e-02,  3.76058927e-02,  1.34387194e-01,\n",
       "         7.91270679e-02,  1.38376128e-01,  1.47313436e-01,  2.73372495e-02,\n",
       "         8.58632853e-02,  3.60803051e-02,  6.00348256e-02,  8.38203149e-02,\n",
       "         1.11811005e-01,  1.98991604e-01, -5.68618541e-03,  9.92066016e-02,\n",
       "         6.78818055e-02,  1.52111011e-01,  9.59101110e-02,  1.27016152e-01,\n",
       "         1.27577994e-01,  1.05730860e-01,  1.42131377e-01,  1.17360128e-01,\n",
       "         1.21304842e-01,  6.61533518e-02, -3.83910837e-02,  6.46575791e-02,\n",
       "         4.91927111e-02,  8.22540488e-02,  2.02473014e-01,  2.22774652e-02,\n",
       "         3.25933434e-02,  1.04296823e-02,  1.40247531e-02,  5.18283434e-02,\n",
       "         1.65991667e-01,  5.85347458e-02,  2.66665327e-02,  1.51364010e-01,\n",
       "         6.75799231e-02,  1.62282648e-01,  5.75932058e-02,  2.12512278e-01,\n",
       "         7.68453865e-02,  4.61629280e-03,  3.47924236e-02,  4.92942638e-02,\n",
       "         1.68536323e-02,  1.85368611e-02,  8.29055749e-02,  1.27643176e-01,\n",
       "         1.59557332e-01,  1.19297238e-01,  5.15274660e-02,  7.30221810e-02,\n",
       "         1.06974426e-02,  8.47530013e-02,  2.22989578e-01,  6.86914514e-02]))"
      ]
     },
     "execution_count": 548,
     "metadata": {},
     "output_type": "execute_result"
    }
   ],
   "source": [
    "# Solution goes here\n",
    "Ha_results"
   ]
  },
  {
   "cell_type": "code",
   "execution_count": 549,
   "metadata": {},
   "outputs": [],
   "source": [
    "# Solution goes here\n",
    "summary_results = dsa.SummarizeEstimates(Ha_results[1])"
   ]
  },
  {
   "cell_type": "code",
   "execution_count": 550,
   "metadata": {},
   "outputs": [
    {
     "data": {
      "text/plain": [
       "((0.07892901854006731,\n",
       "  0.05426864640909877,\n",
       "  (-0.023145496733640414, 0.18564651668739884)),\n",
       " 0.0029450859830757892)"
      ]
     },
     "execution_count": 550,
     "metadata": {},
     "output_type": "execute_result"
    }
   ],
   "source": [
    "# Solution goes here\n",
    "# These results are similar to what is obtained by the author using parametric methods\n",
    "# The variance is given by summary_results[1]**2 which matches with the author's results\n",
    "summary_results, summary_results[1]**2"
   ]
  },
  {
   "cell_type": "code",
   "execution_count": 551,
   "metadata": {},
   "outputs": [
    {
     "data": {
      "text/plain": [
       "(0.07803726677754952, 0.003211435677916389, 2.7919014146686947)"
      ]
     },
     "execution_count": 551,
     "metadata": {},
     "output_type": "execute_result"
    }
   ],
   "source": [
    "# Try a parametric version of the same thing\n",
    "# The standard deviations need to be converted to standard errors first\n",
    "mean_diff=firsts.prglngth.mean() - others.prglngth.mean()\n",
    "firsts_std_error = firsts.prglngth.std() / np.sqrt(len(firsts.prglngth))\n",
    "others_std_error = others.prglngth.std() / np.sqrt(len(others.prglngth))\n",
    "variance=firsts_std_error**2 + others_std_error**2\n",
    "mean_diff, variance, firsts.prglngth.std()"
   ]
  },
  {
   "cell_type": "code",
   "execution_count": 576,
   "metadata": {},
   "outputs": [
    {
     "data": {
      "text/plain": [
       "(0.05666953041905667, (-0.03303297186459858, 0.18910750541969762))"
      ]
     },
     "execution_count": 576,
     "metadata": {},
     "output_type": "execute_result"
    }
   ],
   "source": [
    "# This gives the same kind of result as the non-parametric method\n",
    "mean_diff_norm = stats.norm(mean_diff, np.sqrt(variance))\n",
    "mean_diff_norm.std(), mean_diff_norm.interval(0.95)"
   ]
  },
  {
   "cell_type": "code",
   "execution_count": 553,
   "metadata": {},
   "outputs": [
    {
     "data": {
      "text/plain": [
       "(-0.03304794176118778, 0.18912247531628681)"
      ]
     },
     "execution_count": 553,
     "metadata": {},
     "output_type": "execute_result"
    }
   ],
   "source": [
    "# Can try the statsmodels compare means method too\n",
    "import statsmodels.stats.api as sms\n",
    "cm = sms.CompareMeans(sms.DescrStatsW(firsts.prglngth), sms.DescrStatsW(others.prglngth))\n",
    "cm.tconfint_diff(usevar='unequal')"
   ]
  },
  {
   "cell_type": "markdown",
   "metadata": {},
   "source": [
    "**Exercise:** [In a recent paper](http://ieeexplore.ieee.org/document/7044435/), Stein et al. investigate the effects of an intervention intended to mitigate gender-stereotypical task allocation within student engineering teams.\n",
    "\n",
    "Before and after the intervention, students responded to a survey that asked them to rate their contribution to each aspect of class projects on a 7-point scale.\n",
    "\n",
    "Before the intervention, male students reported higher scores for the programming aspect of the project than female students; on average men reported a score of 3.57 with standard error 0.28. Women reported 1.91, on average, with standard error 0.32.\n",
    "\n",
    "Compute the sampling distribution of the gender gap (the difference in means), and test whether it is statistically significant. Because you are given standard errors for the estimated means, you don’t need to know the sample size to figure out the sampling distributions.\n",
    "\n",
    "After the intervention, the gender gap was smaller: the average score for men was 3.44 (SE 0.16); the average score for women was 3.18 (SE 0.16). Again, compute the sampling distribution of the gender gap and test it.\n",
    "\n",
    "Finally, estimate the change in gender gap; what is the sampling distribution of this change, and is it statistically significant?"
   ]
  },
  {
   "cell_type": "code",
   "execution_count": 554,
   "metadata": {},
   "outputs": [],
   "source": [
    "# Solution goes here\n",
    "xs=np.linspace(-3,3,101)\n",
    "ps=stats.norm.cdf(xs)"
   ]
  },
  {
   "cell_type": "code",
   "execution_count": 555,
   "metadata": {},
   "outputs": [
    {
     "data": {
      "text/plain": [
       "array([0.0013499 , 0.00164106, 0.00198838, 0.00240118, 0.00289007,\n",
       "       0.00346697, 0.0041453 , 0.00494002, 0.00586774, 0.00694685,\n",
       "       0.00819754, 0.00964187, 0.01130384, 0.01320938, 0.01538633,\n",
       "       0.01786442, 0.02067516, 0.02385176, 0.02742895, 0.03144276,\n",
       "       0.03593032, 0.04092951, 0.04647866, 0.05261614, 0.05937994,\n",
       "       0.0668072 , 0.0749337 , 0.08379332, 0.09341751, 0.10383468,\n",
       "       0.11506967, 0.12714315, 0.14007109, 0.15386423, 0.16852761,\n",
       "       0.18406013, 0.20045419, 0.21769544, 0.2357625 , 0.25462691,\n",
       "       0.27425312, 0.29459852, 0.3156137 , 0.33724273, 0.35942357,\n",
       "       0.38208858, 0.40516513, 0.42857628, 0.45224157, 0.47607782,\n",
       "       0.5       , 0.52392218, 0.54775843, 0.57142372, 0.59483487,\n",
       "       0.61791142, 0.64057643, 0.66275727, 0.6843863 , 0.70540148,\n",
       "       0.72574688, 0.74537309, 0.7642375 , 0.78230456, 0.79954581,\n",
       "       0.81593987, 0.83147239, 0.84613577, 0.85992891, 0.87285685,\n",
       "       0.88493033, 0.89616532, 0.90658249, 0.91620668, 0.9250663 ,\n",
       "       0.9331928 , 0.94062006, 0.94738386, 0.95352134, 0.95907049,\n",
       "       0.96406968, 0.96855724, 0.97257105, 0.97614824, 0.97932484,\n",
       "       0.98213558, 0.98461367, 0.98679062, 0.98869616, 0.99035813,\n",
       "       0.99180246, 0.99305315, 0.99413226, 0.99505998, 0.9958547 ,\n",
       "       0.99653303, 0.99710993, 0.99759882, 0.99801162, 0.99835894,\n",
       "       0.9986501 ])"
      ]
     },
     "execution_count": 555,
     "metadata": {},
     "output_type": "execute_result"
    }
   ],
   "source": [
    "# Solution goes here\n",
    "ps"
   ]
  },
  {
   "cell_type": "code",
   "execution_count": 556,
   "metadata": {},
   "outputs": [
    {
     "data": {
      "text/plain": [
       "0.425205832509386"
      ]
     },
     "execution_count": 556,
     "metadata": {},
     "output_type": "execute_result"
    }
   ],
   "source": [
    "# Solution goes here\n",
    "# When subtracting normal distributions the means are subtracted but the variances are added\n",
    "before_gap=3.57-1.91\n",
    "before_var= 0.28**2 + 0.32**2\n",
    "before_std=np.sqrt(before_var)\n",
    "before_rv = stats.norm(before_gap, before_std)\n",
    "before_std"
   ]
  },
  {
   "cell_type": "code",
   "execution_count": 557,
   "metadata": {},
   "outputs": [
    {
     "data": {
      "text/plain": [
       "(1.66, 4.730953232082172e-05)"
      ]
     },
     "execution_count": 557,
     "metadata": {},
     "output_type": "execute_result"
    }
   ],
   "source": [
    "# Solution goes here\n",
    "# significant\n",
    "before_rv.mean(), before_rv.cdf(0)"
   ]
  },
  {
   "cell_type": "code",
   "execution_count": 558,
   "metadata": {},
   "outputs": [
    {
     "data": {
      "text/plain": [
       "0.2262741699796952"
      ]
     },
     "execution_count": 558,
     "metadata": {},
     "output_type": "execute_result"
    }
   ],
   "source": [
    "# Solution goes here\n",
    "after_gap=3.44-3.18\n",
    "after_var=0.16**2 + 0.16**2\n",
    "after_std=np.sqrt(after_var)\n",
    "after_rv=stats.norm(after_gap, after_std)\n",
    "after_std"
   ]
  },
  {
   "cell_type": "code",
   "execution_count": 559,
   "metadata": {},
   "outputs": [
    {
     "data": {
      "text/plain": [
       "(0.2599999999999998, 0.12526798720681914)"
      ]
     },
     "execution_count": 559,
     "metadata": {},
     "output_type": "execute_result"
    }
   ],
   "source": [
    "# after the intervention it is no longer significant\n",
    "after_rv.mean(), after_rv.cdf(0)"
   ]
  },
  {
   "cell_type": "markdown",
   "metadata": {},
   "source": [
    "Try making sampling distribution for difference of means. See if the p-value obtained using the null hypothesis sampling distribution equal the p-value for the difference of means sampling distribution"
   ]
  },
  {
   "cell_type": "code",
   "execution_count": 560,
   "metadata": {},
   "outputs": [
    {
     "data": {
      "text/plain": [
       "0.07803726677754952"
      ]
     },
     "execution_count": 560,
     "metadata": {},
     "output_type": "execute_result"
    }
   ],
   "source": [
    "mean_diff = firsts.prglngth.mean() - others.prglngth.mean()\n",
    "mean_diff"
   ]
  },
  {
   "cell_type": "code",
   "execution_count": 561,
   "metadata": {},
   "outputs": [],
   "source": [
    "# Try with current resample function, should actually be for the null hypothesis so cannot get the confidence interval\n",
    "diff_list = dsa.ResampleDiffMeans_H0(firsts.prglngth, others.prglngth, onesided=True)"
   ]
  },
  {
   "cell_type": "code",
   "execution_count": 562,
   "metadata": {},
   "outputs": [
    {
     "data": {
      "text/plain": [
       "0.002546272065996668"
      ]
     },
     "execution_count": 562,
     "metadata": {},
     "output_type": "execute_result"
    }
   ],
   "source": [
    "diff_list = np.array(diff_list[1])\n",
    "diff_list.mean()"
   ]
  },
  {
   "cell_type": "code",
   "execution_count": 563,
   "metadata": {},
   "outputs": [
    {
     "data": {
      "text/plain": [
       "0.0899999999999993"
      ]
     },
     "execution_count": 563,
     "metadata": {},
     "output_type": "execute_result"
    }
   ],
   "source": [
    "# P-value using the null hypothesis sampling distribution and the actual difference\n",
    "dsa.PvalueFromEstimates(diff_list, mean_diff, tail='right')"
   ]
  },
  {
   "cell_type": "code",
   "execution_count": 564,
   "metadata": {},
   "outputs": [],
   "source": [
    "def DiffMeansSampleDist(a,b,iters=1000):\n",
    "    a=pd.Series(a)\n",
    "    b=pd.Series(b)\n",
    "    \n",
    "    resample_dist = []\n",
    "    for _ in range(iters):\n",
    "        a_resample = a.sample(n=len(a), replace=True)\n",
    "        b_resample = b.sample(n=len(b), replace=True)\n",
    "        resample_diff = np.mean(a_resample) - np.mean(b_resample)\n",
    "        resample_dist.append(resample_diff)\n",
    "    \n",
    "    return np.array(resample_dist)"
   ]
  },
  {
   "cell_type": "code",
   "execution_count": 565,
   "metadata": {},
   "outputs": [],
   "source": [
    "firsts_sample = firsts.prglngth.sample(n=len(firsts.prglngth), replace=True)"
   ]
  },
  {
   "cell_type": "code",
   "execution_count": 566,
   "metadata": {},
   "outputs": [],
   "source": [
    "others_sample = others.prglngth.sample(n=len(others.prglngth), replace=True)"
   ]
  },
  {
   "cell_type": "code",
   "execution_count": 567,
   "metadata": {},
   "outputs": [
    {
     "data": {
      "text/plain": [
       "0.15550096659313795"
      ]
     },
     "execution_count": 567,
     "metadata": {},
     "output_type": "execute_result"
    }
   ],
   "source": [
    "sample_diff = firsts_sample.mean() - others_sample.mean()\n",
    "sample_diff"
   ]
  },
  {
   "cell_type": "code",
   "execution_count": 568,
   "metadata": {},
   "outputs": [
    {
     "data": {
      "text/plain": [
       "0.07882990004333454"
      ]
     },
     "execution_count": 568,
     "metadata": {},
     "output_type": "execute_result"
    }
   ],
   "source": [
    "resample_dist = DiffMeansSampleDist(firsts.prglngth, others.prglngth)\n",
    "resample_dist.mean()"
   ]
  },
  {
   "cell_type": "code",
   "execution_count": 569,
   "metadata": {},
   "outputs": [
    {
     "data": {
      "text/plain": [
       "(0.07882990004333454,\n",
       " 0.05752740691597031,\n",
       " (-0.031172610634172315, 0.1903518714865413))"
      ]
     },
     "execution_count": 569,
     "metadata": {},
     "output_type": "execute_result"
    }
   ],
   "source": [
    "results = dsa.SummarizeEstimates(resample_dist)\n",
    "results"
   ]
  },
  {
   "cell_type": "code",
   "execution_count": 570,
   "metadata": {},
   "outputs": [
    {
     "data": {
      "text/plain": [
       "0.9169999999999999"
      ]
     },
     "execution_count": 570,
     "metadata": {},
     "output_type": "execute_result"
    }
   ],
   "source": [
    "# The p-value at zero from using the sampling distribution of the difference of the means\n",
    "# is very close to the value obtained using the null hypothesis sampling distribution at the actual difference of the means\n",
    "dsa.PvalueFromEstimates(resample_dist, 0)"
   ]
  },
  {
   "cell_type": "code",
   "execution_count": 571,
   "metadata": {},
   "outputs": [],
   "source": [
    "def ResampleDiffMeans_Ha(a, b, iters=1000):\n",
    "    \"\"\"Generates a difference in means sampling distribution for the alternative hypothesis that two groups differ via resampling of each group. \n",
    "    In this case the resampling is done on each sample separately. \n",
    "    (ie. assuming the alternative hypothesis that the samples are different)\n",
    "    Can then make an rv of this distribution to calculate sample distribution mean, std deviation (std error), and confidence interval (rv.interval). \n",
    "    If a p-value needs to be calculated use the the H0 version of this function.\n",
    "\n",
    "    Args:\n",
    "        a (array-like): Input data set 1\n",
    "        b (array-like): Input data set 2\n",
    "        iters (int, optional): The number of simulations to run (Defaults to 1000)\n",
    "        \n",
    "    Returns:\n",
    "        test_diff: Original actual difference in means value\n",
    "        diff_mean_results (array): Sampling distribution for the alternative hypothesis obtained from resampling\n",
    "    \"\"\"\n",
    "    a=pd.Series(a)\n",
    "    b=pd.Series(b)\n",
    "    \n",
    "    diff_mean_results = []\n",
    "    \n",
    "    test_diff = a.mean() - b.mean() # The test stat if onesided\n",
    "    \n",
    "    for _ in range(iters):\n",
    "        a_resample = a.sample(n=len(a), replace=True)\n",
    "        b_resample = b.sample(n=len(b), replace=True)\n",
    "        resample_diff = a_resample.mean() - b_resample.mean()\n",
    "        diff_mean_results.append(resample_diff)\n",
    "        \n",
    "    return test_diff, np.array(diff_mean_results)"
   ]
  },
  {
   "cell_type": "code",
   "execution_count": 572,
   "metadata": {},
   "outputs": [
    {
     "data": {
      "text/plain": [
       "(0.07803726677754952, 0.08183000968387781)"
      ]
     },
     "execution_count": 572,
     "metadata": {},
     "output_type": "execute_result"
    }
   ],
   "source": [
    "results = ResampleDiffMeans_Ha(firsts.prglngth, others.prglngth)\n",
    "results[0], results[1].mean()"
   ]
  },
  {
   "cell_type": "code",
   "execution_count": 573,
   "metadata": {},
   "outputs": [],
   "source": [
    "HaRv = dsa.DiscreteRv(results[1])"
   ]
  },
  {
   "cell_type": "code",
   "execution_count": 574,
   "metadata": {},
   "outputs": [
    {
     "data": {
      "text/plain": [
       "(-0.025233692045993905, 0.18815078135038732)"
      ]
     },
     "execution_count": 574,
     "metadata": {},
     "output_type": "execute_result"
    }
   ],
   "source": [
    "HaRv.interval(0.95)"
   ]
  },
  {
   "cell_type": "code",
   "execution_count": null,
   "metadata": {},
   "outputs": [],
   "source": []
  }
 ],
 "metadata": {
  "kernelspec": {
   "display_name": "Python 3",
   "language": "python",
   "name": "python3"
  },
  "language_info": {
   "codemirror_mode": {
    "name": "ipython",
    "version": 3
   },
   "file_extension": ".py",
   "mimetype": "text/x-python",
   "name": "python",
   "nbconvert_exporter": "python",
   "pygments_lexer": "ipython3",
   "version": "3.7.3"
  }
 },
 "nbformat": 4,
 "nbformat_minor": 1
}
