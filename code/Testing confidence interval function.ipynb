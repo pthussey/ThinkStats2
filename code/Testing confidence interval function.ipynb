{
 "cells": [
  {
   "cell_type": "code",
   "execution_count": 1,
   "metadata": {},
   "outputs": [],
   "source": [
    "import numpy as np\n",
    "import pandas as pd\n",
    "import scipy.stats as stats"
   ]
  },
  {
   "cell_type": "code",
   "execution_count": 15,
   "metadata": {},
   "outputs": [],
   "source": [
    "def conf_interval(a, conf_level):\n",
    "    \"\"\"\n",
    "    Calculate the confidence interval for the data distribution under the assumptions that it can be calculated using \n",
    "    a student-t distribution.\n",
    "    \n",
    "    Args:\n",
    "        a {array-like} -- A single input data set\n",
    "    \n",
    "    Returns:\n",
    "        start: Starting value of the interval\n",
    "        end: Ending value of the interval\n",
    "    \"\"\"\n",
    "\n",
    "    mean = np.mean(a)\n",
    "\n",
    "    conf_int = stats.sem(a) * stats.t.ppf((1 + conf_level) / 2, len(a) - 1)\n",
    "\n",
    "    start = mean - conf_int\n",
    "    end = mean + conf_int\n",
    "\n",
    "    return start, end "
   ]
  },
  {
   "cell_type": "code",
   "execution_count": 16,
   "metadata": {},
   "outputs": [],
   "source": [
    "import brfss\n",
    "df = brfss.ReadBrfss(nrows=None)"
   ]
  },
  {
   "cell_type": "code",
   "execution_count": 17,
   "metadata": {},
   "outputs": [],
   "source": [
    "heights = df.htm3.dropna()"
   ]
  },
  {
   "cell_type": "code",
   "execution_count": 23,
   "metadata": {},
   "outputs": [
    {
     "data": {
      "text/plain": [
       "(168.78349877227666, 168.8668804479693)"
      ]
     },
     "execution_count": 23,
     "metadata": {},
     "output_type": "execute_result"
    }
   ],
   "source": [
    "conf_interval(heights, .99)"
   ]
  },
  {
   "cell_type": "code",
   "execution_count": null,
   "metadata": {},
   "outputs": [],
   "source": []
  },
  {
   "cell_type": "code",
   "execution_count": null,
   "metadata": {},
   "outputs": [],
   "source": []
  }
 ],
 "metadata": {
  "kernelspec": {
   "display_name": "Python 3.7.3 64-bit ('base': conda)",
   "language": "python",
   "name": "python37364bitbaseconda24f47ca32af24772af08039f921d0b59"
  },
  "language_info": {
   "codemirror_mode": {
    "name": "ipython",
    "version": 3
   },
   "file_extension": ".py",
   "mimetype": "text/x-python",
   "name": "python",
   "nbconvert_exporter": "python",
   "pygments_lexer": "ipython3",
   "version": "3.7.3"
  }
 },
 "nbformat": 4,
 "nbformat_minor": 4
}
